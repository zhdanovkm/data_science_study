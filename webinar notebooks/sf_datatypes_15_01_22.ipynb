{
  "nbformat": 4,
  "nbformat_minor": 0,
  "metadata": {
    "kernelspec": {
      "display_name": "Python 3",
      "language": "python",
      "name": "python3"
    },
    "language_info": {
      "codemirror_mode": {
        "name": "ipython",
        "version": 3
      },
      "file_extension": ".py",
      "mimetype": "text/x-python",
      "name": "python",
      "nbconvert_exporter": "python",
      "pygments_lexer": "ipython3",
      "version": "3.8.5"
    },
    "colab": {
      "name": "sf_datatypes_15_01_22.ipynb",
      "provenance": [],
      "collapsed_sections": []
    }
  },
  "cells": [
    {
      "cell_type": "markdown",
      "metadata": {
        "id": "TcxRFPoHj0_L"
      },
      "source": [
        "# Типы данных в Python"
      ]
    },
    {
      "cell_type": "markdown",
      "metadata": {
        "id": "8ONOFUcIEeYK"
      },
      "source": [
        "Булыгин Олег  \n",
        "\n",
        "* [LinkedIn](linkedin.com/in/obulygin)  \n",
        "* [Telegram](https://t.me/obulygin91)  \n",
        "* [facebook](fb.com/obulygin91)  \n",
        "* [Vk](vk.com/obulygin91)  \n",
        "* email: obulygin91@ya.ru  \n",
        "\n",
        "[Сообщество по Python](https://yandex.ru/q/loves/pythontalk/) на Кью  \n",
        "[Сообщество по Data Science и анализу данных](https://yandex.ru/q/loves/datatalk/) на Кью "
      ]
    },
    {
      "cell_type": "markdown",
      "metadata": {
        "id": "Q_BX5eMGj0_T"
      },
      "source": [
        "## Списки (list)\n",
        "\n",
        "**Список** (list) в Python — это упорядоченная изменяемая коллекция объектов произвольных типов.\n",
        "\n",
        "\n",
        "\n",
        "\n",
        "В этом определении важна каждое слово. Мы будем к нему возвращаться по мере иллюстрации возможностей и свойств списков.\n",
        "\n",
        "\n",
        "\n",
        "* Когда мы называем список коллекцией, мы имеем в виду, что в одном списке может храниться множество объектов (например, чисел или строковых величин) \n",
        "\n",
        "\n",
        "* Говоря о том, что списки представляют собой упорядоченные коллекции, мы обращаем внимание на то, что каждый элемент в списке имеет свой порядковый номер.\n",
        "\n",
        "\n",
        "* Упоминание об изменяемости списков означает, что мы можем менять элементы списка уже после его объявления.\n",
        "\n",
        "\n",
        "* Выражение «произвольных типов» означает, что в списке могут храниться данные, относящиеся к любым типам из тех, с которыми работает Python. *То есть это могут быть также другие списки и словари*\n",
        "\n",
        "Список инициализируется при помощи [ ], элементы в списке разделяются запятыми."
      ]
    },
    {
      "cell_type": "code",
      "metadata": {
        "id": "fTScRlUHj0_U"
      },
      "source": [
        "month_list = ['Jan', 'Feb', 'Mar', 'Apr', 'May', 'Jun', 'Jul', 'Aug', 'Sep']\n",
        "income_list = [13000, 14000, 14300, 15000, 13800, 13000, 14900, 15200, 15300]\n",
        "income_by_months = [['Jan', 13000], ['Feb', 14000], ['Mar', 14300], ['Apr', 15000], ['May', 13800], ['Jun', 13000], ['Jul', 14900], ['Aug', 15200], ['Sep', 15300]]"
      ],
      "execution_count": null,
      "outputs": []
    },
    {
      "cell_type": "markdown",
      "metadata": {
        "id": "tNbqcywHj0_W"
      },
      "source": [
        "### Индексация и срезы (все аналогично строкам)\n",
        "– доступ к элементам объекта по их порядковому номеру в нем. Индексация элементов начинается с нуля.\n",
        "\n",
        "Получить значение элемента по индексу можно при помощи `[ ]`,\n",
        "например: `my_string[0]` и `my_string[-6]` (при обратной индексации).\n",
        "\n",
        "Можно “доставать” из строки несколько элементов при помощи “срезов” (slicing). Для указания интервала среза используется `:`\n",
        "\n",
        "`list[START:STOP:STEP]` - берёт срез от номера `START`, до `STOP` не включая его, с шагом `STEP`. По умолчанию `START` = 0, `STOP` = длина объекта, `STEP` = 1. Какие-либо (а возможно, и все) параметры могут быть опущены."
      ]
    },
    {
      "cell_type": "code",
      "metadata": {
        "id": "vYvJm_Bxj0_X",
        "colab": {
          "base_uri": "https://localhost:8080/"
        },
        "outputId": "67505c12-c545-43bf-e420-4e9d77127a22"
      },
      "source": [
        "# индексация элементов в списке\n",
        "month_list = ['Jan', 'Feb', 'Mar', 'Apr', 'May', 'Jun', 'Jul', 'Aug', 'Sep']\n",
        "print(month_list[2])\n",
        "print('--------------')\n",
        "print(month_list[-1])\n",
        "print('--------------')\n",
        "print(month_list[-4])"
      ],
      "execution_count": null,
      "outputs": [
        {
          "output_type": "stream",
          "name": "stdout",
          "text": [
            "Mar\n",
            "--------------\n",
            "Sep\n",
            "--------------\n",
            "Jun\n"
          ]
        }
      ]
    },
    {
      "cell_type": "code",
      "metadata": {
        "id": "gZiJ25xOj0_Y",
        "colab": {
          "base_uri": "https://localhost:8080/"
        },
        "outputId": "27aa6d23-dae2-4c37-c99c-2469945d4703"
      },
      "source": [
        "# срезы\n",
        "month_list = ['Jan', 'Feb', 'Mar', 'Apr', 'May', 'Jun', 'Jul', 'Aug', 'Sep']\n",
        "print(month_list[1:3])\n",
        "print('--------------')\n",
        "print(month_list[-8:-6])\n",
        "print('--------------')\n",
        "print(month_list[2:])\n",
        "print('--------------')\n",
        "print(month_list[:3])\n",
        "print('--------------')\n",
        "print(month_list[::2])\n",
        "print('--------------')\n",
        "print(month_list[4:8:3])\n",
        "print('--------------')\n",
        "print(month_list[::-1])"
      ],
      "execution_count": null,
      "outputs": [
        {
          "output_type": "stream",
          "name": "stdout",
          "text": [
            "['Feb', 'Mar']\n",
            "--------------\n",
            "['Feb', 'Mar']\n",
            "--------------\n",
            "['Mar', 'Apr', 'May', 'Jun', 'Jul', 'Aug', 'Sep']\n",
            "--------------\n",
            "['Jan', 'Feb', 'Mar']\n",
            "--------------\n",
            "['Jan', 'Mar', 'May', 'Jul', 'Sep']\n",
            "--------------\n",
            "['May', 'Aug']\n",
            "--------------\n",
            "['Sep', 'Aug', 'Jul', 'Jun', 'May', 'Apr', 'Mar', 'Feb', 'Jan']\n"
          ]
        }
      ]
    },
    {
      "cell_type": "code",
      "metadata": {
        "id": "kt7UoajXj0_Z",
        "colab": {
          "base_uri": "https://localhost:8080/",
          "height": 225
        },
        "outputId": "4f696529-faf2-485c-9002-34a455e65840"
      },
      "source": [
        "# можно обращаться к любому уровню вложенности\n",
        "income_by_months = [['Jan', 13000], ['Feb', 14000], ['Mar', 14300], ['Apr', 15000], ['May', 13800], ['Jun', 13000], ['Jul', 14900], ['Aug', 15200], ['Sep', 15300]]\n",
        "print(income_by_months[0][0])"
      ],
      "execution_count": null,
      "outputs": [
        {
          "output_type": "error",
          "ename": "TypeError",
          "evalue": "ignored",
          "traceback": [
            "\u001b[0;31m---------------------------------------------------------------------------\u001b[0m",
            "\u001b[0;31mTypeError\u001b[0m                                 Traceback (most recent call last)",
            "\u001b[0;32m<ipython-input-10-a6464fd903e9>\u001b[0m in \u001b[0;36m<module>\u001b[0;34m()\u001b[0m\n\u001b[1;32m      1\u001b[0m \u001b[0;31m# можно обращаться к любому уровню вложенности\u001b[0m\u001b[0;34m\u001b[0m\u001b[0;34m\u001b[0m\u001b[0;34m\u001b[0m\u001b[0m\n\u001b[1;32m      2\u001b[0m \u001b[0mincome_by_months\u001b[0m \u001b[0;34m=\u001b[0m \u001b[0;34m[\u001b[0m\u001b[0;34m[\u001b[0m\u001b[0;34m'Jan'\u001b[0m\u001b[0;34m,\u001b[0m \u001b[0;36m13000\u001b[0m\u001b[0;34m]\u001b[0m\u001b[0;34m,\u001b[0m \u001b[0;34m[\u001b[0m\u001b[0;34m'Feb'\u001b[0m\u001b[0;34m,\u001b[0m \u001b[0;36m14000\u001b[0m\u001b[0;34m]\u001b[0m\u001b[0;34m,\u001b[0m \u001b[0;34m[\u001b[0m\u001b[0;34m'Mar'\u001b[0m\u001b[0;34m,\u001b[0m \u001b[0;36m14300\u001b[0m\u001b[0;34m]\u001b[0m\u001b[0;34m,\u001b[0m \u001b[0;34m[\u001b[0m\u001b[0;34m'Apr'\u001b[0m\u001b[0;34m,\u001b[0m \u001b[0;36m15000\u001b[0m\u001b[0;34m]\u001b[0m\u001b[0;34m,\u001b[0m \u001b[0;34m[\u001b[0m\u001b[0;34m'May'\u001b[0m\u001b[0;34m,\u001b[0m \u001b[0;36m13800\u001b[0m\u001b[0;34m]\u001b[0m\u001b[0;34m,\u001b[0m \u001b[0;34m[\u001b[0m\u001b[0;34m'Jun'\u001b[0m\u001b[0;34m,\u001b[0m \u001b[0;36m13000\u001b[0m\u001b[0;34m]\u001b[0m\u001b[0;34m,\u001b[0m \u001b[0;34m[\u001b[0m\u001b[0;34m'Jul'\u001b[0m\u001b[0;34m,\u001b[0m \u001b[0;36m14900\u001b[0m\u001b[0;34m]\u001b[0m\u001b[0;34m,\u001b[0m \u001b[0;34m[\u001b[0m\u001b[0;34m'Aug'\u001b[0m\u001b[0;34m,\u001b[0m \u001b[0;36m15200\u001b[0m\u001b[0;34m]\u001b[0m\u001b[0;34m,\u001b[0m \u001b[0;34m[\u001b[0m\u001b[0;34m'Sep'\u001b[0m\u001b[0;34m,\u001b[0m \u001b[0;36m15300\u001b[0m\u001b[0;34m]\u001b[0m\u001b[0;34m]\u001b[0m\u001b[0;34m\u001b[0m\u001b[0;34m\u001b[0m\u001b[0m\n\u001b[0;32m----> 3\u001b[0;31m \u001b[0mprint\u001b[0m\u001b[0;34m(\u001b[0m\u001b[0mincome_by_months\u001b[0m\u001b[0;34m[\u001b[0m\u001b[0;36m0\u001b[0m\u001b[0;34m]\u001b[0m\u001b[0;34m[\u001b[0m\u001b[0;36m1\u001b[0m\u001b[0;34m]\u001b[0m\u001b[0;34m[\u001b[0m\u001b[0;36m0\u001b[0m\u001b[0;34m]\u001b[0m\u001b[0;34m)\u001b[0m\u001b[0;34m\u001b[0m\u001b[0;34m\u001b[0m\u001b[0m\n\u001b[0m",
            "\u001b[0;31mTypeError\u001b[0m: 'int' object is not subscriptable"
          ]
        }
      ]
    },
    {
      "cell_type": "markdown",
      "metadata": {
        "id": "y9QyIRiXFhXr"
      },
      "source": [
        "**Практика**\n",
        "\n",
        "В вашем распоряжении есть некоторая информация о пользователях банка и их статусе: ушли ли они от нас или нет. Необходимо организовать программу, которая:\n",
        "  * Расчитает среднее по признаку кредитного рейтинга для ушедших клиентов\n",
        "  * Выведет идентификаторы и фамилии клиентов, которые ушли от банка в формате: `Фамилия (id)`"
      ]
    },
    {
      "cell_type": "code",
      "metadata": {
        "id": "BZ-A3v8OziwY"
      },
      "source": [
        "users = [\n",
        "            [15634602, 15647311, 15619304, 15701354], # id\n",
        "            ['Hargrave', 'Hill', 'Onio', 'Boni'], # фамилия\n",
        "            [619, 608, 502, 699], # кредитный рейтинг\n",
        "            ['Female', 'Female', 'Female', 'Female'], # пол\n",
        "            [42, 41, 42, 39], # возраст\n",
        "            [1, 0, 1, 0] # статус (1 - клиент активен, 0 - ушел)\n",
        "         ]"
      ],
      "execution_count": null,
      "outputs": []
    },
    {
      "cell_type": "code",
      "source": [
        "print((users[2][1] + users[2][3]) / 2)"
      ],
      "metadata": {
        "colab": {
          "base_uri": "https://localhost:8080/"
        },
        "id": "_L_c30O66Hx-",
        "outputId": "3aea3209-b1f9-480b-ad77-20802351d2c6"
      },
      "execution_count": null,
      "outputs": [
        {
          "output_type": "stream",
          "name": "stdout",
          "text": [
            "653.5\n"
          ]
        }
      ]
    },
    {
      "cell_type": "code",
      "source": [
        "sredkred_= round(sum(users[2]) / len(users[2]), 2)\n",
        "print('Средний кредитный рейтинг: ', sredkred_) "
      ],
      "metadata": {
        "colab": {
          "base_uri": "https://localhost:8080/"
        },
        "id": "T1aXCjH36zeF",
        "outputId": "80d7743e-10df-4f2b-93ed-02697413197f"
      },
      "execution_count": null,
      "outputs": [
        {
          "output_type": "stream",
          "name": "stdout",
          "text": [
            "Средний кредитный рейтинг:  607.0\n"
          ]
        }
      ]
    },
    {
      "cell_type": "code",
      "source": [
        "print(users[0][0], users[1][0], users[0][2], users[1][2]) "
      ],
      "metadata": {
        "colab": {
          "base_uri": "https://localhost:8080/"
        },
        "id": "ELMJMa6h7Mzr",
        "outputId": "8e815d43-ff4b-4cc9-d284-db337dc30447"
      },
      "execution_count": null,
      "outputs": [
        {
          "output_type": "stream",
          "name": "stdout",
          "text": [
            "15634602 Hargrave 15619304 Onio\n"
          ]
        }
      ]
    },
    {
      "cell_type": "code",
      "source": [
        "print('{} ({})'.format(users[1][1], users[0][1])) \n",
        "print('{} ({})'.format(users[1][3], users[0][3])) "
      ],
      "metadata": {
        "colab": {
          "base_uri": "https://localhost:8080/"
        },
        "id": "W6hx7r8Q74-I",
        "outputId": "cc6a49c8-0123-427c-b7c7-3a3831d7da4a"
      },
      "execution_count": null,
      "outputs": [
        {
          "output_type": "stream",
          "name": "stdout",
          "text": [
            "Hill(15647311)\n",
            "Boni(15701354)\n"
          ]
        }
      ]
    },
    {
      "cell_type": "code",
      "source": [
        "print(f\"{users[1][0]} ({users[1][0]}), {users[1][2]} ({users[0][2]})\") "
      ],
      "metadata": {
        "colab": {
          "base_uri": "https://localhost:8080/"
        },
        "id": "ihg9devI8DBh",
        "outputId": "b30a386f-6a71-491c-c981-c4cc0c093bc7"
      },
      "execution_count": null,
      "outputs": [
        {
          "output_type": "stream",
          "name": "stdout",
          "text": [
            "Hargrave (Hargrave), Onio (15619304)\n"
          ]
        }
      ]
    },
    {
      "cell_type": "markdown",
      "metadata": {
        "id": "_OtGDOLhkCHZ"
      },
      "source": [
        "### Списки — изменяемый тип данных"
      ]
    },
    {
      "cell_type": "code",
      "metadata": {
        "id": "VfIdtDVWj0_a",
        "colab": {
          "base_uri": "https://localhost:8080/"
        },
        "outputId": "4ef41141-6eea-4d13-e397-1c0daa2faaf4"
      },
      "source": [
        "# изменение списков\n",
        "income_by_months[0][1] = 13100\n",
        "print(income_by_months)"
      ],
      "execution_count": null,
      "outputs": [
        {
          "output_type": "stream",
          "name": "stdout",
          "text": [
            "[['Jan', 13100], ['Feb', 14000], ['Mar', 14300], ['Apr', 15000], ['May', 13800], ['Jun', 13000], ['Jul', 14900], ['Aug', 15200], ['Sep', 15300]]\n"
          ]
        }
      ]
    },
    {
      "cell_type": "code",
      "metadata": {
        "id": "s34lHxzuj0_b",
        "colab": {
          "base_uri": "https://localhost:8080/"
        },
        "outputId": "47af35e2-bd62-45e8-c565-6668669b5a3a"
      },
      "source": [
        "# можем заменять сразу срез\n",
        "income_by_months[:2] = [['Jan', 13200], ['Feb', 13900]]\n",
        "print(income_by_months)"
      ],
      "execution_count": null,
      "outputs": [
        {
          "output_type": "stream",
          "name": "stdout",
          "text": [
            "[['Jan', 13200], ['Feb', 13900], ['Mar', 14300], ['Apr', 15000], ['May', 13800], ['Jun', 13000], ['Jul', 14900], ['Aug', 15200], ['Sep', 15300]]\n"
          ]
        }
      ]
    },
    {
      "cell_type": "markdown",
      "metadata": {
        "id": "ARhqePI9j0_f"
      },
      "source": [
        "### Операции со списками\n",
        "\n",
        "Со всеми операциями над списками можно ознакомиться по [ссылке](https://docs.python.org/3/tutorial/datastructures.html#more-on-lists). "
      ]
    },
    {
      "cell_type": "code",
      "metadata": {
        "id": "ujH2zrovls_j",
        "colab": {
          "base_uri": "https://localhost:8080/"
        },
        "outputId": "04c96d32-5e0e-4f04-cb7e-69796b5a2a64"
      },
      "source": [
        "# можем складывать списки\n",
        "income_by_months_2 = [['Oct', 13200], ['Nov', 15400], ['Dec', 17000]]\n",
        "income_by_month = income_by_months + income_by_months_2\n",
        "print(income_by_month)"
      ],
      "execution_count": null,
      "outputs": [
        {
          "output_type": "stream",
          "name": "stdout",
          "text": [
            "[['Jan', 13200], ['Feb', 13900], ['Mar', 14300], ['Apr', 15000], ['May', 13800], ['Jun', 13000], ['Jul', 14900], ['Aug', 15200], ['Sep', 15300], ['Oct', 13200], ['Nov', 15400], ['Dec', 17000]]\n"
          ]
        }
      ]
    },
    {
      "cell_type": "code",
      "metadata": {
        "id": "FFoViOH2j0_f",
        "colab": {
          "base_uri": "https://localhost:8080/"
        },
        "outputId": "900acfe1-1b91-480a-a224-5c38e6e2b01d"
      },
      "source": [
        "# Удаляем элемент по индексу\n",
        "print(income_by_months)\n",
        "del(income_by_months[-1])\n",
        "print(income_by_months)"
      ],
      "execution_count": null,
      "outputs": [
        {
          "output_type": "stream",
          "name": "stdout",
          "text": [
            "[['Jan', 13200], ['Feb', 13900], ['Mar', 14300], ['Apr', 15000], ['May', 13800], ['Jun', 13000], ['Jul', 14900], ['Aug', 15200]]\n",
            "[['Jan', 13200], ['Feb', 13900], ['Mar', 14300], ['Apr', 15000], ['May', 13800], ['Jun', 13000], ['Jul', 14900]]\n"
          ]
        }
      ]
    },
    {
      "cell_type": "code",
      "metadata": {
        "id": "Ict64rScj0_g",
        "colab": {
          "base_uri": "https://localhost:8080/"
        },
        "outputId": "1ab4412e-5041-48f9-9d13-4628505411d4"
      },
      "source": [
        "# удаляем элемент по значению\n",
        "month_list.remove('Sep')\n",
        "print(month_list)"
      ],
      "execution_count": null,
      "outputs": [
        {
          "output_type": "stream",
          "name": "stdout",
          "text": [
            "['Jan', 'Feb', 'Mar', 'Apr', 'May', 'Jun', 'Jul', 'Aug']\n"
          ]
        }
      ]
    },
    {
      "cell_type": "code",
      "metadata": {
        "id": "ZRD8Q2yqj0_g",
        "colab": {
          "base_uri": "https://localhost:8080/"
        },
        "outputId": "4b216ea6-3dcc-4e45-88a7-972cf43f9b20"
      },
      "source": [
        "# добавляем элемент в конец списка\n",
        "income_by_months.append(['Dec', 17000])\n",
        "print(income_by_months)"
      ],
      "execution_count": null,
      "outputs": [
        {
          "output_type": "stream",
          "name": "stdout",
          "text": [
            "[['Jan', 13200], ['Feb', 13900], ['Mar', 14300], ['Apr', 15000], ['May', 13800], ['Jun', 13000], ['Jul', 14900], ['Dec', 17000]]\n"
          ]
        }
      ]
    },
    {
      "cell_type": "code",
      "metadata": {
        "id": "Us-EbiLYj0_g",
        "colab": {
          "base_uri": "https://localhost:8080/"
        },
        "outputId": "eb8c51d6-b932-4e3c-a2a2-d2fa177f107d"
      },
      "source": [
        "# добавляем элемент по нужному индексу\n",
        "income_list.insert(2, 1111111)\n",
        "print(income_list)"
      ],
      "execution_count": null,
      "outputs": [
        {
          "output_type": "stream",
          "name": "stdout",
          "text": [
            "[13000, 14000, 1111111, 14300, 15000, 13800, 13000, 14900, 15200, 15300]\n"
          ]
        }
      ]
    },
    {
      "cell_type": "code",
      "metadata": {
        "id": "vvfqT4wrj0_h",
        "colab": {
          "base_uri": "https://localhost:8080/"
        },
        "outputId": "24c85cd4-2bd8-487d-c380-b05136f485f8"
      },
      "source": [
        "# считаем количество вхождений элемента в список\n",
        "print(income_list.count(13000))"
      ],
      "execution_count": null,
      "outputs": [
        {
          "output_type": "stream",
          "name": "stdout",
          "text": [
            "0\n"
          ]
        }
      ]
    },
    {
      "cell_type": "code",
      "metadata": {
        "id": "HHTUK90yj0_h",
        "colab": {
          "base_uri": "https://localhost:8080/"
        },
        "outputId": "b8f47746-3a08-4c47-adec-ec7685a750db"
      },
      "source": [
        "# узнаем индекс элемента в списка (только первое вхождение!)\n",
        "print(income_list.index(13000))\n",
        "income_list.index(13000, 1)"
      ],
      "execution_count": null,
      "outputs": [
        {
          "output_type": "stream",
          "name": "stdout",
          "text": [
            "0\n"
          ]
        },
        {
          "output_type": "execute_result",
          "data": {
            "text/plain": [
              "6"
            ]
          },
          "metadata": {},
          "execution_count": 35
        }
      ]
    },
    {
      "cell_type": "code",
      "metadata": {
        "id": "hAEQ9ntFj0_h",
        "colab": {
          "base_uri": "https://localhost:8080/"
        },
        "outputId": "8db2f3ee-01b8-45f9-d6eb-527eabda6627"
      },
      "source": [
        "# разворачиваем список\n",
        "month_list.reverse()\n",
        "print(month_list)"
      ],
      "execution_count": null,
      "outputs": [
        {
          "output_type": "stream",
          "name": "stdout",
          "text": [
            "['Sep', 'Aug', 'Jul', 'Jun', 'May', 'Apr', 'Mar', 'Feb', 'Jan']\n"
          ]
        }
      ]
    },
    {
      "cell_type": "markdown",
      "metadata": {
        "id": "RECqX1Fs_Tuo"
      },
      "source": [
        "Несколько функций, применительно к списка. Многие из них работают и с другими типами данных, читайте документацию :) "
      ]
    },
    {
      "cell_type": "code",
      "metadata": {
        "id": "EWnJwwnWj0_h",
        "colab": {
          "base_uri": "https://localhost:8080/"
        },
        "outputId": "cb8c5e59-9454-417b-a4e4-f7a5c4538ecc"
      },
      "source": [
        "# узнаем длину списка\n",
        "print(len(income_list))"
      ],
      "execution_count": null,
      "outputs": [
        {
          "output_type": "stream",
          "name": "stdout",
          "text": [
            "10\n"
          ]
        }
      ]
    },
    {
      "cell_type": "markdown",
      "metadata": {
        "id": "XQe7nsuY__r7"
      },
      "source": [
        "**Практика**\n",
        "\n",
        "Определите длину каждого из этих списков"
      ]
    },
    {
      "cell_type": "code",
      "metadata": {
        "id": "TkYg2RmtA66L",
        "colab": {
          "base_uri": "https://localhost:8080/"
        },
        "outputId": "7348da7c-4a9f-47c7-90d3-c5ddeb929f04"
      },
      "source": [
        "a = [1, 2, 3]\n",
        "b = [1, [2, 3]]\n",
        "c = []\n",
        "d = [1, 2, 3][1:]\n",
        "\n",
        "# print(len(d))"
      ],
      "execution_count": null,
      "outputs": [
        {
          "output_type": "stream",
          "name": "stdout",
          "text": [
            "2\n"
          ]
        }
      ]
    },
    {
      "cell_type": "code",
      "metadata": {
        "id": "OoRAvZT-j0_i",
        "colab": {
          "base_uri": "https://localhost:8080/"
        },
        "outputId": "d127fc51-f2cf-42ee-c39e-1afe6507f865"
      },
      "source": [
        "# сумма элементов\n",
        "print(sum(income_list))"
      ],
      "execution_count": null,
      "outputs": [
        {
          "output_type": "stream",
          "name": "stdout",
          "text": [
            "1239611\n"
          ]
        }
      ]
    },
    {
      "cell_type": "code",
      "metadata": {
        "id": "O_KWlBKYj0_i",
        "colab": {
          "base_uri": "https://localhost:8080/"
        },
        "outputId": "10ca88dd-5769-4e97-cff0-2dc3182b407d"
      },
      "source": [
        "# максимальный элемент элементов\n",
        "print(max(income_list))"
      ],
      "execution_count": null,
      "outputs": [
        {
          "output_type": "stream",
          "name": "stdout",
          "text": [
            "1111111\n"
          ]
        }
      ]
    },
    {
      "cell_type": "code",
      "metadata": {
        "id": "RQ3MfT75j0_i",
        "colab": {
          "base_uri": "https://localhost:8080/"
        },
        "outputId": "0b880f69-69ce-4d88-8816-3f333f241203"
      },
      "source": [
        "# минимальный элемент элементов\n",
        "print(min(income_list))"
      ],
      "execution_count": null,
      "outputs": [
        {
          "output_type": "stream",
          "name": "stdout",
          "text": [
            "13000\n"
          ]
        }
      ]
    },
    {
      "cell_type": "code",
      "metadata": {
        "id": "l4hYsPwVj0_i",
        "colab": {
          "base_uri": "https://localhost:8080/"
        },
        "outputId": "6949c7f8-7ddb-4764-c67d-8c4f29a36ac1"
      },
      "source": [
        "# сортировка по возрастанию\n",
        "print(sorted(income_list))"
      ],
      "execution_count": null,
      "outputs": [
        {
          "output_type": "stream",
          "name": "stdout",
          "text": [
            "[13000, 13000, 13800, 14000, 14300, 14900, 15000, 15200, 15300, 1111111]\n"
          ]
        }
      ]
    },
    {
      "cell_type": "code",
      "metadata": {
        "id": "uH7KoTrNj0_i",
        "colab": {
          "base_uri": "https://localhost:8080/"
        },
        "outputId": "e6b04c5e-18eb-49bf-cf66-5abf6f0fc605"
      },
      "source": [
        "# изменить порядок сортировки\n",
        "print(sorted(income_list, reverse=True))"
      ],
      "execution_count": null,
      "outputs": [
        {
          "output_type": "stream",
          "name": "stdout",
          "text": [
            "[1111111, 15300, 15200, 15000, 14900, 14300, 14000, 13800, 13000, 13000]\n"
          ]
        }
      ]
    },
    {
      "cell_type": "code",
      "metadata": {
        "id": "pfHVGk_0j0_j",
        "colab": {
          "base_uri": "https://localhost:8080/"
        },
        "outputId": "0f4b1477-2d40-4dc5-db8d-49d91363a4bf"
      },
      "source": [
        "# а это сортировка строк по алфавиту\n",
        "print(sorted(month_list))"
      ],
      "execution_count": null,
      "outputs": [
        {
          "output_type": "stream",
          "name": "stdout",
          "text": [
            "['Apr', 'Aug', 'Feb', 'Jan', 'Jul', 'Jun', 'Mar', 'May', 'Sep']\n"
          ]
        }
      ]
    },
    {
      "cell_type": "code",
      "metadata": {
        "id": "qKX-XxNJ4wJ5",
        "colab": {
          "base_uri": "https://localhost:8080/"
        },
        "outputId": "f9f53ad8-a666-4362-f016-bbe929fbd906"
      },
      "source": [
        "queries_string = \"смотреть сериалы онлайн,новости спорта,афиша кино,курс доллара,сериалы этим летом,курс по питону,сериалы про спорт\"\n",
        "\n",
        "# преобразование строки в список (например, из CSV-файла)\n",
        "# print(queries_string.split(','))\n",
        "\n",
        "# Преобразование списка в строку\n",
        "\n",
        "print(','.join(['Столбец 1', 'Столбец 2', 'Столбец 3']))"
      ],
      "execution_count": null,
      "outputs": [
        {
          "output_type": "stream",
          "name": "stdout",
          "text": [
            "Столбец 1,Столбец 2,Столбец 3\n"
          ]
        }
      ]
    },
    {
      "cell_type": "code",
      "source": [
        "print(sorted(['Столбец 114363473467', 'Столбец 211', 'Столбец 3111'], key = lambda x: len(x))[-1])"
      ],
      "metadata": {
        "colab": {
          "base_uri": "https://localhost:8080/"
        },
        "id": "AuIBqFw0_VTn",
        "outputId": "809bdecf-1ef2-4dc0-c10e-66ddd5a66bcd"
      },
      "execution_count": null,
      "outputs": [
        {
          "output_type": "stream",
          "name": "stdout",
          "text": [
            "Столбец 114363473467\n"
          ]
        }
      ]
    },
    {
      "cell_type": "markdown",
      "metadata": {
        "id": "orUv9Otaj0_j"
      },
      "source": [
        "Методы изменяемых типов данных всегда меняют исходный, объект, а не создают новый!  \n",
        "Методы неизменыемых типов данных всегда возвращают новый объект и не меняют исходный."
      ]
    },
    {
      "cell_type": "code",
      "metadata": {
        "id": "foJom8SGj0_j",
        "colab": {
          "base_uri": "https://localhost:8080/"
        },
        "outputId": "48537d63-bf3b-4aa2-83ae-790e5051d323"
      },
      "source": [
        "month_list = ['Jan', 'Feb', 'Mar', 'Apr', 'May', 'Jun', 'Jul', 'Aug', 'Sep']\n",
        "\n",
        "res = month_list.sort()\n",
        "print(res)\n",
        "print(month_list)"
      ],
      "execution_count": null,
      "outputs": [
        {
          "output_type": "stream",
          "name": "stdout",
          "text": [
            "None\n",
            "['Apr', 'Aug', 'Feb', 'Jan', 'Jul', 'Jun', 'Mar', 'May', 'Sep']\n"
          ]
        }
      ]
    },
    {
      "cell_type": "code",
      "source": [
        "# надо так\n",
        "month_list.sort()\n",
        "print(month_list)"
      ],
      "metadata": {
        "id": "c8Lts1R_AwiC"
      },
      "execution_count": null,
      "outputs": []
    },
    {
      "cell_type": "code",
      "metadata": {
        "id": "cSbXJCW2j0_j",
        "colab": {
          "base_uri": "https://localhost:8080/"
        },
        "outputId": "c7040d29-28ad-413c-a5c7-2a04964c4bad"
      },
      "source": [
        "month_list = ['Jan', 'Feb', 'Mar', 'Apr', 'May', 'Jun', 'Jul', 'Aug', 'Sep']\n",
        "\n",
        "sorted(month_list) # функция sorted создает новый объект\n",
        "print(month_list)"
      ],
      "execution_count": null,
      "outputs": [
        {
          "output_type": "stream",
          "name": "stdout",
          "text": [
            "['Jan', 'Feb', 'Mar', 'Apr', 'May', 'Jun', 'Jul', 'Aug', 'Sep']\n"
          ]
        }
      ]
    },
    {
      "cell_type": "code",
      "metadata": {
        "id": "CTV7dfvhj0_k",
        "colab": {
          "base_uri": "https://localhost:8080/"
        },
        "outputId": "932afd14-a1c1-4bc0-a358-7c9bac37f4cc"
      },
      "source": [
        "month_list = ['Jan', 'Feb', 'Mar', 'Apr', 'May', 'Jun', 'Jul', 'Aug', 'Sep']\n",
        "\n",
        "res = sorted(month_list)\n",
        "print(res)\n",
        "print(month_list)"
      ],
      "execution_count": null,
      "outputs": [
        {
          "output_type": "stream",
          "name": "stdout",
          "text": [
            "['Apr', 'Aug', 'Feb', 'Jan', 'Jul', 'Jun', 'Mar', 'May', 'Sep']\n",
            "['Jan', 'Feb', 'Mar', 'Apr', 'May', 'Jun', 'Jul', 'Aug', 'Sep']\n"
          ]
        }
      ]
    },
    {
      "cell_type": "markdown",
      "metadata": {
        "id": "sWJY5S7Gj0_k"
      },
      "source": [
        "В примере ниже переменная `a` и `b` на самом деле указывают на один и тот же объект. В результате, при добавлении в `b` очередного элемента этот элемент добавляется и в исходном листе `a`. Это особенность всех изменяемых типов данных в Python"
      ]
    },
    {
      "cell_type": "code",
      "source": [
        "x = 5\n",
        "y = x\n",
        "\n",
        "x += 1\n",
        "print(y)"
      ],
      "metadata": {
        "colab": {
          "base_uri": "https://localhost:8080/"
        },
        "id": "5vNL7cyhBPz0",
        "outputId": "cb367291-1c20-4e5f-d765-4b5214a9409b"
      },
      "execution_count": null,
      "outputs": [
        {
          "output_type": "stream",
          "name": "stdout",
          "text": [
            "5\n"
          ]
        }
      ]
    },
    {
      "cell_type": "code",
      "metadata": {
        "id": "CjP4tHZwj0_k"
      },
      "source": [
        "a = [1, 2, 3]\n",
        "b = a"
      ],
      "execution_count": null,
      "outputs": []
    },
    {
      "cell_type": "code",
      "metadata": {
        "id": "v2nE2la_j0_k",
        "colab": {
          "base_uri": "https://localhost:8080/"
        },
        "outputId": "b3495661-82cb-48a1-9e8e-a9429ad971ca"
      },
      "source": [
        "b.append(4)\n",
        "print(a)"
      ],
      "execution_count": null,
      "outputs": [
        {
          "output_type": "stream",
          "name": "stdout",
          "text": [
            "[1, 2, 3, 4]\n"
          ]
        }
      ]
    },
    {
      "cell_type": "code",
      "metadata": {
        "id": "2vodzYw9j0_l",
        "colab": {
          "base_uri": "https://localhost:8080/"
        },
        "outputId": "e9ebe315-bc1e-4988-a45e-9b8d39bb0026"
      },
      "source": [
        "print(id(a))\n",
        "print(id(b))"
      ],
      "execution_count": null,
      "outputs": [
        {
          "output_type": "stream",
          "name": "stdout",
          "text": [
            "140582009999184\n",
            "140582009999184\n"
          ]
        }
      ]
    },
    {
      "cell_type": "code",
      "metadata": {
        "id": "nuLRzRpBj0_l",
        "colab": {
          "base_uri": "https://localhost:8080/"
        },
        "outputId": "83fd1060-84d0-40cb-d12f-a4a96f5ea6d3"
      },
      "source": [
        "# создаем копию объекта \n",
        "a = [1, 2, 3]\n",
        "b = list(a)\n",
        "b.append(4)\n",
        "print(a)\n",
        "print(b)\n",
        "print(id(a))\n",
        "print(id(b))"
      ],
      "execution_count": null,
      "outputs": [
        {
          "output_type": "stream",
          "name": "stdout",
          "text": [
            "[1, 2, 3]\n",
            "[1, 2, 3, 4]\n",
            "140582010395376\n",
            "140582009362544\n"
          ]
        }
      ]
    },
    {
      "cell_type": "code",
      "metadata": {
        "id": "dbd9CdI1j0_l",
        "colab": {
          "base_uri": "https://localhost:8080/"
        },
        "outputId": "a9a5b7e8-0fc7-48c2-f0dc-1b8e163d6a63"
      },
      "source": [
        "# создаем копию объекта (другой способ)\n",
        "a = [1, 2, 3]\n",
        "b = a.copy()\n",
        "b.append(4)\n",
        "print(a)\n",
        "print(b)\n",
        "print(id(a))\n",
        "print(id(b))"
      ],
      "execution_count": null,
      "outputs": [
        {
          "output_type": "stream",
          "name": "stdout",
          "text": [
            "[1, 2, 3]\n",
            "[1, 2, 3, 4]\n",
            "140582010102320\n",
            "140582009287536\n"
          ]
        }
      ]
    },
    {
      "cell_type": "code",
      "metadata": {
        "scrolled": true,
        "id": "UDccHnk6j0_l",
        "colab": {
          "base_uri": "https://localhost:8080/"
        },
        "outputId": "6417c164-a3f1-47b7-9259-272088d961aa"
      },
      "source": [
        "# создаем копию объекта (еще способ)\n",
        "a = [1, 2, 3]\n",
        "b = a[:]\n",
        "b.append(4)\n",
        "print(a)\n",
        "print(b)\n",
        "print(id(a))\n",
        "print(id(b))"
      ],
      "execution_count": null,
      "outputs": [
        {
          "output_type": "stream",
          "name": "stdout",
          "text": [
            "[1, 2, 3]\n",
            "[1, 2, 3, 4]\n",
            "140582009554176\n",
            "140582009309536\n"
          ]
        }
      ]
    },
    {
      "cell_type": "markdown",
      "metadata": {
        "id": "n9sUMiyxj0_c"
      },
      "source": [
        "### Распаковка списков\n",
        "С кортежами будет работать так же"
      ]
    },
    {
      "cell_type": "code",
      "metadata": {
        "id": "jq64lKiOj0_d",
        "colab": {
          "base_uri": "https://localhost:8080/"
        },
        "outputId": "93984634-132c-4075-bff1-5d03d340853d"
      },
      "source": [
        "first, second, third = ['первый', 'второй', 'третий']\n",
        "print(first)"
      ],
      "execution_count": null,
      "outputs": [
        {
          "output_type": "stream",
          "name": "stdout",
          "text": [
            "первый\n"
          ]
        }
      ]
    },
    {
      "cell_type": "code",
      "metadata": {
        "id": "JzX5lGZfj0_d",
        "colab": {
          "base_uri": "https://localhost:8080/"
        },
        "outputId": "3d066243-bde6-4a38-c22a-6c64b63824ff"
      },
      "source": [
        "# когда число элементов неизвестно\n",
        "first, *other = ['первый', 'второй', 'третий']\n",
        "print(first, other)"
      ],
      "execution_count": null,
      "outputs": [
        {
          "output_type": "stream",
          "name": "stdout",
          "text": [
            "первый ['второй', 'третий']\n"
          ]
        }
      ]
    },
    {
      "cell_type": "code",
      "metadata": {
        "id": "Igt4K0UQj0_e",
        "colab": {
          "base_uri": "https://localhost:8080/"
        },
        "outputId": "baaa6c9f-9723-4f8c-8bc4-7ee9726f7561"
      },
      "source": [
        "first, *other, last =  ['первый', 'второй', 'третий', 'четвертый']\n",
        "print(first, last)\n",
        "print(other)"
      ],
      "execution_count": null,
      "outputs": [
        {
          "output_type": "stream",
          "name": "stdout",
          "text": [
            "первый четвертый\n",
            "['второй', 'третий']\n"
          ]
        }
      ]
    },
    {
      "cell_type": "markdown",
      "metadata": {
        "id": "5jhQY-PbAoiq"
      },
      "source": [
        "**Практика** \n",
        "4 участника гонок в начале занимали позиции согласно их порядку в представленном списке. Но к окончанию гонки первый участник оказался на последнем месте, а последний — на первом.  Измените список соответствущим образом максимально лаконично."
      ]
    },
    {
      "cell_type": "code",
      "metadata": {
        "id": "i-sCQxqFAKiK"
      },
      "source": [
        "racers = ['Schumacher', 'Hamilton', 'Alonso', 'Raikkonen']"
      ],
      "execution_count": null,
      "outputs": []
    },
    {
      "cell_type": "code",
      "metadata": {
        "id": "BQQfMkpmBfEX",
        "colab": {
          "base_uri": "https://localhost:8080/"
        },
        "outputId": "fe27ed3a-c45d-4616-c94d-7c4599f30cae"
      },
      "source": [
        "first, *other, last = ['1', '2', '3', '4'] \n",
        "first, last = last, first \n",
        "\n",
        "print(racers)"
      ],
      "execution_count": null,
      "outputs": [
        {
          "output_type": "stream",
          "name": "stdout",
          "text": [
            "['Schumacher', 'Hamilton', 'Alonso', 'Raikkonen']\n"
          ]
        }
      ]
    },
    {
      "cell_type": "code",
      "source": [
        "a, *b, c = racers \n",
        "print(c, b, a) \n",
        "\n",
        "print(racers)"
      ],
      "metadata": {
        "id": "DNzOs7B4FGmv"
      },
      "execution_count": null,
      "outputs": []
    },
    {
      "cell_type": "code",
      "source": [
        "racers[0], racers[-1] = racers[-1], racers[0] \n",
        "print(racers)"
      ],
      "metadata": {
        "colab": {
          "base_uri": "https://localhost:8080/"
        },
        "id": "dfOMV1kAFLHf",
        "outputId": "ebc08550-d7aa-4ffe-c427-fa48ef7cf8a1"
      },
      "execution_count": null,
      "outputs": [
        {
          "output_type": "stream",
          "name": "stdout",
          "text": [
            "['Raikkonen', 'Hamilton', 'Alonso', 'Schumacher']\n"
          ]
        }
      ]
    },
    {
      "cell_type": "markdown",
      "metadata": {
        "id": "Uq6ugPrDj0_l"
      },
      "source": [
        "### Проверка вхождения элемента в коллекцию\n",
        "(работает с любыми коллекциями, не только со списками)"
      ]
    },
    {
      "cell_type": "code",
      "metadata": {
        "id": "trxDhMntj0_m",
        "colab": {
          "base_uri": "https://localhost:8080/"
        },
        "outputId": "17f777d1-f3be-4a4d-beaa-6b9acc27466f"
      },
      "source": [
        "print('Москва' in ['Ленинград', 'Одесса', 'Севастополь', 'Москва'])\n",
        "print('Москва' not in ['Ленинград', 'Одесса', 'Севастополь', 'Москва'])"
      ],
      "execution_count": null,
      "outputs": [
        {
          "output_type": "stream",
          "name": "stdout",
          "text": [
            "False\n",
            "True\n"
          ]
        }
      ]
    },
    {
      "cell_type": "markdown",
      "metadata": {
        "id": "9-uU6iCnj0_x"
      },
      "source": [
        "## Кортежы (tuple)\n",
        "\n",
        "Это неизменяемые списки (нельзя добавлять или удалять элементы из уже созданного кортежа).\n",
        "Кортежи инициализируется при помощи ( ). С ними будут работать любые операции, как над списками, кроме тех, которые меняют исходный объект.\n",
        "\n",
        "Занимают меньше памяти."
      ]
    },
    {
      "cell_type": "code",
      "metadata": {
        "id": "yZUxmXu9j0_x",
        "colab": {
          "base_uri": "https://localhost:8080/"
        },
        "outputId": "f1cd5652-7c57-4b74-8fed-1485106a655f"
      },
      "source": [
        "salary_tuple = (1000, 1200, 1300, 900, 800)\n",
        "print(type(salary_tuple))\n",
        "\n",
        "# можем без проблем менять типы сложных структут при помощи соответствующих функций\n",
        "print(type(list(salary_tuple)))"
      ],
      "execution_count": null,
      "outputs": [
        {
          "output_type": "stream",
          "name": "stdout",
          "text": [
            "<class 'tuple'>\n",
            "<class 'list'>\n"
          ]
        }
      ]
    },
    {
      "cell_type": "code",
      "metadata": {
        "id": "Mm_PHq1Lj0_x",
        "colab": {
          "base_uri": "https://localhost:8080/",
          "height": 207
        },
        "outputId": "c02a3666-a648-4c2a-d007-1865213f23ec"
      },
      "source": [
        "print(salary_tuple[0])\n",
        "salary_tuple[0] = 500"
      ],
      "execution_count": null,
      "outputs": [
        {
          "output_type": "stream",
          "name": "stdout",
          "text": [
            "1000\n"
          ]
        },
        {
          "output_type": "error",
          "ename": "TypeError",
          "evalue": "ignored",
          "traceback": [
            "\u001b[0;31m---------------------------------------------------------------------------\u001b[0m",
            "\u001b[0;31mTypeError\u001b[0m                                 Traceback (most recent call last)",
            "\u001b[0;32m<ipython-input-86-3f0ae04f0e96>\u001b[0m in \u001b[0;36m<module>\u001b[0;34m()\u001b[0m\n\u001b[1;32m      1\u001b[0m \u001b[0mprint\u001b[0m\u001b[0;34m(\u001b[0m\u001b[0msalary_tuple\u001b[0m\u001b[0;34m[\u001b[0m\u001b[0;36m0\u001b[0m\u001b[0;34m]\u001b[0m\u001b[0;34m)\u001b[0m\u001b[0;34m\u001b[0m\u001b[0;34m\u001b[0m\u001b[0m\n\u001b[0;32m----> 2\u001b[0;31m \u001b[0msalary_tuple\u001b[0m\u001b[0;34m[\u001b[0m\u001b[0;36m0\u001b[0m\u001b[0;34m]\u001b[0m \u001b[0;34m=\u001b[0m \u001b[0;36m500\u001b[0m\u001b[0;34m\u001b[0m\u001b[0;34m\u001b[0m\u001b[0m\n\u001b[0m",
            "\u001b[0;31mTypeError\u001b[0m: 'tuple' object does not support item assignment"
          ]
        }
      ]
    },
    {
      "cell_type": "code",
      "metadata": {
        "id": "j7HEoTafj0_y"
      },
      "source": [
        "# кортеж из одного элемента задается так:\n",
        "one_el_tuple = ('one', )"
      ],
      "execution_count": null,
      "outputs": []
    },
    {
      "cell_type": "code",
      "metadata": {
        "id": "HeGvsscMj0_y",
        "colab": {
          "base_uri": "https://localhost:8080/"
        },
        "outputId": "ddf6da09-ed71-47a6-cfb9-58180b5e0a2d"
      },
      "source": [
        "# без запятой получится строка\n",
        "print(type( ('one') ))"
      ],
      "execution_count": null,
      "outputs": [
        {
          "output_type": "stream",
          "name": "stdout",
          "text": [
            "<class 'str'>\n"
          ]
        }
      ]
    },
    {
      "cell_type": "code",
      "source": [
        "salary_tuple = salary_tuple + salary_tuple \n",
        "print(salary_tuple)"
      ],
      "metadata": {
        "colab": {
          "base_uri": "https://localhost:8080/"
        },
        "id": "0rs77JibG4du",
        "outputId": "29fa25fa-aaeb-458c-fe48-435183b759f8"
      },
      "execution_count": null,
      "outputs": [
        {
          "output_type": "stream",
          "name": "stdout",
          "text": [
            "(1000, 1200, 1300, 900, 800, 1000, 1200, 1300, 900, 800)\n"
          ]
        }
      ]
    },
    {
      "cell_type": "code",
      "metadata": {
        "id": "Q1jTV28lj0_y",
        "colab": {
          "base_uri": "https://localhost:8080/"
        },
        "outputId": "83f64b3b-e362-4007-ed08-a6aa47977cde"
      },
      "source": [
        "# функция zip\n",
        "\n",
        "month_list = ['Jan', 'Feb', 'Mar', 'Apr', 'May', 'Jun', 'Jul', 'Aug', 'Sep']\n",
        "income_list = [13000, 14000, 14300, 15000, 13800, 13000, 14900, 15200, 15300]\n",
        "income_list_2 = [13000, 14000, 14300, 15000, 13800, 13000, 14900, 15200, 15300]\n",
        "\n",
        "income_by_month = zip(month_list, income_list, income_list_2)\n",
        "# print(income_by_month)\n",
        "print(list(income_by_month))"
      ],
      "execution_count": null,
      "outputs": [
        {
          "output_type": "stream",
          "name": "stdout",
          "text": [
            "[('Jan', 13000, 13000), ('Feb', 14000, 14000), ('Mar', 14300, 14300), ('Apr', 15000, 15000), ('May', 13800, 13800), ('Jun', 13000, 13000), ('Jul', 14900, 14900), ('Aug', 15200, 15200), ('Sep', 15300, 15300)]\n"
          ]
        }
      ]
    },
    {
      "cell_type": "code",
      "source": [
        "for el in zip(month_list, income_list, income_list_2):\n",
        "    print(el)"
      ],
      "metadata": {
        "colab": {
          "base_uri": "https://localhost:8080/"
        },
        "id": "fi2yZUM8I6VE",
        "outputId": "b41f70dc-ff09-450a-9b98-106068db0033"
      },
      "execution_count": null,
      "outputs": [
        {
          "output_type": "stream",
          "name": "stdout",
          "text": [
            "('Jan', 13000, 13000)\n",
            "('Feb', 14000, 14000)\n",
            "('Mar', 14300, 14300)\n",
            "('Apr', 15000, 15000)\n",
            "('May', 13800, 13800)\n",
            "('Jun', 13000, 13000)\n",
            "('Jul', 14900, 14900)\n",
            "('Aug', 15200, 15200)\n",
            "('Sep', 15300, 15300)\n"
          ]
        }
      ]
    },
    {
      "cell_type": "markdown",
      "metadata": {
        "id": "4WbISdemj0_r"
      },
      "source": [
        "## Словари (dict)\n",
        "\n",
        "**Словари** – коллекции произвольных объектов с доступом по ключу. В отличие от последовательностей, которые индексируются диапазоном чисел, словари индексируются по ключам, которые могут быть любым неизменяемым типом. Является изменяемым типом данных."
      ]
    },
    {
      "cell_type": "code",
      "metadata": {
        "id": "WnSpuWrlj0_r"
      },
      "source": [
        "salaries = {\n",
        "    'John': 1200,\n",
        "    'Mary': 500,\n",
        "    'Steven': 1000,\n",
        "    'Liza': 1500\n",
        "}"
      ],
      "execution_count": null,
      "outputs": []
    },
    {
      "cell_type": "markdown",
      "metadata": {
        "id": "VB-AINHsj0_r"
      },
      "source": [
        "### Операции над словарями\n",
        "Со всеми операциями над словарями можно ознакомиться по [ссылке](https://docs.python.org/3/library/stdtypes.html?highlight=dictionary#mapping-types-dict). "
      ]
    },
    {
      "cell_type": "code",
      "metadata": {
        "id": "XpM51Sf8CNKN",
        "colab": {
          "base_uri": "https://localhost:8080/"
        },
        "outputId": "cb246adf-6336-4e7e-fed6-38cd3b6e0aa0"
      },
      "source": [
        "# обращение к элементу словаря\n",
        "print(salaries['John'])"
      ],
      "execution_count": null,
      "outputs": [
        {
          "output_type": "stream",
          "name": "stdout",
          "text": [
            "1200\n"
          ]
        }
      ]
    },
    {
      "cell_type": "code",
      "metadata": {
        "id": "JEY876dpj0_s",
        "colab": {
          "base_uri": "https://localhost:8080/"
        },
        "outputId": "d75a0e46-351c-4f4b-9bfb-008f750ca014"
      },
      "source": [
        "# удаляем элемент из словаря\n",
        "del(salaries['Liza'])\n",
        "print(salaries)"
      ],
      "execution_count": null,
      "outputs": [
        {
          "output_type": "stream",
          "name": "stdout",
          "text": [
            "{'John': 1200, 'Mary': 500, 'Steven': 1000}\n"
          ]
        }
      ]
    },
    {
      "cell_type": "code",
      "metadata": {
        "id": "ViLnaGR0j0_s",
        "colab": {
          "base_uri": "https://localhost:8080/"
        },
        "outputId": "251b483e-bb07-4256-d5f7-f3aabe3dbda3"
      },
      "source": [
        "# добавляем элемент в словарь\n",
        "salaries['James'] = 2000\n",
        "print(salaries)"
      ],
      "execution_count": null,
      "outputs": [
        {
          "output_type": "stream",
          "name": "stdout",
          "text": [
            "{'John': 1200, 'Mary': 500, 'Steven': 1000, 'James': 2000}\n"
          ]
        }
      ]
    },
    {
      "cell_type": "code",
      "metadata": {
        "id": "J9ZOWktDj0_s",
        "colab": {
          "base_uri": "https://localhost:8080/"
        },
        "outputId": "758db692-f43f-4bd9-a5c6-28646baf999c"
      },
      "source": [
        "# изменяем значение по ключу\n",
        "salaries['Mary'] = 2000\n",
        "print(salaries)"
      ],
      "execution_count": null,
      "outputs": [
        {
          "output_type": "stream",
          "name": "stdout",
          "text": [
            "{'John': 1200, 'Mary': 2000, 'Steven': 1000, 'James': 2000}\n"
          ]
        }
      ]
    },
    {
      "cell_type": "code",
      "metadata": {
        "id": "QBgObgA6j0_s",
        "colab": {
          "base_uri": "https://localhost:8080/"
        },
        "outputId": "b8928230-973d-4d27-fcae-9b451bd7cd2b"
      },
      "source": [
        "# безопасно получаем значение по ключу\n",
        "# salaries['Oleg']\n",
        "print(salaries.get('Oleg', 'Not Found'))\n",
        "print(salaries.get('Mary', 'Not Found'))"
      ],
      "execution_count": null,
      "outputs": [
        {
          "output_type": "stream",
          "name": "stdout",
          "text": [
            "Not Found\n",
            "2000\n"
          ]
        }
      ]
    },
    {
      "cell_type": "code",
      "metadata": {
        "id": "4sA2g8NLj0_t",
        "colab": {
          "base_uri": "https://localhost:8080/"
        },
        "outputId": "47c8bdcc-b4d5-43aa-c984-2606b07748bd"
      },
      "source": [
        "# проверка на наличие ключа в словаре\n",
        "# с условиями еще не знакомы, но будет на следующих занятиях\n",
        "recruit = 'Amanda'\n",
        "\n",
        "if recruit in salaries:\n",
        "    print('Значение для ключа уже существует')\n",
        "else:\n",
        "    print('Добавляю новый ключ')\n",
        "    salaries[recruit] = 2200\n",
        "\n",
        "print(salaries)"
      ],
      "execution_count": null,
      "outputs": [
        {
          "output_type": "stream",
          "name": "stdout",
          "text": [
            "Значение для ключа уже существует\n",
            "{'John': 1200, 'Mary': 2000, 'Steven': 1000, 'James': 2000, 'Amanda': 2200}\n"
          ]
        }
      ]
    },
    {
      "cell_type": "code",
      "metadata": {
        "id": "WUaZA5QJj0_t",
        "colab": {
          "base_uri": "https://localhost:8080/"
        },
        "outputId": "6696d73f-3019-4bbe-957e-464b5459018e"
      },
      "source": [
        "# можно использовать метод setdefault\n",
        "# setdefault не изменяет значение, если ключ уже был в словаре\n",
        "\n",
        "# salaries.setdefault('Mary', 3000)\n",
        "# print(salaries)\n",
        "salaries.setdefault('Paul', 3000)\n",
        "print(salaries)"
      ],
      "execution_count": null,
      "outputs": [
        {
          "output_type": "stream",
          "name": "stdout",
          "text": [
            "{'John': 1200, 'Mary': 2000, 'Steven': 1000, 'James': 2000, 'Amanda': 2200, 'Paul': 3000}\n"
          ]
        }
      ]
    },
    {
      "cell_type": "markdown",
      "metadata": {
        "id": "arXb9fAJ5LXk"
      },
      "source": [
        "Часто бывает ситуация, что словарь необходимо дополнить. Тогда вам поможет метод `update()`"
      ]
    },
    {
      "cell_type": "code",
      "metadata": {
        "id": "4WZfF4PN5W5l",
        "colab": {
          "base_uri": "https://localhost:8080/"
        },
        "outputId": "152e27e1-7f05-480e-f7b1-ccf3c41d8ba1"
      },
      "source": [
        "employee_base = {\n",
        "    'Мария Никитина': 'менеджер', \n",
        "    'Егор Савичев': 'разработчик',\n",
        "    'Александр Пахомов': 'дизайнер',\n",
        "    'Алина Егорова': 'разработчик',\n",
        "    'Руслан Башаров': 'верстальщик'}\n",
        "new_base = {\n",
        "    'Роман Родимов': 'HR менеджер',\n",
        "    'Ксения Колесниченко': 'data scientist',\n",
        "    'Андрей Округов': 'аналитик данных'\n",
        "}\n",
        "employee_base.update(new_base)\n",
        "print(employee_base)"
      ],
      "execution_count": null,
      "outputs": [
        {
          "output_type": "stream",
          "name": "stdout",
          "text": [
            "{'Мария Никитина': 'менеджер', 'Егор Савичев': 'разработчик', 'Александр Пахомов': 'дизайнер', 'Алина Егорова': 'разработчик', 'Руслан Башаров': 'верстальщик', 'Роман Родимов': 'HR менеджер', 'Ксения Колесниченко': 'data scientist', 'Андрей Округов': 'аналитик данных'}\n"
          ]
        }
      ]
    },
    {
      "cell_type": "code",
      "metadata": {
        "id": "DsoNkGrRj0_t"
      },
      "source": [
        "# перейдем к более сложному словарю\n",
        "staff_dict = {\n",
        "    'Robert': {'salary': 800, 'bonus': 200}, \n",
        "    'Jane': {'salary': 200, 'bonus': 300}, \n",
        "    'Liza': {'salary': 1300, 'bonus': 200}, \n",
        "    'Richard': {'salary': 500, 'bonus': 1200}\n",
        "}"
      ],
      "execution_count": null,
      "outputs": []
    },
    {
      "cell_type": "code",
      "metadata": {
        "id": "X4k8iZScj0_t",
        "colab": {
          "base_uri": "https://localhost:8080/"
        },
        "outputId": "31670b28-0437-4821-83a2-1012e40176c4"
      },
      "source": [
        "print(staff_dict['Robert']['bonus'])\n",
        "staff_dict['Robert']['bonus'] = 1243124, 325365\n",
        "print(staff_dict)"
      ],
      "execution_count": null,
      "outputs": [
        {
          "output_type": "stream",
          "name": "stdout",
          "text": [
            "[1243124, 325365]\n",
            "{'Robert': {'salary': 800, 'bonus': (1243124, 325365)}, 'Jane': {'salary': 200, 'bonus': 300}, 'Liza': {'salary': 1300, 'bonus': 200}, 'Richard': {'salary': 500, 'bonus': 1200}, 'Oleg': {'salary': 1000000, 'bonus': 300}}\n"
          ]
        }
      ]
    },
    {
      "cell_type": "code",
      "metadata": {
        "id": "Jjo9x-VFj0_t",
        "colab": {
          "base_uri": "https://localhost:8080/"
        },
        "outputId": "04487c35-10d8-4a67-d91f-982b7a587e4f"
      },
      "source": [
        "staff_dict['Oleg'] = {'salary': 1000000, 'bonus': 300}\n",
        "print(staff_dict)"
      ],
      "execution_count": null,
      "outputs": [
        {
          "output_type": "stream",
          "name": "stdout",
          "text": [
            "{'Robert': {'salary': 800, 'bonus': 200}, 'Jane': {'salary': 200, 'bonus': 300}, 'Liza': {'salary': 1300, 'bonus': 200}, 'Richard': {'salary': 500, 'bonus': 1200}, 'Oleg': {'salary': 1000000, 'bonus': 300}}\n"
          ]
        }
      ]
    },
    {
      "cell_type": "code",
      "metadata": {
        "id": "47PPw4VLj0_u",
        "colab": {
          "base_uri": "https://localhost:8080/"
        },
        "outputId": "bb6d2d5c-5b77-4d37-8611-07825f59d484"
      },
      "source": [
        "# получаем только ключи/значения из словаря (очень пригодиться далее в циклах)\n",
        "# print(staff_dict.keys())\n",
        "# print(staff_dict.values())\n",
        "# print(staff_dict.items())\n",
        "\n",
        "print(list(staff_dict.keys()))\n",
        "print(list(staff_dict.values()))\n",
        "print(list(staff_dict.items()))"
      ],
      "execution_count": null,
      "outputs": [
        {
          "output_type": "stream",
          "name": "stdout",
          "text": [
            "['Robert', 'Jane', 'Liza', 'Richard', 'Oleg']\n",
            "[{'salary': 800, 'bonus': (1243124, 325365)}, {'salary': 200, 'bonus': 300}, {'salary': 1300, 'bonus': 200}, {'salary': 500, 'bonus': 1200}, {'salary': 1000000, 'bonus': 300}]\n",
            "[('Robert', {'salary': 800, 'bonus': (1243124, 325365)}), ('Jane', {'salary': 200, 'bonus': 300}), ('Liza', {'salary': 1300, 'bonus': 200}), ('Richard', {'salary': 500, 'bonus': 1200}), ('Oleg', {'salary': 1000000, 'bonus': 300})]\n"
          ]
        }
      ]
    },
    {
      "cell_type": "markdown",
      "metadata": {
        "id": "bzh-kkuA39C0"
      },
      "source": [
        "Создание словарей из двух последовательностей можно осуществить с помощью функции `zip`:\n"
      ]
    },
    {
      "cell_type": "code",
      "metadata": {
        "id": "cHqS2eE74CWT",
        "colab": {
          "base_uri": "https://localhost:8080/"
        },
        "outputId": "e5756198-ebde-41bb-ea22-1c9d2d3cd7f3"
      },
      "source": [
        "fruits = ['Банан', 'Яблоко', 'Персик', 'Манго', 'Апельсин']\n",
        "prices = ['76 рублей', '88 рублей', '137 рублей', '200 рублей', '130 рублей']\n",
        "fruit_dict = dict(zip(fruits, prices))\n",
        "print(fruit_dict)"
      ],
      "execution_count": null,
      "outputs": [
        {
          "output_type": "stream",
          "name": "stdout",
          "text": [
            "{'Банан': '76 рублей', 'Яблоко': '88 рублей', 'Персик': '137 рублей', 'Манго': '200 рублей', 'Апельсин': '130 рублей'}\n"
          ]
        }
      ]
    },
    {
      "cell_type": "markdown",
      "metadata": {
        "id": "B-s_uvIhm_EI"
      },
      "source": [
        "Как вы уже поняли, сложные вещи в этом мире тяжело описать простыми структурами, поэтому ровно так же как существуют вложенные списки, существуют и вложенные словари.\n",
        "\n",
        "Рассмотрим такую структуру на примере конфигурации сервера"
      ]
    },
    {
      "cell_type": "code",
      "metadata": {
        "id": "pVZJFVYQ9J4N"
      },
      "source": [
        "# Часто встречается при работе с конфигурационными файлами, JSON схемами и не только\n",
        "config = {\n",
        "    \"server\": {\n",
        "        \"host\": \"127.0.0.1\",\n",
        "        \"port\": \"22\"\n",
        "    },\n",
        "    \"configuration\": {\n",
        "        \"ssh\": {\n",
        "            \"access\": True,\n",
        "            \"login\": \"some_login\",\n",
        "            \"password\": \"some_password\"\n",
        "        },\n",
        "        \"name\": \"2491Oaaf1414\"\n",
        "    }\n",
        "}"
      ],
      "execution_count": null,
      "outputs": []
    },
    {
      "cell_type": "markdown",
      "metadata": {
        "id": "_YzA5qkpFi4j"
      },
      "source": [
        "**Практика**  \n",
        "Выведете на экран реквизиты и логин в формате:  \n",
        "`Имя пользователя: name, реквизиты: login+parol`"
      ]
    },
    {
      "cell_type": "code",
      "source": [
        "print(f'Имя пользователя: {config[\"configuration\"][\"name\"]}, реквизиты: \\\n",
        "{config[\"configuration\"][\"ssh\"][\"login\"]} + \\\n",
        "{config[\"configuration\"][\"ssh\"][\"password\"]}') "
      ],
      "metadata": {
        "colab": {
          "base_uri": "https://localhost:8080/"
        },
        "id": "fQmpq7AM2fu6",
        "outputId": "0196e55a-1d41-4298-debf-3b6eb6571166"
      },
      "execution_count": null,
      "outputs": [
        {
          "output_type": "stream",
          "name": "stdout",
          "text": [
            "Имя пользователя: 2491Oaaf1414, реквизиты: some_login + some_password\n"
          ]
        }
      ]
    },
    {
      "cell_type": "markdown",
      "metadata": {
        "id": "emLdGfVnFoLG"
      },
      "source": [
        "## Где такие сложные структуру можно встретить в реальной практике?"
      ]
    },
    {
      "cell_type": "code",
      "metadata": {
        "id": "-gHkrj8wD6uX"
      },
      "source": [
        "import requests\n",
        "import time\n",
        "params = {\n",
        "    'access_token': '958eb5d439726565e9333aa30e50e0f937ee432e927f0dbd541c541887d919a7c56f95c04217915c32008',\n",
        "    'v':'5.131',\n",
        "    'q': 'SkillFactory',\n",
        "    'start_from': '',\n",
        "    'count': 200,\n",
        "    'extended': 1\n",
        "}   \n",
        "res = []\n",
        "while True:\n",
        "\n",
        "    result = requests.get('https://api.vk.com/method/newsfeed.search', params)\n",
        "    time.sleep(0.33)\n",
        "    res += result.json()['response']['items']\n",
        "    if 'next_from' in result.json()['response'].keys():\n",
        "        params['start_from'] = result.json()['response']['next_from']\n",
        "    else:\n",
        "        break"
      ],
      "execution_count": null,
      "outputs": []
    },
    {
      "cell_type": "code",
      "metadata": {
        "id": "Ank0SfqYEQgU",
        "colab": {
          "base_uri": "https://localhost:8080/"
        },
        "outputId": "7eb041a5-1f47-4be5-be79-6bfee5f31455"
      },
      "source": [
        "print(type(res))\n",
        "print(len(res))"
      ],
      "execution_count": null,
      "outputs": [
        {
          "output_type": "stream",
          "name": "stdout",
          "text": [
            "<class 'list'>\n",
            "939\n"
          ]
        }
      ]
    },
    {
      "cell_type": "code",
      "metadata": {
        "id": "uUzOGZdIEUMm",
        "colab": {
          "base_uri": "https://localhost:8080/"
        },
        "outputId": "809b63b6-d81b-4682-fe7b-c7b5c691a84f"
      },
      "source": [
        "from pprint import pprint\n",
        "pprint(res[0])"
      ],
      "execution_count": null,
      "outputs": [
        {
          "output_type": "stream",
          "name": "stdout",
          "text": [
            "{'attachments': [{'link': {'caption': 'm.vk.com',\n",
            "                           'description': 'Статья',\n",
            "                           'photo': {'album_id': -27,\n",
            "                                     'date': 1642194271,\n",
            "                                     'has_tags': False,\n",
            "                                     'id': 457381049,\n",
            "                                     'owner_id': 2000021243,\n",
            "                                     'sizes': [{'height': 69,\n",
            "                                                'type': 's',\n",
            "                                                'url': 'https://sun9-77.userapi.com/impg/NKH0D5xM43gbQ23Is0obcbIPigAFOLZhWia5-g/elwfzAn1dVc.jpg?size=75x69&quality=96&sign=e613c79bea72a86e3f0045a7961e76f0&c_uniq_tag=0Woo0KCawYv1SpBqr3HUZoVoWVYyHR1z9t8cbQoSGKc&type=album',\n",
            "                                                'width': 75},\n",
            "                                               {'height': 119,\n",
            "                                                'type': 'm',\n",
            "                                                'url': 'https://sun9-77.userapi.com/impg/NKH0D5xM43gbQ23Is0obcbIPigAFOLZhWia5-g/elwfzAn1dVc.jpg?size=130x119&quality=96&sign=bf5aa0a51aa682cb3e51009dbc1d611a&c_uniq_tag=r0i6HynxjEJ-s7R5o5AtQcbX-36ya3u2qtBCD6_Kfxg&type=album',\n",
            "                                                'width': 130},\n",
            "                                               {'height': 476,\n",
            "                                                'type': 'x',\n",
            "                                                'url': 'https://sun9-77.userapi.com/impg/NKH0D5xM43gbQ23Is0obcbIPigAFOLZhWia5-g/elwfzAn1dVc.jpg?size=518x476&quality=96&sign=73763b653b7e5933eb7a93e862dd141d&c_uniq_tag=PdUXsd-5z9HqSKyZxoy5XFfjUjgGcHUHyCKGjiKwIus&type=album',\n",
            "                                                'width': 518},\n",
            "                                               {'height': 119,\n",
            "                                                'type': 'o',\n",
            "                                                'url': 'https://sun9-77.userapi.com/impg/NKH0D5xM43gbQ23Is0obcbIPigAFOLZhWia5-g/elwfzAn1dVc.jpg?size=130x119&quality=96&sign=bf5aa0a51aa682cb3e51009dbc1d611a&c_uniq_tag=r0i6HynxjEJ-s7R5o5AtQcbX-36ya3u2qtBCD6_Kfxg&type=album',\n",
            "                                                'width': 130},\n",
            "                                               {'height': 184,\n",
            "                                                'type': 'p',\n",
            "                                                'url': 'https://sun9-77.userapi.com/impg/NKH0D5xM43gbQ23Is0obcbIPigAFOLZhWia5-g/elwfzAn1dVc.jpg?size=200x184&quality=96&sign=888f3fd14d30e3398e82370780d6090a&c_uniq_tag=jZlJ6mtlS9t6a09W9sb9yiCRy_S1nVvKVELcb8QMrWo&type=album',\n",
            "                                                'width': 200},\n",
            "                                               {'height': 294,\n",
            "                                                'type': 'q',\n",
            "                                                'url': 'https://sun9-77.userapi.com/impg/NKH0D5xM43gbQ23Is0obcbIPigAFOLZhWia5-g/elwfzAn1dVc.jpg?size=320x294&quality=96&sign=a06a97d6e62fa5659a17994e920c7e44&c_uniq_tag=UHpoPGlx0bluSfBEP-dBMOBZSEMJGtm307Qm9eNTBWw&type=album',\n",
            "                                                'width': 320},\n",
            "                                               {'height': 469,\n",
            "                                                'type': 'r',\n",
            "                                                'url': 'https://sun9-77.userapi.com/impg/NKH0D5xM43gbQ23Is0obcbIPigAFOLZhWia5-g/elwfzAn1dVc.jpg?size=510x469&quality=96&sign=e6575de902c7135259006eb0b10c53f5&c_uniq_tag=WzObG-G8xOqvOgMSzsiwgIQXOQhaKlxCS7Gz1jB4Mvk&type=album',\n",
            "                                                'width': 510}],\n",
            "                                     'text': ''},\n",
            "                           'title': 'Как решить популярную в 2022 головоломку '\n",
            "                                    'Wordle на Python',\n",
            "                           'url': 'https://m.vk.com/@yinyangphilosophy-rss-767241001-887880549'},\n",
            "                  'type': 'link'}],\n",
            " 'comments': {'can_post': 1, 'count': 0, 'groups_can_post': True},\n",
            " 'date': 1642194271,\n",
            " 'donut': {'is_donut': False},\n",
            " 'from_id': -72739547,\n",
            " 'id': 15506,\n",
            " 'is_favorite': False,\n",
            " 'likes': {'can_like': 1, 'can_publish': 1, 'count': 0, 'user_likes': 0},\n",
            " 'marked_as_ads': 0,\n",
            " 'owner_id': -72739547,\n",
            " 'post_source': {'type': 'rss'},\n",
            " 'post_type': 'post',\n",
            " 'reposts': {'count': 0, 'user_reposted': 0},\n",
            " 'short_text_rate': 0.8,\n",
            " 'text': 'К старту курса по Fullstack-разработке на Python рассказываем, как '\n",
            "         'решать Wordle. Worlde — новая головоломка, которая захватила '\n",
            "         'внимание множества людей по всему миру. За подробностями приглашаем '\n",
            "         'под кат.',\n",
            " 'views': {'count': 32}}\n"
          ]
        }
      ]
    },
    {
      "cell_type": "code",
      "metadata": {
        "id": "5jaIyPsYD_jR",
        "colab": {
          "base_uri": "https://localhost:8080/"
        },
        "outputId": "ede56339-86b5-4592-9f5c-da38b9f5f556"
      },
      "source": [
        "pprint(res[150]['likes']['count'])\n",
        "pprint(res[150]['reposts']['count'])"
      ],
      "execution_count": null,
      "outputs": [
        {
          "output_type": "stream",
          "name": "stdout",
          "text": [
            "1\n",
            "1\n"
          ]
        }
      ]
    },
    {
      "cell_type": "code",
      "source": [
        "import pandas as pd\n",
        "pd.DataFrame(res)"
      ],
      "metadata": {
        "id": "1SGYFfPqQnB5",
        "outputId": "2e8e07f2-5d0d-469c-df29-9e23f679e61c",
        "colab": {
          "base_uri": "https://localhost:8080/",
          "height": 1000
        }
      },
      "execution_count": null,
      "outputs": [
        {
          "output_type": "execute_result",
          "data": {
            "text/html": [
              "\n",
              "  <div id=\"df-8b531353-fdec-4920-a58d-59f94fb15a6c\">\n",
              "    <div class=\"colab-df-container\">\n",
              "      <div>\n",
              "<style scoped>\n",
              "    .dataframe tbody tr th:only-of-type {\n",
              "        vertical-align: middle;\n",
              "    }\n",
              "\n",
              "    .dataframe tbody tr th {\n",
              "        vertical-align: top;\n",
              "    }\n",
              "\n",
              "    .dataframe thead th {\n",
              "        text-align: right;\n",
              "    }\n",
              "</style>\n",
              "<table border=\"1\" class=\"dataframe\">\n",
              "  <thead>\n",
              "    <tr style=\"text-align: right;\">\n",
              "      <th></th>\n",
              "      <th>id</th>\n",
              "      <th>date</th>\n",
              "      <th>owner_id</th>\n",
              "      <th>from_id</th>\n",
              "      <th>post_type</th>\n",
              "      <th>text</th>\n",
              "      <th>marked_as_ads</th>\n",
              "      <th>attachments</th>\n",
              "      <th>post_source</th>\n",
              "      <th>comments</th>\n",
              "      <th>likes</th>\n",
              "      <th>reposts</th>\n",
              "      <th>views</th>\n",
              "      <th>is_favorite</th>\n",
              "      <th>donut</th>\n",
              "      <th>short_text_rate</th>\n",
              "      <th>copyright</th>\n",
              "      <th>carousel_offset</th>\n",
              "      <th>signer_id</th>\n",
              "      <th>copy_history</th>\n",
              "      <th>geo</th>\n",
              "    </tr>\n",
              "  </thead>\n",
              "  <tbody>\n",
              "    <tr>\n",
              "      <th>0</th>\n",
              "      <td>15506</td>\n",
              "      <td>1642194271</td>\n",
              "      <td>-72739547</td>\n",
              "      <td>-72739547</td>\n",
              "      <td>post</td>\n",
              "      <td>К старту курса по Fullstack-разработке на Pyth...</td>\n",
              "      <td>0.0</td>\n",
              "      <td>[{'type': 'link', 'link': {'url': 'https://m.v...</td>\n",
              "      <td>{'type': 'rss'}</td>\n",
              "      <td>{'can_post': 1, 'count': 0, 'groups_can_post':...</td>\n",
              "      <td>{'can_like': 1, 'count': 0, 'user_likes': 0, '...</td>\n",
              "      <td>{'count': 0, 'user_reposted': 0}</td>\n",
              "      <td>{'count': 32}</td>\n",
              "      <td>False</td>\n",
              "      <td>{'is_donut': False}</td>\n",
              "      <td>0.8</td>\n",
              "      <td>NaN</td>\n",
              "      <td>NaN</td>\n",
              "      <td>NaN</td>\n",
              "      <td>NaN</td>\n",
              "      <td>NaN</td>\n",
              "    </tr>\n",
              "    <tr>\n",
              "      <th>1</th>\n",
              "      <td>1542</td>\n",
              "      <td>1642178306</td>\n",
              "      <td>542111512</td>\n",
              "      <td>542111512</td>\n",
              "      <td>post</td>\n",
              "      <td>https://kursy.guru/author/skillfactory/\\n#skil...</td>\n",
              "      <td>NaN</td>\n",
              "      <td>NaN</td>\n",
              "      <td>{'type': 'mvk'}</td>\n",
              "      <td>{'can_post': 0, 'count': 0, 'groups_can_post':...</td>\n",
              "      <td>{'can_like': 1, 'count': 0, 'user_likes': 0, '...</td>\n",
              "      <td>{'count': 0, 'user_reposted': 0}</td>\n",
              "      <td>{'count': 1}</td>\n",
              "      <td>False</td>\n",
              "      <td>{'is_donut': False}</td>\n",
              "      <td>0.8</td>\n",
              "      <td>NaN</td>\n",
              "      <td>NaN</td>\n",
              "      <td>NaN</td>\n",
              "      <td>NaN</td>\n",
              "      <td>NaN</td>\n",
              "    </tr>\n",
              "    <tr>\n",
              "      <th>2</th>\n",
              "      <td>6703</td>\n",
              "      <td>1642177974</td>\n",
              "      <td>324436665</td>\n",
              "      <td>324436665</td>\n",
              "      <td>post</td>\n",
              "      <td>https://kursy.guru/author/skillfactory/ \\n#ski...</td>\n",
              "      <td>NaN</td>\n",
              "      <td>[{'type': 'link', 'link': {'url': 'https://kur...</td>\n",
              "      <td>{'type': 'vk'}</td>\n",
              "      <td>{'can_post': 1, 'count': 0, 'groups_can_post':...</td>\n",
              "      <td>{'can_like': 1, 'count': 0, 'user_likes': 0, '...</td>\n",
              "      <td>{'count': 0, 'user_reposted': 0}</td>\n",
              "      <td>NaN</td>\n",
              "      <td>False</td>\n",
              "      <td>{'is_donut': False}</td>\n",
              "      <td>0.8</td>\n",
              "      <td>NaN</td>\n",
              "      <td>NaN</td>\n",
              "      <td>NaN</td>\n",
              "      <td>NaN</td>\n",
              "      <td>NaN</td>\n",
              "    </tr>\n",
              "    <tr>\n",
              "      <th>3</th>\n",
              "      <td>902</td>\n",
              "      <td>1642176993</td>\n",
              "      <td>534985152</td>\n",
              "      <td>534985152</td>\n",
              "      <td>post</td>\n",
              "      <td>https://kursy.guru/author/skillfactory/ \\n#ski...</td>\n",
              "      <td>NaN</td>\n",
              "      <td>[{'type': 'link', 'link': {'url': 'https://kur...</td>\n",
              "      <td>{'type': 'vk'}</td>\n",
              "      <td>{'can_post': 1, 'count': 0, 'groups_can_post':...</td>\n",
              "      <td>{'can_like': 1, 'count': 0, 'user_likes': 0, '...</td>\n",
              "      <td>{'count': 0, 'user_reposted': 0}</td>\n",
              "      <td>NaN</td>\n",
              "      <td>False</td>\n",
              "      <td>{'is_donut': False}</td>\n",
              "      <td>0.8</td>\n",
              "      <td>NaN</td>\n",
              "      <td>NaN</td>\n",
              "      <td>NaN</td>\n",
              "      <td>NaN</td>\n",
              "      <td>NaN</td>\n",
              "    </tr>\n",
              "    <tr>\n",
              "      <th>4</th>\n",
              "      <td>777</td>\n",
              "      <td>1642176976</td>\n",
              "      <td>534960534</td>\n",
              "      <td>534960534</td>\n",
              "      <td>post</td>\n",
              "      <td>https://kursy.guru/author/skillfactory/ \\n#ski...</td>\n",
              "      <td>NaN</td>\n",
              "      <td>[{'type': 'link', 'link': {'url': 'https://kur...</td>\n",
              "      <td>{'type': 'vk'}</td>\n",
              "      <td>{'can_post': 0, 'count': 0, 'groups_can_post':...</td>\n",
              "      <td>{'can_like': 1, 'count': 0, 'user_likes': 0, '...</td>\n",
              "      <td>{'count': 0, 'user_reposted': 0}</td>\n",
              "      <td>{'count': 1}</td>\n",
              "      <td>False</td>\n",
              "      <td>{'is_donut': False}</td>\n",
              "      <td>0.8</td>\n",
              "      <td>NaN</td>\n",
              "      <td>NaN</td>\n",
              "      <td>NaN</td>\n",
              "      <td>NaN</td>\n",
              "      <td>NaN</td>\n",
              "    </tr>\n",
              "    <tr>\n",
              "      <th>...</th>\n",
              "      <td>...</td>\n",
              "      <td>...</td>\n",
              "      <td>...</td>\n",
              "      <td>...</td>\n",
              "      <td>...</td>\n",
              "      <td>...</td>\n",
              "      <td>...</td>\n",
              "      <td>...</td>\n",
              "      <td>...</td>\n",
              "      <td>...</td>\n",
              "      <td>...</td>\n",
              "      <td>...</td>\n",
              "      <td>...</td>\n",
              "      <td>...</td>\n",
              "      <td>...</td>\n",
              "      <td>...</td>\n",
              "      <td>...</td>\n",
              "      <td>...</td>\n",
              "      <td>...</td>\n",
              "      <td>...</td>\n",
              "      <td>...</td>\n",
              "    </tr>\n",
              "    <tr>\n",
              "      <th>934</th>\n",
              "      <td>1631</td>\n",
              "      <td>1633659416</td>\n",
              "      <td>-160454589</td>\n",
              "      <td>-160454589</td>\n",
              "      <td>post</td>\n",
              "      <td>Минцифры России сообщает, что в сентябре начин...</td>\n",
              "      <td>0.0</td>\n",
              "      <td>[{'type': 'photo', 'photo': {'album_id': -7, '...</td>\n",
              "      <td>{'type': 'api'}</td>\n",
              "      <td>{'can_post': 1, 'count': 0, 'groups_can_post':...</td>\n",
              "      <td>{'can_like': 1, 'count': 0, 'user_likes': 0, '...</td>\n",
              "      <td>{'count': 0, 'user_reposted': 0}</td>\n",
              "      <td>{'count': 54}</td>\n",
              "      <td>False</td>\n",
              "      <td>{'is_donut': False}</td>\n",
              "      <td>0.8</td>\n",
              "      <td>NaN</td>\n",
              "      <td>NaN</td>\n",
              "      <td>NaN</td>\n",
              "      <td>NaN</td>\n",
              "      <td>NaN</td>\n",
              "    </tr>\n",
              "    <tr>\n",
              "      <th>935</th>\n",
              "      <td>8698</td>\n",
              "      <td>1633646545</td>\n",
              "      <td>-141424662</td>\n",
              "      <td>-141424662</td>\n",
              "      <td>post</td>\n",
              "      <td>Южносахалинцев приглашают получить дополнитель...</td>\n",
              "      <td>0.0</td>\n",
              "      <td>[{'type': 'photo', 'photo': {'album_id': -7, '...</td>\n",
              "      <td>{'type': 'api'}</td>\n",
              "      <td>{'can_post': 1, 'count': 0, 'groups_can_post':...</td>\n",
              "      <td>{'can_like': 1, 'count': 0, 'user_likes': 0, '...</td>\n",
              "      <td>{'count': 0, 'user_reposted': 0}</td>\n",
              "      <td>{'count': 31}</td>\n",
              "      <td>False</td>\n",
              "      <td>{'is_donut': False}</td>\n",
              "      <td>0.8</td>\n",
              "      <td>NaN</td>\n",
              "      <td>NaN</td>\n",
              "      <td>NaN</td>\n",
              "      <td>NaN</td>\n",
              "      <td>NaN</td>\n",
              "    </tr>\n",
              "    <tr>\n",
              "      <th>936</th>\n",
              "      <td>51836</td>\n",
              "      <td>1633642417</td>\n",
              "      <td>164536440</td>\n",
              "      <td>164536440</td>\n",
              "      <td>post</td>\n",
              "      <td>Регистрируйся на курс python-разработчика с ну...</td>\n",
              "      <td>NaN</td>\n",
              "      <td>[{'type': 'video', 'video': {'access_key': 'c3...</td>\n",
              "      <td>{'type': 'vk'}</td>\n",
              "      <td>{'can_post': 0, 'count': 0, 'groups_can_post':...</td>\n",
              "      <td>{'can_like': 1, 'count': 2, 'user_likes': 0, '...</td>\n",
              "      <td>{'count': 0, 'user_reposted': 0}</td>\n",
              "      <td>{'count': 368}</td>\n",
              "      <td>False</td>\n",
              "      <td>{'is_donut': False}</td>\n",
              "      <td>0.8</td>\n",
              "      <td>NaN</td>\n",
              "      <td>0.0</td>\n",
              "      <td>NaN</td>\n",
              "      <td>NaN</td>\n",
              "      <td>NaN</td>\n",
              "    </tr>\n",
              "    <tr>\n",
              "      <th>937</th>\n",
              "      <td>2261</td>\n",
              "      <td>1633637008</td>\n",
              "      <td>-178685698</td>\n",
              "      <td>-178685698</td>\n",
              "      <td>post</td>\n",
              "      <td>[club178685698|Получи новую цифровую профессию...</td>\n",
              "      <td>0.0</td>\n",
              "      <td>[{'type': 'photo', 'photo': {'album_id': -7, '...</td>\n",
              "      <td>{'type': 'vk'}</td>\n",
              "      <td>{'can_post': 1, 'count': 0, 'groups_can_post':...</td>\n",
              "      <td>{'can_like': 1, 'count': 1, 'user_likes': 0, '...</td>\n",
              "      <td>{'count': 0, 'user_reposted': 0}</td>\n",
              "      <td>{'count': 225}</td>\n",
              "      <td>False</td>\n",
              "      <td>{'is_donut': False}</td>\n",
              "      <td>0.8</td>\n",
              "      <td>NaN</td>\n",
              "      <td>NaN</td>\n",
              "      <td>NaN</td>\n",
              "      <td>NaN</td>\n",
              "      <td>NaN</td>\n",
              "    </tr>\n",
              "    <tr>\n",
              "      <th>938</th>\n",
              "      <td>21615</td>\n",
              "      <td>1633635705</td>\n",
              "      <td>-195210130</td>\n",
              "      <td>-195210130</td>\n",
              "      <td>post</td>\n",
              "      <td>Автор статьи рассказывает, как за неделю созда...</td>\n",
              "      <td>0.0</td>\n",
              "      <td>[{'type': 'link', 'link': {'url': 'https://m.v...</td>\n",
              "      <td>{'type': 'rss'}</td>\n",
              "      <td>{'can_post': 1, 'count': 0, 'groups_can_post':...</td>\n",
              "      <td>{'can_like': 1, 'count': 0, 'user_likes': 0, '...</td>\n",
              "      <td>{'count': 0, 'user_reposted': 0}</td>\n",
              "      <td>{'count': 2}</td>\n",
              "      <td>False</td>\n",
              "      <td>{'is_donut': False}</td>\n",
              "      <td>0.8</td>\n",
              "      <td>NaN</td>\n",
              "      <td>NaN</td>\n",
              "      <td>NaN</td>\n",
              "      <td>NaN</td>\n",
              "      <td>NaN</td>\n",
              "    </tr>\n",
              "  </tbody>\n",
              "</table>\n",
              "<p>939 rows × 21 columns</p>\n",
              "</div>\n",
              "      <button class=\"colab-df-convert\" onclick=\"convertToInteractive('df-8b531353-fdec-4920-a58d-59f94fb15a6c')\"\n",
              "              title=\"Convert this dataframe to an interactive table.\"\n",
              "              style=\"display:none;\">\n",
              "        \n",
              "  <svg xmlns=\"http://www.w3.org/2000/svg\" height=\"24px\"viewBox=\"0 0 24 24\"\n",
              "       width=\"24px\">\n",
              "    <path d=\"M0 0h24v24H0V0z\" fill=\"none\"/>\n",
              "    <path d=\"M18.56 5.44l.94 2.06.94-2.06 2.06-.94-2.06-.94-.94-2.06-.94 2.06-2.06.94zm-11 1L8.5 8.5l.94-2.06 2.06-.94-2.06-.94L8.5 2.5l-.94 2.06-2.06.94zm10 10l.94 2.06.94-2.06 2.06-.94-2.06-.94-.94-2.06-.94 2.06-2.06.94z\"/><path d=\"M17.41 7.96l-1.37-1.37c-.4-.4-.92-.59-1.43-.59-.52 0-1.04.2-1.43.59L10.3 9.45l-7.72 7.72c-.78.78-.78 2.05 0 2.83L4 21.41c.39.39.9.59 1.41.59.51 0 1.02-.2 1.41-.59l7.78-7.78 2.81-2.81c.8-.78.8-2.07 0-2.86zM5.41 20L4 18.59l7.72-7.72 1.47 1.35L5.41 20z\"/>\n",
              "  </svg>\n",
              "      </button>\n",
              "      \n",
              "  <style>\n",
              "    .colab-df-container {\n",
              "      display:flex;\n",
              "      flex-wrap:wrap;\n",
              "      gap: 12px;\n",
              "    }\n",
              "\n",
              "    .colab-df-convert {\n",
              "      background-color: #E8F0FE;\n",
              "      border: none;\n",
              "      border-radius: 50%;\n",
              "      cursor: pointer;\n",
              "      display: none;\n",
              "      fill: #1967D2;\n",
              "      height: 32px;\n",
              "      padding: 0 0 0 0;\n",
              "      width: 32px;\n",
              "    }\n",
              "\n",
              "    .colab-df-convert:hover {\n",
              "      background-color: #E2EBFA;\n",
              "      box-shadow: 0px 1px 2px rgba(60, 64, 67, 0.3), 0px 1px 3px 1px rgba(60, 64, 67, 0.15);\n",
              "      fill: #174EA6;\n",
              "    }\n",
              "\n",
              "    [theme=dark] .colab-df-convert {\n",
              "      background-color: #3B4455;\n",
              "      fill: #D2E3FC;\n",
              "    }\n",
              "\n",
              "    [theme=dark] .colab-df-convert:hover {\n",
              "      background-color: #434B5C;\n",
              "      box-shadow: 0px 1px 3px 1px rgba(0, 0, 0, 0.15);\n",
              "      filter: drop-shadow(0px 1px 2px rgba(0, 0, 0, 0.3));\n",
              "      fill: #FFFFFF;\n",
              "    }\n",
              "  </style>\n",
              "\n",
              "      <script>\n",
              "        const buttonEl =\n",
              "          document.querySelector('#df-8b531353-fdec-4920-a58d-59f94fb15a6c button.colab-df-convert');\n",
              "        buttonEl.style.display =\n",
              "          google.colab.kernel.accessAllowed ? 'block' : 'none';\n",
              "\n",
              "        async function convertToInteractive(key) {\n",
              "          const element = document.querySelector('#df-8b531353-fdec-4920-a58d-59f94fb15a6c');\n",
              "          const dataTable =\n",
              "            await google.colab.kernel.invokeFunction('convertToInteractive',\n",
              "                                                     [key], {});\n",
              "          if (!dataTable) return;\n",
              "\n",
              "          const docLinkHtml = 'Like what you see? Visit the ' +\n",
              "            '<a target=\"_blank\" href=https://colab.research.google.com/notebooks/data_table.ipynb>data table notebook</a>'\n",
              "            + ' to learn more about interactive tables.';\n",
              "          element.innerHTML = '';\n",
              "          dataTable['output_type'] = 'display_data';\n",
              "          await google.colab.output.renderOutput(dataTable, element);\n",
              "          const docLink = document.createElement('div');\n",
              "          docLink.innerHTML = docLinkHtml;\n",
              "          element.appendChild(docLink);\n",
              "        }\n",
              "      </script>\n",
              "    </div>\n",
              "  </div>\n",
              "  "
            ],
            "text/plain": [
              "        id        date   owner_id  ...  signer_id copy_history  geo\n",
              "0    15506  1642194271  -72739547  ...        NaN          NaN  NaN\n",
              "1     1542  1642178306  542111512  ...        NaN          NaN  NaN\n",
              "2     6703  1642177974  324436665  ...        NaN          NaN  NaN\n",
              "3      902  1642176993  534985152  ...        NaN          NaN  NaN\n",
              "4      777  1642176976  534960534  ...        NaN          NaN  NaN\n",
              "..     ...         ...        ...  ...        ...          ...  ...\n",
              "934   1631  1633659416 -160454589  ...        NaN          NaN  NaN\n",
              "935   8698  1633646545 -141424662  ...        NaN          NaN  NaN\n",
              "936  51836  1633642417  164536440  ...        NaN          NaN  NaN\n",
              "937   2261  1633637008 -178685698  ...        NaN          NaN  NaN\n",
              "938  21615  1633635705 -195210130  ...        NaN          NaN  NaN\n",
              "\n",
              "[939 rows x 21 columns]"
            ]
          },
          "metadata": {},
          "execution_count": 144
        }
      ]
    },
    {
      "cell_type": "markdown",
      "metadata": {
        "id": "1emtCLQpj0_z"
      },
      "source": [
        "## Множества (set)\n",
        "Набор неповторяющихся элементов в случайном порядке. Они необходимы тогда, когда присутствие объекта в наборе важнее порядка или того, сколько раз данный объект там встречается.\n",
        "\n",
        "Множества инициализируется при помощи set(), как правило создаются из списков.\n",
        "\n",
        "Реализуют теорию множеств в Python."
      ]
    },
    {
      "cell_type": "code",
      "metadata": {
        "id": "GUyhRYy2j0_z"
      },
      "source": [
        "data_scientist_skills = set(['Python', 'R', 'SQL', 'Tableau', 'SAS', 'Git'])\n",
        "data_engineer_skills = set(['Python', 'Java', 'Scala', 'Git', 'SQL', 'Hadoop'])"
      ],
      "execution_count": null,
      "outputs": []
    },
    {
      "cell_type": "code",
      "metadata": {
        "id": "4ua5M5_Jj0_z",
        "colab": {
          "base_uri": "https://localhost:8080/"
        },
        "outputId": "197f2bdc-da4b-4655-904e-92d0b09c56ca"
      },
      "source": [
        "# логическое ИЛИ – что нужно знать data-scientst, который по совместительству data-engineer\n",
        "print(data_scientist_skills.union(data_engineer_skills))\n",
        "print(data_scientist_skills | data_engineer_skills)"
      ],
      "execution_count": null,
      "outputs": [
        {
          "output_type": "stream",
          "name": "stdout",
          "text": [
            "{'Hadoop', 'Java', 'Scala', 'SAS', 'R', 'Tableau', 'Python', 'Git', 'SQL'}\n",
            "{'Hadoop', 'Java', 'Scala', 'SAS', 'R', 'Tableau', 'Python', 'Git', 'SQL'}\n"
          ]
        }
      ]
    },
    {
      "cell_type": "code",
      "metadata": {
        "id": "KPvUuUMyj0_z",
        "colab": {
          "base_uri": "https://localhost:8080/"
        },
        "outputId": "b186294c-607b-40b1-ba76-33b4a30d2dbb"
      },
      "source": [
        "# логическое И – что нужно знать и data-scientist и data-engineer\n",
        "print(data_scientist_skills.intersection(data_engineer_skills))\n",
        "print(data_scientist_skills & data_engineer_skills)"
      ],
      "execution_count": null,
      "outputs": [
        {
          "output_type": "stream",
          "name": "stdout",
          "text": [
            "{'Python', 'Git', 'SQL'}\n",
            "{'Python', 'Git', 'SQL'}\n"
          ]
        }
      ]
    },
    {
      "cell_type": "code",
      "metadata": {
        "id": "rfdM6G4Pj0_z",
        "colab": {
          "base_uri": "https://localhost:8080/"
        },
        "outputId": "93e4c161-d2e5-4f4f-92e3-a3aa7a21eb17"
      },
      "source": [
        "# разность множеств – что знает data-scientist, но не знает data-engineer (и наоборот)\n",
        "print(data_scientist_skills.difference(data_engineer_skills))\n",
        "print(data_scientist_skills - data_engineer_skills)\n",
        "print(data_engineer_skills.difference(data_scientist_skills))\n",
        "print(data_engineer_skills - data_scientist_skills)"
      ],
      "execution_count": null,
      "outputs": [
        {
          "output_type": "stream",
          "name": "stdout",
          "text": [
            "{'SAS', 'R', 'Tableau'}\n",
            "{'SAS', 'R', 'Tableau'}\n",
            "{'Hadoop', 'Scala', 'Java'}\n",
            "{'Hadoop', 'Scala', 'Java'}\n"
          ]
        }
      ]
    },
    {
      "cell_type": "code",
      "metadata": {
        "scrolled": true,
        "id": "Ifz-s3iTj0_z",
        "colab": {
          "base_uri": "https://localhost:8080/"
        },
        "outputId": "8fba4bec-fcfe-4f64-ed88-ee0a22e2583f"
      },
      "source": [
        "# симметричная разность множеств – что такого знают data-scientist и data-engineer, чего не знают они оба\n",
        "print(data_scientist_skills.symmetric_difference(data_engineer_skills))\n",
        "print(data_scientist_skills ^ data_engineer_skills)\n",
        "print(data_engineer_skills.symmetric_difference(data_scientist_skills))\n",
        "print(data_engineer_skills ^ data_scientist_skills)"
      ],
      "execution_count": null,
      "outputs": [
        {
          "output_type": "stream",
          "name": "stdout",
          "text": [
            "{'Hadoop', 'Scala', 'SAS', 'Java', 'R', 'Tableau'}\n",
            "{'Hadoop', 'Scala', 'SAS', 'Java', 'R', 'Tableau'}\n",
            "{'Hadoop', 'Scala', 'SAS', 'Java', 'R', 'Tableau'}\n",
            "{'Hadoop', 'Scala', 'SAS', 'Java', 'R', 'Tableau'}\n"
          ]
        }
      ]
    },
    {
      "cell_type": "code",
      "metadata": {
        "id": "ELH4jYacj0_0"
      },
      "source": [
        "# Из списка можно убрать все повторения просто обратив его в set!"
      ],
      "execution_count": null,
      "outputs": []
    },
    {
      "cell_type": "markdown",
      "metadata": {
        "id": "X5Ous5j3j0_0"
      },
      "source": [
        "### Спасибо за внимание! Буду рад ответить на ваши вопросы\n",
        "Форма ОС: https://forms.gle/y8xaFwJqtbFSjUeG8"
      ]
    },
    {
      "cell_type": "code",
      "metadata": {
        "id": "gbP4C1Mfo81x"
      },
      "source": [
        ""
      ],
      "execution_count": null,
      "outputs": []
    },
    {
      "cell_type": "markdown",
      "source": [
        "## Рекомендуемые материалы\n",
        "\n",
        "1. Тренажеры:\n",
        "  - hackerrank.com\n",
        "  - checkio.org\n",
        "  - leetcode.com\n",
        "  - codewars.com\n",
        "  - luxcity.geecko.com\n",
        "\n",
        "2. Литература:\n",
        " - А Byte of Python [англ. версия](https://python.swaroopch.com/), [рус. перевод](https://wombat.org.ua/AByteOfPython/AByteofPythonRussian-2.02.pdf). Легально, бесплатно, без СМС и регистрации.\n",
        " - Адитья Бхаргава, Грокаем алгоритмы. [На бумаге](https://bit.ly/3c4Drq3), [Электронная](https://bit.ly/3h9bdgz). Бесплатно сами.\n",
        "\n"
      ],
      "metadata": {
        "id": "rcuuwXkdEEGq"
      }
    },
    {
      "cell_type": "code",
      "source": [
        ""
      ],
      "metadata": {
        "id": "1tVwGQWzEEfC"
      },
      "execution_count": null,
      "outputs": []
    }
  ]
}