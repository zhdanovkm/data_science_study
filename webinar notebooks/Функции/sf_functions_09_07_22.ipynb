{
  "cells": [
    {
      "cell_type": "markdown",
      "metadata": {
        "id": "djL0UFMoIgyt"
      },
      "source": [
        "# Функции\n",
        "\n",
        "Булыгин Олег  \n",
        "\n",
        "* [LinkedIn](linkedin.com/in/obulygin)  \n",
        "* [Моя группа в ТГ по Python](https://t.me/solidtalk)"
      ]
    },
    {
      "cell_type": "markdown",
      "metadata": {
        "id": "-uLwA64gd7PQ"
      },
      "source": [
        "## План\n",
        "- основы;  \n",
        "- return;  \n",
        "- области видимости; \n",
        "- параметры функций; \n",
        "- составной пример;\n",
        "- lambda, map, filter;\n",
        "- цикл, рекурсия, reduce.\n",
        "\n"
      ]
    },
    {
      "cell_type": "markdown",
      "metadata": {
        "id": "pc8i9xaId7PQ"
      },
      "source": [
        "Функции – это обособленный участок кода, который можно вызывать, обратившись к нему по имени, которым он был назван (подпрограмма).\n",
        "Это объект, принимающий аргументы и возвращающий значение."
      ]
    },
    {
      "cell_type": "markdown",
      "metadata": {
        "id": "P04F-7Ntd7PR"
      },
      "source": [
        "Функции помогают избежать дублирования кода, улучшить его структурированность и читаемость."
      ]
    },
    {
      "cell_type": "markdown",
      "metadata": {
        "id": "veWjkUwNIgzL"
      },
      "source": [
        "### Объявление функции\n",
        "\n",
        "Существуют некоторые правила для создания функций в Python:\n",
        "\n",
        "+ Блок функции начинается с ключевого слова def, после которого следуют название функции и круглые скобки ()\n",
        "\n",
        "+ Любые аргументы, которые принимает функция должны находиться внутри этих скобок.\n",
        "\n",
        "+ После скобок идет двоеточие ( : ) и с новой строки с отступом начинается тело функции.\n"
      ]
    },
    {
      "cell_type": "code",
      "execution_count": null,
      "metadata": {
        "colab": {
          "base_uri": "https://localhost:8080/"
        },
        "id": "RWlt-EMpIgzN",
        "outputId": "a06466d7-3a83-4ca8-9ae5-45a5766a0118"
      },
      "outputs": [
        {
          "name": "stdout",
          "output_type": "stream",
          "text": [
            "Эта наша первая функция\n"
          ]
        }
      ],
      "source": [
        "def my_function():\n",
        "    print('Эта наша первая функция')\n",
        "    \n",
        "    \n",
        "my_function()"
      ]
    },
    {
      "cell_type": "markdown",
      "metadata": {
        "id": "ahaklUj0Nw3u"
      },
      "source": [
        "Когда запустится строка 'Это наша первая функция'?"
      ]
    },
    {
      "cell_type": "code",
      "execution_count": null,
      "metadata": {
        "colab": {
          "base_uri": "https://localhost:8080/"
        },
        "id": "Gtr_IAjRNmPs",
        "outputId": "79e687ab-c5e9-4c9d-ba1b-3da003835a96"
      },
      "outputs": [
        {
          "name": "stdout",
          "output_type": "stream",
          "text": [
            "Раз\n",
            "Два\n",
            "Это наша первая функция\n"
          ]
        }
      ],
      "source": [
        "print('Раз')\n",
        "\n",
        "def your_function():\n",
        "    print('Это наша первая функция')\n",
        "\n",
        "\n",
        "print('Два')\n",
        "your_function()"
      ]
    },
    {
      "cell_type": "markdown",
      "metadata": {
        "id": "9UmnsAJTN5be"
      },
      "source": [
        "Есть **объявление** и **вызов** функции. Это разные процессы"
      ]
    },
    {
      "cell_type": "markdown",
      "metadata": {
        "id": "yQlxKfmHIgz6"
      },
      "source": [
        "### Функции придают программе структуру"
      ]
    },
    {
      "cell_type": "markdown",
      "metadata": {
        "id": "1FTFp8paIgz-"
      },
      "source": [
        "Польза функций не только в возможности многократного вызова одного и того же кода из разных мест программы. Не менее важно, что благодаря им программа обретает четкую структуру. Функции как бы разделяют ее на обособленные части, каждая из которых выполняет свою конкретную задачу.\n",
        "\n",
        "Пусть надо написать программу, вычисляющую площади разных фигур. Пользователь указывает, площадь какой фигуры он хочет вычислить. После этого вводит исходные данные. Например, длину и ширину в случае прямоугольника. Чтобы разделить поток выполнения на несколько ветвей, следует использовать оператор if-elif-else:"
      ]
    },
    {
      "cell_type": "code",
      "execution_count": null,
      "metadata": {
        "id": "dKIiW8aSIg0A"
      },
      "outputs": [],
      "source": [
        "figure = input('1-прямоугольник, 2-треугольник, 3-круг: ')\n",
        " \n",
        "if figure == '1':\n",
        "    a = float(input('Ширина: '))\n",
        "    b = float(input('Высота: '))\n",
        "    print(f'Площадь: {a*b}')\n",
        "elif figure == '2':\n",
        "    a = float(input('Основание: '))\n",
        "    h = float(input('Высота: '))\n",
        "    print(f'Площадь: {0.5 * a * h}')\n",
        "elif figure == '3':\n",
        "    r = float(input('Радиус: '))\n",
        "    print(f'Площадь: {3.14 * r**2}')\n",
        "else:\n",
        "    print('Ошибка ввода')"
      ]
    },
    {
      "cell_type": "code",
      "execution_count": null,
      "metadata": {
        "colab": {
          "base_uri": "https://localhost:8080/"
        },
        "id": "X4eLEHn6Ig0G",
        "outputId": "0334d29c-ac5a-4fd3-8fcd-de86239d9c60"
      },
      "outputs": [
        {
          "name": "stdout",
          "output_type": "stream",
          "text": [
            "1-прямоугольник, 2-треугольник, 3-круг: 1\n",
            "Ширина: 2\n",
            "Высота: 3\n",
            "Площадь: 6.0\n"
          ]
        }
      ],
      "source": [
        "def rectangle():\n",
        "    a = float(input('Ширина: '))\n",
        "    b = float(input('Высота: '))\n",
        "    print(f'Площадь: {a*b}')\n",
        "    \n",
        "def triangle():\n",
        "    a = float(input('Основание: '))\n",
        "    h = float(input('Высота: '))\n",
        "    print(f'Площадь: {0.5 * a * h}')\n",
        "\n",
        "def circle():\n",
        "    r = float(input('Радиус: '))\n",
        "    print(f'Площадь: {3.14 * r**2}')\n",
        "    \n",
        "def main():\n",
        "    figure = input('1-прямоугольник, 2-треугольник, 3-круг: ')\n",
        "    if figure == '1':\n",
        "        rectangle()\n",
        "    elif figure == '2':\n",
        "        triangle()\n",
        "    elif figure == '3':\n",
        "        circle()\n",
        "    else:\n",
        "        print('Ошибка ввода')\n",
        "        \n",
        "main()"
      ]
    },
    {
      "cell_type": "markdown",
      "metadata": {
        "id": "v4Xh1dEWIg0e"
      },
      "source": [
        "Из общей логики программы как бы убраны и обособлены инструкции для нахождения площадей. Программа теперь состоит из отдельных 'кирпичиков Лего'. В основной ветке мы можем комбинировать их как угодно. Она играет роль управляющего механизма.\n",
        "\n",
        "Если нам когда-нибудь захочется вычислять площадь треугольника по формуле Герона, а не через высоту, то не придется искать код во всей программе (представьте, что она состоит из тысяч строк кода как реальные программы). Мы пойдем к месту определения функций и изменим тело одной из них.\n",
        "\n",
        "Если понадобиться использовать эти функции в какой-нибудь другой программе, то мы сможем импортировать их туда, сославшись на данный файл с кодом."
      ]
    },
    {
      "cell_type": "markdown",
      "metadata": {
        "id": "4oBO1B9jIgzh"
      },
      "source": [
        "### Ключевое слово return\n",
        "\n",
        "* Выражение return прекращает выполнение функции и возвращает указанное после выражения значение. \n",
        "\n",
        "* Выражение return без аргументов это то же самое, что и выражение return None. \n",
        "\n",
        "* То, что функция возвращает можно присваивать какой-либо переменной."
      ]
    },
    {
      "cell_type": "code",
      "execution_count": null,
      "metadata": {
        "colab": {
          "base_uri": "https://localhost:8080/"
        },
        "id": "n_ohL5N9ONTL",
        "outputId": "47d78c07-a7fd-4ba0-a09d-0d8aae306ddf"
      },
      "outputs": [
        {
          "name": "stdout",
          "output_type": "stream",
          "text": [
            "Введите число2\n",
            "Введите число3\n",
            "Введите число4\n"
          ]
        }
      ],
      "source": [
        "def square():\n",
        "    user_input = int(input('Введите число'))\n",
        "    result = user_input ** 2\n",
        "    return result\n",
        "\n",
        "res = square()\n",
        "# print(res) \n",
        "# когда вызываем функцию внутри print на экран выводится то, что она возвращает. В jupyter можно и без print\n",
        "# print(square())\n",
        "\n",
        "square()\n",
        "\n",
        "res_2 = square()\n",
        "\n"
      ]
    },
    {
      "cell_type": "code",
      "execution_count": null,
      "metadata": {
        "colab": {
          "base_uri": "https://localhost:8080/"
        },
        "id": "c_mK6XcSrCLc",
        "outputId": "bfb881bb-eef3-412b-bb64-2cb234b5a2be"
      },
      "outputs": [
        {
          "name": "stdout",
          "output_type": "stream",
          "text": [
            "4\n",
            "16\n"
          ]
        }
      ],
      "source": [
        "print(res)\n",
        "print(res_2)"
      ]
    },
    {
      "cell_type": "code",
      "execution_count": 6,
      "metadata": {
        "colab": {
          "base_uri": "https://localhost:8080/"
        },
        "id": "9TE7U_m8d7PW",
        "outputId": "c8510e92-0d5f-43c9-85de-ddb3584c31bd"
      },
      "outputs": [
        {
          "name": "stdout",
          "output_type": "stream",
          "text": [
            "1\n",
            "None\n"
          ]
        }
      ],
      "source": [
        "# как думаете, что получим сейчас?\n",
        "def square():\n",
        "    user_input = int(input('Введите число'))\n",
        "    result = user_input ** 2\n",
        "    print(result)\n",
        "    \n",
        "print(square())"
      ]
    },
    {
      "cell_type": "markdown",
      "metadata": {
        "id": "9aIvBMyoIn8H"
      },
      "source": [
        "#### Практика. Напишите функцию, которая определяет является ли слово палиндромом"
      ]
    },
    {
      "cell_type": "code",
      "execution_count": 13,
      "metadata": {
        "id": "_Pox8hcbd7PW"
      },
      "outputs": [
        {
          "name": "stdout",
          "output_type": "stream",
          "text": [
            "True\n"
          ]
        }
      ],
      "source": [
        "def is_palindrom():\n",
        "    word = input('Enter the word: ')\n",
        "    word = word.lower()\n",
        "    return word == word[::-1]\n",
        "\n",
        "print(is_palindrom())\n",
        "        "
      ]
    },
    {
      "cell_type": "code",
      "execution_count": null,
      "metadata": {
        "colab": {
          "base_uri": "https://localhost:8080/"
        },
        "id": "c7zqOO7nd7PX",
        "outputId": "c80e0923-9273-4489-c4bd-93c319aeff45"
      },
      "outputs": [
        {
          "data": {
            "text/plain": [
              "True"
            ]
          },
          "execution_count": 11,
          "metadata": {},
          "output_type": "execute_result"
        }
      ],
      "source": [
        "def is_palindrom(word): \n",
        "    word = word.lower()\n",
        "    return word == word[::-1]\n",
        "\n",
        "is_palindrom('Радар')"
      ]
    },
    {
      "cell_type": "code",
      "execution_count": null,
      "metadata": {
        "id": "sTzqBdMQsDfp"
      },
      "outputs": [],
      "source": [
        "def is_palindrom(n): \n",
        "    if str(n) == str(n)[::-1]: \n",
        "        return True \n",
        "    else: \n",
        "        return False "
      ]
    },
    {
      "cell_type": "code",
      "execution_count": null,
      "metadata": {
        "colab": {
          "base_uri": "https://localhost:8080/"
        },
        "id": "jgsaJgOvsIs8",
        "outputId": "05033685-bb97-4998-ca36-ced1f9dfd8c6"
      },
      "outputs": [
        {
          "name": "stdout",
          "output_type": "stream",
          "text": [
            "True\n"
          ]
        }
      ],
      "source": [
        "def is_palindrom(s): \n",
        "    s=str(s) \n",
        "    if s[::-1]==s: \n",
        "        return True \n",
        "    else: \n",
        "        return False \n",
        "        \n",
        "print(is_palindrom(123321)) "
      ]
    },
    {
      "cell_type": "markdown",
      "metadata": {
        "id": "fPPXAGPHIg1Y"
      },
      "source": [
        "### Области видимости\n",
        "\n",
        "Область видимости (scope) определяет контекст объекта, в рамках которого его можно использовать.\n",
        "\n",
        "Рассмотрим 2 типа области видимости:\n",
        "\n",
        "* Локальная область видимости\n",
        "* Глобальная область видимости\n",
        "\n",
        "Глобальная область видимости подразумевает, что переменная является глобальной, она определена вне любой из функций и доступна любой функции в программе.\n",
        "\n",
        "В отличие от глобальных переменных локальная переменная определяется внутри функции и доступна только из этой функции, то есть имеет локальную область видимости."
      ]
    },
    {
      "cell_type": "code",
      "execution_count": null,
      "metadata": {
        "colab": {
          "base_uri": "https://localhost:8080/",
          "height": 255
        },
        "id": "JoUGUs04Ig1a",
        "outputId": "2fb22684-63cf-444f-988e-cec4d601e2e6"
      },
      "outputs": [
        {
          "name": "stdout",
          "output_type": "stream",
          "text": [
            "1600\n",
            "1050\n",
            "700\n"
          ]
        },
        {
          "ename": "NameError",
          "evalue": "ignored",
          "output_type": "error",
          "traceback": [
            "\u001b[0;31m---------------------------------------------------------------------------\u001b[0m",
            "\u001b[0;31mNameError\u001b[0m                                 Traceback (most recent call last)",
            "\u001b[0;32m<ipython-input-17-6ee2938e7c8c>\u001b[0m in \u001b[0;36m<module>\u001b[0;34m()\u001b[0m\n\u001b[1;32m     20\u001b[0m \u001b[0minfo_2\u001b[0m\u001b[0;34m(\u001b[0m\u001b[0;34m)\u001b[0m\u001b[0;34m\u001b[0m\u001b[0;34m\u001b[0m\u001b[0m\n\u001b[1;32m     21\u001b[0m \u001b[0mlocal_info\u001b[0m\u001b[0;34m(\u001b[0m\u001b[0;34m)\u001b[0m\u001b[0;34m\u001b[0m\u001b[0;34m\u001b[0m\u001b[0m\n\u001b[0;32m---> 22\u001b[0;31m \u001b[0mprint\u001b[0m\u001b[0;34m(\u001b[0m\u001b[0msome_number\u001b[0m\u001b[0;34m)\u001b[0m\u001b[0;34m\u001b[0m\u001b[0;34m\u001b[0m\u001b[0m\n\u001b[0m",
            "\u001b[0;31mNameError\u001b[0m: name 'some_number' is not defined"
          ]
        }
      ],
      "source": [
        "# глобальные переменные\n",
        "salary = 1000\n",
        "bonus = 600\n",
        "\n",
        "def info():\n",
        "    print(salary + bonus) \n",
        "\n",
        "def info_2():\n",
        "    bonus = 50\n",
        "    print(salary + bonus) \n",
        "\n",
        "def local_info():\n",
        "    salary = 500 \n",
        "    bonus = 200\n",
        "    some_number = 1\n",
        "    print(salary + bonus)\n",
        "    \n",
        "\n",
        "info()\n",
        "info_2()\n",
        "local_info()\n",
        "# print(some_number)"
      ]
    },
    {
      "cell_type": "markdown",
      "metadata": {
        "id": "aBdoesrjd7Pb"
      },
      "source": [
        "### Параметры функции"
      ]
    },
    {
      "cell_type": "markdown",
      "metadata": {
        "id": "BhY7_uxqd7Pb"
      },
      "source": [
        "Функция может принимать более 1 параметра (а может не принимать параметры вообще).\n",
        "\n",
        "Для всех параметров функций можно указывать значения по-умолчанию, это дает возможность вызвать функцию с меньшим числом параметров.\n",
        "\n"
      ]
    },
    {
      "cell_type": "markdown",
      "metadata": {
        "id": "G6_adbf2O_hF"
      },
      "source": [
        "Переменные в скобках – это параметры функции, которые мы указываем при объявлении функции. Когда мы её вызываем мы передаем в вызов аргументы. В нашем случае это будут числа. "
      ]
    },
    {
      "cell_type": "code",
      "execution_count": null,
      "metadata": {
        "colab": {
          "base_uri": "https://localhost:8080/"
        },
        "id": "EHK_kqH3Igzj",
        "outputId": "a54de451-6179-42c8-a315-6461c5a3c8bf"
      },
      "outputs": [
        {
          "name": "stdout",
          "output_type": "stream",
          "text": [
            "26\n"
          ]
        }
      ],
      "source": [
        "def bigger(a, b):\n",
        "    '''Эта функция сравнивает числа и выдает большее'''\n",
        "    if a > b:\n",
        "        return a\n",
        "    return b \n",
        " \n",
        "# присваиваем результат функции bigger переменной num\n",
        "num = bigger(26, 24)\n",
        "print(num)"
      ]
    },
    {
      "cell_type": "code",
      "execution_count": null,
      "metadata": {
        "colab": {
          "base_uri": "https://localhost:8080/"
        },
        "id": "g-mCORRUd7Pc",
        "outputId": "b0b106be-5da2-4b2a-8406-2e0abb740f42"
      },
      "outputs": [
        {
          "name": "stdout",
          "output_type": "stream",
          "text": [
            "1000000\n"
          ]
        }
      ],
      "source": [
        "# функция с параметром по умолчанию\n",
        "# они всегда должны следовать параметрам без значения по умолчанию\n",
        "def power(number, number_2=2):\n",
        "    result = number ** number_2\n",
        "    return result\n",
        "print(power(10, 6))"
      ]
    },
    {
      "cell_type": "markdown",
      "metadata": {
        "id": "Eoxt12iBd7Pc"
      },
      "source": [
        "Если при создании функции мы указали количество передаваемых ей аргументов и их порядок, \n",
        "то и вызывать ее мы должны с тем же количеством аргументов, заданных в нужном порядке. \n",
        "\n",
        "Если при вызове мы будем явно указывать имена аргументов, то их можно передавать в любом порядке"
      ]
    },
    {
      "cell_type": "code",
      "execution_count": null,
      "metadata": {
        "colab": {
          "base_uri": "https://localhost:8080/",
          "height": 169
        },
        "id": "glTwlsqed7Pc",
        "outputId": "2c0593f9-691f-4ec1-924f-fab2e5a69a52"
      },
      "outputs": [
        {
          "ename": "TypeError",
          "evalue": "ignored",
          "output_type": "error",
          "traceback": [
            "\u001b[0;31m---------------------------------------------------------------------------\u001b[0m",
            "\u001b[0;31mTypeError\u001b[0m                                 Traceback (most recent call last)",
            "\u001b[0;32m<ipython-input-21-0128783ae8c6>\u001b[0m in \u001b[0;36m<module>\u001b[0;34m()\u001b[0m\n\u001b[0;32m----> 1\u001b[0;31m \u001b[0mprint\u001b[0m\u001b[0;34m(\u001b[0m\u001b[0mpower\u001b[0m\u001b[0;34m(\u001b[0m\u001b[0;36m2\u001b[0m\u001b[0;34m,\u001b[0m \u001b[0;36m3\u001b[0m\u001b[0;34m,\u001b[0m \u001b[0;36m1\u001b[0m\u001b[0;34m)\u001b[0m\u001b[0;34m)\u001b[0m\u001b[0;34m\u001b[0m\u001b[0;34m\u001b[0m\u001b[0m\n\u001b[0m",
            "\u001b[0;31mTypeError\u001b[0m: power() takes from 1 to 2 positional arguments but 3 were given"
          ]
        }
      ],
      "source": [
        "print(power(2, 3, 1))"
      ]
    },
    {
      "cell_type": "code",
      "execution_count": null,
      "metadata": {
        "colab": {
          "base_uri": "https://localhost:8080/",
          "height": 169
        },
        "id": "DuIz2T3pd7Pd",
        "outputId": "fa0db55f-c157-4c06-98e2-5543297e7e68"
      },
      "outputs": [
        {
          "ename": "TypeError",
          "evalue": "ignored",
          "output_type": "error",
          "traceback": [
            "\u001b[0;31m---------------------------------------------------------------------------\u001b[0m",
            "\u001b[0;31mTypeError\u001b[0m                                 Traceback (most recent call last)",
            "\u001b[0;32m<ipython-input-22-58ddcb7b1228>\u001b[0m in \u001b[0;36m<module>\u001b[0;34m()\u001b[0m\n\u001b[0;32m----> 1\u001b[0;31m \u001b[0mprint\u001b[0m\u001b[0;34m(\u001b[0m\u001b[0mpower\u001b[0m\u001b[0;34m(\u001b[0m\u001b[0;34m)\u001b[0m\u001b[0;34m)\u001b[0m\u001b[0;34m\u001b[0m\u001b[0;34m\u001b[0m\u001b[0m\n\u001b[0m",
            "\u001b[0;31mTypeError\u001b[0m: power() missing 1 required positional argument: 'number'"
          ]
        }
      ],
      "source": [
        "print(power())"
      ]
    },
    {
      "cell_type": "code",
      "execution_count": null,
      "metadata": {
        "colab": {
          "base_uri": "https://localhost:8080/"
        },
        "id": "9WzJnXYBd7Pd",
        "outputId": "bda3a520-39a2-46e5-c6eb-50cd2e5ba3fc"
      },
      "outputs": [
        {
          "name": "stdout",
          "output_type": "stream",
          "text": [
            "8\n"
          ]
        }
      ],
      "source": [
        "# если передавать аргументы не в том порядке, в каком они были описаны при объявлении\n",
        "print(power(number_2=3, number=2))"
      ]
    },
    {
      "cell_type": "code",
      "execution_count": null,
      "metadata": {
        "colab": {
          "base_uri": "https://localhost:8080/"
        },
        "id": "OmLMXzDNvhZp",
        "outputId": "9c116e80-5323-4218-be27-24456386512f"
      },
      "outputs": [
        {
          "name": "stdout",
          "output_type": "stream",
          "text": [
            "9\n"
          ]
        }
      ],
      "source": [
        "print(power(3, 2))"
      ]
    },
    {
      "cell_type": "markdown",
      "metadata": {
        "id": "BF7EhPbcSVBV"
      },
      "source": [
        "Иногда возникает ситуация, когда вы заранее не знаете, какое количество аргументов будет необходимо принять функции. В этом случае следует использовать аргументы произвольной длины ([args и kwargs](https://habr.com/ru/company/ruvds/blog/482464/)). Они задаются произвольным именем переменной, перед которой ставится звездочка (args) или две здездочки (kwargs)."
      ]
    },
    {
      "cell_type": "code",
      "execution_count": null,
      "metadata": {
        "colab": {
          "base_uri": "https://localhost:8080/"
        },
        "id": "ilXaysWUawBT",
        "outputId": "e298fd7d-bd97-4e19-d7aa-350aff6bafdc"
      },
      "outputs": [
        {
          "name": "stdout",
          "output_type": "stream",
          "text": [
            "(1, 2, 3, 4, 5, 6, 7)\n",
            "{'divisor': 7, 'accuracy': 2}\n",
            "4.0\n"
          ]
        }
      ],
      "source": [
        "# Сумму всех позиционных аргументов вычисляем с помощью sum\n",
        "# *args упаковывает все позиционные аргументы в кортеж\n",
        "# **kwargs упаковывает все именованные аргументы в словарь, из которого получаем значение по ключу\n",
        "\n",
        "def sum_division(*args, **kwargs):\n",
        "    print(args)\n",
        "    print(kwargs)\n",
        "    return round(sum(args) / kwargs['divisor'], kwargs['accuracy'])\n",
        "\n",
        "print(sum_division(1, 2, 3, 4, 5, 6, 7, divisor=7, accuracy=2))"
      ]
    },
    {
      "cell_type": "code",
      "execution_count": null,
      "metadata": {
        "colab": {
          "base_uri": "https://localhost:8080/"
        },
        "id": "9XSfxweRawBT",
        "outputId": "8ce702d0-48e8-4841-80f6-e8cc85b5deae"
      },
      "outputs": [
        {
          "name": "stdout",
          "output_type": "stream",
          "text": [
            "(1, 2, 3, 4, 5, 6, 7, 8, 9, 10)\n",
            "{'divisor': 7, 'accuracy': 2}\n",
            "7.86\n"
          ]
        }
      ],
      "source": [
        "# распаковка позволяет отделить создание списка аргументов от их передачи в функцию\n",
        "numbers = [1, 2, 3, 4, 5, 6, 7, 8, 9, 10]\n",
        "params = {'divisor': 7,'accuracy': 2}\n",
        "\n",
        "print(sum_division(*numbers, **params))"
      ]
    },
    {
      "cell_type": "markdown",
      "metadata": {
        "id": "6GGM5SzuRYl3"
      },
      "source": [
        "#### Практика. Напишем функцию, которая будет находить среднюю цену за квартиры по всем районам города"
      ]
    },
    {
      "cell_type": "code",
      "execution_count": 14,
      "metadata": {
        "id": "CRljX_0tRexA"
      },
      "outputs": [],
      "source": [
        "district_1 = {'flat_1': 10500, 'flat_2': 11000}\n",
        "district_2 = {'flat_3': 15000}\n",
        "district_3 = {'flat_4': 6500, 'flat_5': 7000, 'flat_6': 6000}   "
      ]
    },
    {
      "cell_type": "code",
      "execution_count": 25,
      "metadata": {},
      "outputs": [
        {
          "data": {
            "text/plain": [
              "9333.333333333334"
            ]
          },
          "execution_count": 25,
          "metadata": {},
          "output_type": "execute_result"
        }
      ],
      "source": [
        "def average(**kwargs):\n",
        "    return sum(list(kwargs.values())) / len(list(kwargs.values()))\n",
        "\n",
        "average(**district_1, **district_2, **district_3)"
      ]
    },
    {
      "cell_type": "code",
      "execution_count": 26,
      "metadata": {
        "colab": {
          "base_uri": "https://localhost:8080/"
        },
        "id": "2SGGQbgGRnpC",
        "outputId": "3be8750f-f147-4fd1-a770-e70bb85f523e"
      },
      "outputs": [
        {
          "name": "stdout",
          "output_type": "stream",
          "text": [
            "{'flat_1': 10500, 'flat_2': 11000, 'flat_3': 15000, 'flat_4': 6500, 'flat_5': 7000, 'flat_6': 6000}\n",
            "9333.333333333334\n"
          ]
        }
      ],
      "source": [
        "def average_price(**kwargs):\n",
        "    print(kwargs) \n",
        "    return sum(kwargs.values()) / len(kwargs) \n",
        "\n",
        "print(average_price(**district_1, **district_2, **district_3)) "
      ]
    },
    {
      "cell_type": "code",
      "execution_count": 27,
      "metadata": {
        "colab": {
          "base_uri": "https://localhost:8080/"
        },
        "id": "9pV6UPI2x_8Q",
        "outputId": "38590b77-d79d-462e-9266-84bb7f07fa46"
      },
      "outputs": [
        {
          "name": "stdout",
          "output_type": "stream",
          "text": [
            "({'flat_1': 10500, 'flat_2': 11000}, {'flat_3': 15000}, {'flat_4': 6500, 'flat_5': 7000, 'flat_6': 6000})\n",
            "{'flat_1': 10500, 'flat_2': 11000}\n",
            "{'flat_3': 15000}\n",
            "{'flat_4': 6500, 'flat_5': 7000, 'flat_6': 6000}\n"
          ]
        },
        {
          "data": {
            "text/plain": [
              "9333.333333333334"
            ]
          },
          "execution_count": 27,
          "metadata": {},
          "output_type": "execute_result"
        }
      ],
      "source": [
        "def average_price(*args): \n",
        "    print(args)\n",
        "    sum_ = 0\n",
        "    count = 0\n",
        "    for district in args:\n",
        "        print(district)\n",
        "        sum_ += sum(district.values())\n",
        "        count += len(district.values())\n",
        "    return sum_ / count\n",
        "\n",
        "average_price(district_1, district_2, district_3)"
      ]
    },
    {
      "cell_type": "code",
      "execution_count": null,
      "metadata": {
        "colab": {
          "base_uri": "https://localhost:8080/"
        },
        "id": "gnMUwGG7yzbM",
        "outputId": "5a2e2427-bfbc-43ad-db60-51ec81ba9eb5"
      },
      "outputs": [
        {
          "data": {
            "text/plain": [
              "set"
            ]
          },
          "execution_count": 44,
          "metadata": {},
          "output_type": "execute_result"
        }
      ],
      "source": [
        "# type({*district_1.values(), *district_2, *district_3})"
      ]
    },
    {
      "cell_type": "code",
      "execution_count": null,
      "metadata": {
        "colab": {
          "base_uri": "https://localhost:8080/"
        },
        "id": "JwbTPOlozO40",
        "outputId": "27068600-b17e-4a8d-ec4e-76ef074952cd"
      },
      "outputs": [
        {
          "data": {
            "text/plain": [
              "(35, 5, 45, 45)"
            ]
          },
          "execution_count": 39,
          "metadata": {},
          "output_type": "execute_result"
        }
      ],
      "source": [
        "(*[35, 5], *[45, 45])"
      ]
    },
    {
      "cell_type": "markdown",
      "metadata": {
        "id": "ZpbWF9Spd7Pj"
      },
      "source": [
        "### Комплексный пример"
      ]
    },
    {
      "cell_type": "code",
      "execution_count": null,
      "metadata": {
        "id": "Gvct0-t8d7Pk"
      },
      "outputs": [],
      "source": [
        "students_list = [\n",
        "    {'name': 'Василий', 'surname': 'Теркин', 'gender': 'м', 'program_exp': True, 'grade': [8, 8, 9, 10], 'exam': 8},\n",
        "    {'name': 'Мария', 'surname': 'Павлова', 'gender': 'ж', 'program_exp': True, 'grade': [7, 8, 9, 7, 9], 'exam': 9},\n",
        "    {'name': 'Ирина', 'surname': 'Андреева', 'gender': 'ж', 'program_exp': False, 'grade': [10, 9, 8, 10, 10], 'exam': 7},\n",
        "    {'name': 'Татьяна', 'surname': 'Сидорова', 'gender': 'ж', 'program_exp': False, 'grade': [7, 8, 8, 9, 8],'exam': 10},\n",
        "    {'name': 'Иван', 'surname': 'Васильев', 'gender': 'м', 'program_exp': True, 'grade': [9, 8, 9, 6, 9], 'exam': 5},\n",
        "    {'name': 'Роман', 'surname': 'Золотарев', 'gender': 'м', 'program_exp': False, 'grade': [8, 9, 9, 6, 9], 'exam': 6}\n",
        "]"
      ]
    },
    {
      "cell_type": "code",
      "execution_count": null,
      "metadata": {
        "id": "inDWLm42d7Pk"
      },
      "outputs": [],
      "source": [
        "# посчитаем среднюю оценку за экзамен по всей группе\n",
        "def get_avg_exam_grade(students):\n",
        "    sum_ex = 0\n",
        "    for student in students:\n",
        "        # print(student)\n",
        "        sum_ex += student['exam']\n",
        "    return round(sum_ex / len(students), 2)"
      ]
    },
    {
      "cell_type": "code",
      "execution_count": null,
      "metadata": {
        "colab": {
          "base_uri": "https://localhost:8080/"
        },
        "id": "jmKOpwBLd7Pk",
        "outputId": "9e27e7b7-c243-4efd-f656-c850837517dd"
      },
      "outputs": [
        {
          "name": "stdout",
          "output_type": "stream",
          "text": [
            "7.5\n"
          ]
        }
      ],
      "source": [
        "print(get_avg_exam_grade(students_list))"
      ]
    },
    {
      "cell_type": "code",
      "execution_count": null,
      "metadata": {
        "id": "WyefFkS9d7Pk"
      },
      "outputs": [],
      "source": [
        "# посчитаем среднюю оценку за ДЗ по всей группе\n",
        "def get_avg_hw_grade(students):\n",
        "    sum_hw = 0\n",
        "    for student in students:\n",
        "        sum_hw += sum(student['grade']) / len(student['grade'])\n",
        "    return round(sum_hw / len(students), 2)"
      ]
    },
    {
      "cell_type": "code",
      "execution_count": null,
      "metadata": {
        "colab": {
          "base_uri": "https://localhost:8080/"
        },
        "id": "Vua_KDea28wR",
        "outputId": "17213d9f-a7aa-4dca-f9ef-40a52f6bc2f0"
      },
      "outputs": [
        {
          "name": "stdout",
          "output_type": "stream",
          "text": [
            "8.42\n"
          ]
        }
      ],
      "source": [
        "print(get_avg_hw_grade(students_list))"
      ]
    },
    {
      "cell_type": "code",
      "execution_count": null,
      "metadata": {
        "id": "vogyZNDH2qrZ"
      },
      "outputs": [],
      "source": [
        "def get_avg_hw_grade(students):\n",
        "    sum_hw = 0\n",
        "    counter = 0 \n",
        "    for student in students:\n",
        "        for grade in student['grade']:\n",
        "            sum_hw += grade\n",
        "            counter += 1\n",
        "    return round(sum_hw / counter, 2)"
      ]
    },
    {
      "cell_type": "code",
      "execution_count": null,
      "metadata": {
        "colab": {
          "base_uri": "https://localhost:8080/"
        },
        "id": "sOu7e4TNd7Pl",
        "outputId": "5831bf88-878f-4d2c-81a3-381c2dcbd709"
      },
      "outputs": [
        {
          "name": "stdout",
          "output_type": "stream",
          "text": [
            "8.41\n"
          ]
        }
      ],
      "source": [
        "print(get_avg_hw_grade(students_list))"
      ]
    },
    {
      "cell_type": "code",
      "execution_count": null,
      "metadata": {
        "id": "mywPAD-cd7Pl"
      },
      "outputs": [],
      "source": [
        "# добавим фильтр по опыту для расчетов\n",
        "def get_avg_exam_grade(students, exp=False):\n",
        "    sum_ex = 0\n",
        "    counter = 0\n",
        "    for student in students:\n",
        "        if student['program_exp'] == exp:\n",
        "            sum_ex += student['exam']\n",
        "            counter += 1\n",
        "    return round(sum_ex / counter, 2)"
      ]
    },
    {
      "cell_type": "code",
      "execution_count": null,
      "metadata": {
        "colab": {
          "base_uri": "https://localhost:8080/"
        },
        "id": "e4BQ7zpod7Pl",
        "outputId": "dedd56e4-2aee-4bf4-c53a-b4c9a01c7bee"
      },
      "outputs": [
        {
          "name": "stdout",
          "output_type": "stream",
          "text": [
            "7.67\n"
          ]
        }
      ],
      "source": [
        "print(get_avg_exam_grade(students_list))"
      ]
    },
    {
      "cell_type": "code",
      "execution_count": null,
      "metadata": {
        "colab": {
          "base_uri": "https://localhost:8080/"
        },
        "id": "iCvb2aood7Pl",
        "outputId": "5809973a-4bbe-4dc2-dc6c-c16b60b4f371"
      },
      "outputs": [
        {
          "name": "stdout",
          "output_type": "stream",
          "text": [
            "7.33\n"
          ]
        }
      ],
      "source": [
        "print(get_avg_exam_grade(students_list, True))"
      ]
    },
    {
      "cell_type": "code",
      "execution_count": null,
      "metadata": {
        "id": "-1WNvfI6d7Pl"
      },
      "outputs": [],
      "source": [
        "# а как же теперь сделать расчет по всей группе?\n",
        "def get_avg_exam_grade(students, exp=None):\n",
        "    sum_ex = 0\n",
        "    counter = 0\n",
        "    for student in students:\n",
        "        if exp is None or student['program_exp'] == exp:\n",
        "            sum_ex += student['exam']\n",
        "            counter += 1\n",
        "    return round(sum_ex / counter, 2)"
      ]
    },
    {
      "cell_type": "code",
      "execution_count": null,
      "metadata": {
        "colab": {
          "base_uri": "https://localhost:8080/"
        },
        "id": "-DAu3HeId7Pm",
        "outputId": "9de54cbc-f195-4783-969e-a3f47100cf69"
      },
      "outputs": [
        {
          "name": "stdout",
          "output_type": "stream",
          "text": [
            "7.5\n"
          ]
        }
      ],
      "source": [
        "print(get_avg_exam_grade(students_list))"
      ]
    },
    {
      "cell_type": "code",
      "execution_count": null,
      "metadata": {
        "colab": {
          "base_uri": "https://localhost:8080/"
        },
        "id": "tM2vk2qUd7Pm",
        "outputId": "da229941-bfe1-48a9-f1ea-b2d378ae9dd2"
      },
      "outputs": [
        {
          "name": "stdout",
          "output_type": "stream",
          "text": [
            "7.33\n"
          ]
        }
      ],
      "source": [
        "print(get_avg_exam_grade(students_list, True))"
      ]
    },
    {
      "cell_type": "code",
      "execution_count": null,
      "metadata": {
        "colab": {
          "base_uri": "https://localhost:8080/"
        },
        "id": "Fxy87mVSd7Pm",
        "outputId": "2ca5a3e8-0239-47e0-c625-35c7affa33aa"
      },
      "outputs": [
        {
          "name": "stdout",
          "output_type": "stream",
          "text": [
            "7.67\n"
          ]
        }
      ],
      "source": [
        "print(get_avg_exam_grade(students_list, False))"
      ]
    },
    {
      "cell_type": "code",
      "execution_count": null,
      "metadata": {
        "id": "hSCyngvhd7Pm"
      },
      "outputs": [],
      "source": [
        "# реализуем фильтр по полу\n",
        "def get_avg_exam_grade(students, gender=None):\n",
        "    sum_ex = 0\n",
        "    counter = 0\n",
        "    for student in students:\n",
        "        if gender is None or student['gender'] == gender:\n",
        "            sum_ex += student['exam']\n",
        "            counter += 1\n",
        "    return round(sum_ex / counter, 2)"
      ]
    },
    {
      "cell_type": "code",
      "execution_count": null,
      "metadata": {
        "colab": {
          "base_uri": "https://localhost:8080/"
        },
        "id": "QgEtU5J9d7Pn",
        "outputId": "6b755926-2718-4c00-bf85-236326af60f0"
      },
      "outputs": [
        {
          "name": "stdout",
          "output_type": "stream",
          "text": [
            "7.5\n"
          ]
        }
      ],
      "source": [
        "print(get_avg_exam_grade(students_list))"
      ]
    },
    {
      "cell_type": "code",
      "execution_count": null,
      "metadata": {
        "colab": {
          "base_uri": "https://localhost:8080/"
        },
        "id": "5oA1FTOad7Pn",
        "outputId": "ae6bd176-c10c-44b4-e65f-3d2bf01954f2"
      },
      "outputs": [
        {
          "name": "stdout",
          "output_type": "stream",
          "text": [
            "6.33\n"
          ]
        }
      ],
      "source": [
        "print(get_avg_exam_grade(students_list, 'м'))"
      ]
    },
    {
      "cell_type": "code",
      "execution_count": null,
      "metadata": {
        "colab": {
          "base_uri": "https://localhost:8080/"
        },
        "id": "YwoH9uf9d7Pn",
        "outputId": "8411e73e-7ceb-46bb-d197-e171391c7eb7"
      },
      "outputs": [
        {
          "name": "stdout",
          "output_type": "stream",
          "text": [
            "8.67\n"
          ]
        }
      ],
      "source": [
        "print(get_avg_exam_grade(students_list, 'ж'))"
      ]
    },
    {
      "cell_type": "code",
      "execution_count": null,
      "metadata": {
        "id": "easef3gLd7Pn"
      },
      "outputs": [],
      "source": [
        "# реализуем сразу оба фильтра\n",
        "def get_avg_exam_grade(students, gender=None, exp=None):\n",
        "    sum_ex = 0\n",
        "    counter = 0\n",
        "    for student in students:\n",
        "        if (gender is None or student['gender'] == gender) and (exp is None or student['program_exp'] == exp):\n",
        "            sum_ex += student['exam']\n",
        "            counter += 1\n",
        "    return round(sum_ex / counter, 2)"
      ]
    },
    {
      "cell_type": "code",
      "execution_count": null,
      "metadata": {
        "colab": {
          "base_uri": "https://localhost:8080/"
        },
        "id": "_0kY9yFUd7Pn",
        "outputId": "8b0db20b-37e4-4fc8-b2a2-94e81e15e661"
      },
      "outputs": [
        {
          "name": "stdout",
          "output_type": "stream",
          "text": [
            "7.5\n"
          ]
        }
      ],
      "source": [
        "print(get_avg_exam_grade(students_list))"
      ]
    },
    {
      "cell_type": "code",
      "execution_count": null,
      "metadata": {
        "colab": {
          "base_uri": "https://localhost:8080/"
        },
        "id": "Um_5zla4d7Po",
        "outputId": "097be713-ceae-4bf2-f484-c44ec910fea2"
      },
      "outputs": [
        {
          "name": "stdout",
          "output_type": "stream",
          "text": [
            "6.33\n"
          ]
        }
      ],
      "source": [
        "print(get_avg_exam_grade(students_list, 'м'))"
      ]
    },
    {
      "cell_type": "code",
      "execution_count": null,
      "metadata": {
        "colab": {
          "base_uri": "https://localhost:8080/"
        },
        "id": "Z3Exo-Xud7Po",
        "outputId": "e0b86ebd-e232-44e2-e121-f5c27c9675e6"
      },
      "outputs": [
        {
          "name": "stdout",
          "output_type": "stream",
          "text": [
            "7.33\n"
          ]
        }
      ],
      "source": [
        "print(get_avg_exam_grade(students_list, exp=True))"
      ]
    },
    {
      "cell_type": "code",
      "execution_count": null,
      "metadata": {
        "colab": {
          "base_uri": "https://localhost:8080/"
        },
        "id": "Z1YPNpfcd7Po",
        "outputId": "711fce73-9ceb-4065-e5f8-c15a21ad4054"
      },
      "outputs": [
        {
          "name": "stdout",
          "output_type": "stream",
          "text": [
            "7.67\n"
          ]
        }
      ],
      "source": [
        "print(get_avg_exam_grade(students_list, exp=False))"
      ]
    },
    {
      "cell_type": "code",
      "execution_count": null,
      "metadata": {
        "colab": {
          "base_uri": "https://localhost:8080/"
        },
        "id": "3YK0M9mgd7Po",
        "outputId": "63de9860-2417-4c7d-f697-b67d7ac17cc3"
      },
      "outputs": [
        {
          "name": "stdout",
          "output_type": "stream",
          "text": [
            "9.0\n"
          ]
        }
      ],
      "source": [
        "print(get_avg_exam_grade(students_list, 'ж', True))"
      ]
    },
    {
      "cell_type": "code",
      "execution_count": null,
      "metadata": {
        "id": "m5TQxK5Pd7Po"
      },
      "outputs": [],
      "source": [
        "# расчет оценок за ДЗ\n",
        "def get_avg_hw_grade(students, gender=None, exp=None):\n",
        "    sum_hw = 0\n",
        "    counter = 0\n",
        "    for student in students:\n",
        "        if (gender is None or student['gender'] == gender) and (exp is None or student['program_exp'] == exp):\n",
        "            sum_hw += sum(student['grade']) / len(student['grade'])\n",
        "            counter += 1\n",
        "    return round(sum_hw / counter, 2)"
      ]
    },
    {
      "cell_type": "code",
      "execution_count": null,
      "metadata": {
        "id": "YWSwTNs-d7Pp"
      },
      "outputs": [],
      "source": [
        "# пишем пользовательский интефейс\n",
        "\n",
        "def main(students):\n",
        "    while True:\n",
        "        user_input = input('Введите команду')\n",
        "        if user_input == '1':\n",
        "            print(f'Средняя оценка за экзамен по группе: {get_avg_exam_grade(students)}')\n",
        "        elif user_input == '2':\n",
        "            print(f'Средняя оценка за ДЗ по группе: {get_avg_hw_grade(students)}')\n",
        "        elif user_input =='3':\n",
        "            print(f'Средняя оценка за экзамен у студентов без бэкграунда: {get_avg_exam_grade(students, exp=False)}')\n",
        "        elif user_input == 'q':\n",
        "            print('До свидания!')\n",
        "            break"
      ]
    },
    {
      "cell_type": "code",
      "execution_count": null,
      "metadata": {
        "colab": {
          "base_uri": "https://localhost:8080/"
        },
        "id": "49d_puS7d7Pp",
        "outputId": "0ac03e2f-a0cf-43f9-d8e5-9fdb6ebc94c5"
      },
      "outputs": [
        {
          "name": "stdout",
          "output_type": "stream",
          "text": [
            "Введите команду1\n",
            "Средняя оценка за экзамен по группе: 7.5\n",
            "Введите команду2\n",
            "Средняя оценка за ДЗ по группе: 8.41\n",
            "Введите команду3\n",
            "Средняя оценка за экзамен у студентов без бэкграунда: 7.67\n",
            "Введите команду1\n",
            "Средняя оценка за экзамен по группе: 7.5\n",
            "Введите команду2\n",
            "Средняя оценка за ДЗ по группе: 8.41\n",
            "Введите командуq\n",
            "До свидания!\n"
          ]
        }
      ],
      "source": [
        "main(students_list)"
      ]
    },
    {
      "cell_type": "markdown",
      "metadata": {
        "id": "mgMjftejd7Ph"
      },
      "source": [
        "### Анонимные функции, функции map и filter"
      ]
    },
    {
      "cell_type": "markdown",
      "metadata": {
        "id": "johkgSPXd7Ph"
      },
      "source": [
        "[Анонимные функции](https://habr.com/ru/post/507642/) создаются при помощи инструкции lambda и используются для более краткой записи функций с одним выражением. Выполняются быстрее обычных и не требуют инструкции return."
      ]
    },
    {
      "cell_type": "code",
      "execution_count": null,
      "metadata": {
        "colab": {
          "base_uri": "https://localhost:8080/"
        },
        "id": "go0gAu5Qd7Ph",
        "outputId": "172e54f1-ba51-4de9-9035-f7712d11f6da"
      },
      "outputs": [
        {
          "name": "stdout",
          "output_type": "stream",
          "text": [
            "9\n"
          ]
        }
      ],
      "source": [
        "func = lambda x, y: x + y\n",
        "print(func(1, 8))"
      ]
    },
    {
      "cell_type": "code",
      "execution_count": null,
      "metadata": {
        "colab": {
          "base_uri": "https://localhost:8080/"
        },
        "id": "RQqB-oQ8d7Ph",
        "outputId": "d7412da2-4d02-4180-c9e1-89765c81daac"
      },
      "outputs": [
        {
          "name": "stdout",
          "output_type": "stream",
          "text": [
            "(3.0, 81)\n"
          ]
        }
      ],
      "source": [
        "sqrt = lambda x: (x**0.5, x**2)\n",
        "print(sqrt(9))"
      ]
    },
    {
      "cell_type": "markdown",
      "metadata": {
        "id": "Y-BEeoayd7Ph"
      },
      "source": [
        "### lambda + map"
      ]
    },
    {
      "cell_type": "markdown",
      "metadata": {
        "id": "vQikb7snd7Pi"
      },
      "source": [
        "В Python функция map принимает два аргумента: функцию и итерируемый объект, например, список. map применяет к каждому элементу объекта переданного в функцию."
      ]
    },
    {
      "cell_type": "markdown",
      "metadata": {
        "id": "KfsvVpu-d7Pi"
      },
      "source": [
        "Пишем программу, которая создает список, содержащий квадраты натуральных чисел от 1 до 9"
      ]
    },
    {
      "cell_type": "code",
      "execution_count": null,
      "metadata": {
        "colab": {
          "base_uri": "https://localhost:8080/"
        },
        "id": "z1T6oKmvd7Pi",
        "outputId": "d4d662f8-da1f-4500-9b62-1d41eac7bde0"
      },
      "outputs": [
        {
          "name": "stdout",
          "output_type": "stream",
          "text": [
            "[1, 4, 9, 16, 25, 36, 49, 64, 81]\n"
          ]
        }
      ],
      "source": [
        "# Традиционным способом\n",
        "my_list = []\n",
        "for i in range(1, 10):\n",
        "    my_list.append(i ** 2)\n",
        "print(my_list)"
      ]
    },
    {
      "cell_type": "code",
      "execution_count": null,
      "metadata": {
        "colab": {
          "base_uri": "https://localhost:8080/"
        },
        "id": "lAVF34Fed7Pi",
        "outputId": "a47414b2-b59d-4549-8ca4-fed83eaad883"
      },
      "outputs": [
        {
          "name": "stdout",
          "output_type": "stream",
          "text": [
            "[1, 4, 9, 16, 25, 36, 49, 64, 81]\n"
          ]
        }
      ],
      "source": [
        "# С помощью map+lambda\n",
        "print(list(map(lambda x: x**2, range(1,10))))"
      ]
    },
    {
      "cell_type": "code",
      "execution_count": null,
      "metadata": {
        "colab": {
          "base_uri": "https://localhost:8080/"
        },
        "id": "FLqx6pfXIg3j",
        "outputId": "c436b870-61ce-4ca7-b58a-f073aef83805",
        "scrolled": true
      },
      "outputs": [
        {
          "name": "stdout",
          "output_type": "stream",
          "text": [
            "[1.6, 10.4, 27.84, 3.84, 14.4]\n"
          ]
        }
      ],
      "source": [
        "def miles_to_kilometers(num_miles):\n",
        "    return num_miles * 1.6\n",
        " \n",
        "mile_distances = [1.0, 6.5, 17.4, 2.4, 9]\n",
        "kilometer_distances = list(map(miles_to_kilometers, mile_distances))\n",
        "print(kilometer_distances)"
      ]
    },
    {
      "cell_type": "code",
      "execution_count": null,
      "metadata": {
        "colab": {
          "base_uri": "https://localhost:8080/"
        },
        "id": "tz099Zb1Ig3n",
        "outputId": "c44a5827-7783-48f4-dc2b-3e4258c6207a",
        "scrolled": true
      },
      "outputs": [
        {
          "name": "stdout",
          "output_type": "stream",
          "text": [
            "[1.6, 10.4, 27.84, 3.84, 14.4]\n"
          ]
        }
      ],
      "source": [
        "mile_distances = [1.0, 6.5, 17.4, 2.4, 9]\n",
        "kilometer_distances = list(map(lambda x: x * 1.6, mile_distances))\n",
        "print(kilometer_distances)"
      ]
    },
    {
      "cell_type": "markdown",
      "metadata": {
        "id": "vUJMJrW7d7Pj"
      },
      "source": [
        "#### Практика. Напишите функцию, которая будет находить среднюю цену на товары в каждой категории по отдельности."
      ]
    },
    {
      "cell_type": "code",
      "execution_count": 28,
      "metadata": {
        "id": "Up5GPORUIg0o"
      },
      "outputs": [],
      "source": [
        "prices = [[100, 200, 400, 600], [200, 500], [100, 200, 100, 100], [800, 900]]"
      ]
    },
    {
      "cell_type": "code",
      "execution_count": 29,
      "metadata": {},
      "outputs": [
        {
          "name": "stdout",
          "output_type": "stream",
          "text": [
            "[325.0, 350.0, 125.0, 850.0]\n"
          ]
        }
      ],
      "source": [
        "print(list(map(lambda x: sum(x)/len(x), prices)))"
      ]
    },
    {
      "cell_type": "code",
      "execution_count": null,
      "metadata": {
        "colab": {
          "base_uri": "https://localhost:8080/"
        },
        "id": "Mev3JY5PFoXD",
        "outputId": "09990137-6a0d-445a-b572-7bc54c074c7f"
      },
      "outputs": [
        {
          "data": {
            "text/plain": [
              "[325.0, 350.0, 125.0, 850.0]"
            ]
          },
          "execution_count": 89,
          "metadata": {},
          "output_type": "execute_result"
        }
      ],
      "source": [
        "list(map(lambda x: sum(x) / len(x), prices)) "
      ]
    },
    {
      "cell_type": "markdown",
      "metadata": {
        "id": "p_Z4uw73j8Xx"
      },
      "source": [
        "### lambda + filter"
      ]
    },
    {
      "cell_type": "code",
      "execution_count": 30,
      "metadata": {
        "id": "EBLHeZpvQnFZ"
      },
      "outputs": [],
      "source": [
        "geo_logs = [\n",
        "    {'visit1': ['Москва', 'Россия']},\n",
        "    {'visit2': ['Дели', 'Индия']},\n",
        "    {'visit3': ['Владимир', 'Россия']},\n",
        "    {'visit4': ['Лиссабон', 'Португалия']},\n",
        "    {'visit5': ['Париж', 'Франция']},\n",
        "    {'visit7': ['Тула', 'Россия']},\n",
        "    {'visit9': ['Курск', 'Россия']},\n",
        "    {'visit10': ['Архангельск', 'Россия']}\n",
        "]"
      ]
    },
    {
      "cell_type": "code",
      "execution_count": 32,
      "metadata": {},
      "outputs": [
        {
          "data": {
            "text/plain": [
              "[{'visit1': ['Москва', 'Россия']},\n",
              " {'visit3': ['Владимир', 'Россия']},\n",
              " {'visit7': ['Тула', 'Россия']},\n",
              " {'visit9': ['Курск', 'Россия']},\n",
              " {'visit10': ['Архангельск', 'Россия']}]"
            ]
          },
          "execution_count": 32,
          "metadata": {},
          "output_type": "execute_result"
        }
      ],
      "source": [
        "list(filter(lambda log: 'Россия' in list(log.values())[0], geo_logs))"
      ]
    },
    {
      "cell_type": "code",
      "execution_count": null,
      "metadata": {
        "colab": {
          "base_uri": "https://localhost:8080/"
        },
        "id": "DaRAQ3R1QsP1",
        "outputId": "49d63887-5d79-4bf1-b571-ba4d99016215"
      },
      "outputs": [
        {
          "name": "stdout",
          "output_type": "stream",
          "text": [
            "['Москва', 'Россия']\n",
            "['Дели', 'Индия']\n",
            "['Владимир', 'Россия']\n",
            "['Лиссабон', 'Португалия']\n",
            "['Париж', 'Франция']\n",
            "['Тула', 'Россия']\n",
            "['Курск', 'Россия']\n",
            "['Архангельск', 'Россия']\n",
            "[{'visit1': ['Москва', 'Россия']}, {'visit3': ['Владимир', 'Россия']}, {'visit7': ['Тула', 'Россия']}, {'visit9': ['Курск', 'Россия']}, {'visit10': ['Архангельск', 'Россия']}]\n"
          ]
        }
      ],
      "source": [
        "# раньше мы бы сделали так\n",
        "result = []\n",
        "for log in geo_logs:\n",
        "    # print(list(log.values())[0])\n",
        "    if 'Россия' in list(log.values())[0]:\n",
        "        result.append(log)\n",
        "        \n",
        "print(result)"
      ]
    },
    {
      "cell_type": "code",
      "execution_count": null,
      "metadata": {
        "colab": {
          "base_uri": "https://localhost:8080/"
        },
        "id": "69ru-aTZQu8j",
        "outputId": "e7af4b40-3ec7-494a-db45-a1363a7e4a2e"
      },
      "outputs": [
        {
          "name": "stdout",
          "output_type": "stream",
          "text": [
            "[{'visit1': ['Москва', 'Россия']}, {'visit3': ['Владимир', 'Россия']}, {'visit7': ['Тула', 'Россия']}, {'visit9': ['Курск', 'Россия']}, {'visit10': ['Архангельск', 'Россия']}]\n"
          ]
        }
      ],
      "source": [
        "# а теперь можем так\n",
        "print(list(filter(lambda log: 'Россия' in list(log.values())[0], geo_logs)))"
      ]
    },
    {
      "cell_type": "markdown",
      "metadata": {
        "id": "ONpdieq_fpaF"
      },
      "source": [
        "### Цикл / рекурсия / reduce ?\n",
        "\n",
        "Напишем функцию, преобразующую произвольный список вида `['2018-01-01', 'yandex', 'cpc', 100]` (он может быть любой длины) в словарь `{'2018-01-01': {'yandex': {'cpc': 100}}}`"
      ]
    },
    {
      "cell_type": "code",
      "execution_count": 33,
      "metadata": {
        "id": "GEn97dBdfxx_"
      },
      "outputs": [],
      "source": [
        "crazy_list = ['2018-01-01', 'yandex', 'cpc', 100]"
      ]
    },
    {
      "cell_type": "code",
      "execution_count": 65,
      "metadata": {
        "id": "tpi4nSM-gLOh"
      },
      "outputs": [
        {
          "name": "stdout",
          "output_type": "stream",
          "text": [
            "['2018-01-01', 'yandex', 'cpc']\n",
            "{'2018-01-01': {'yandex': {'cpc': 100}}}\n"
          ]
        }
      ],
      "source": [
        "def get_crazy_nested_dict(my_list):\n",
        "    print(my_list[:-1])  \n",
        "    res = my_list[-1]            \n",
        "    for el in reversed(my_list[:-1]):      \n",
        "      res = {el: res}\n",
        "    return res\n",
        "    \n",
        "print(get_crazy_nested_dict(crazy_list))"
      ]
    },
    {
      "cell_type": "code",
      "execution_count": 69,
      "metadata": {
        "id": "0Ymw-OkYuNyC"
      },
      "outputs": [
        {
          "name": "stdout",
          "output_type": "stream",
          "text": [
            "315\n"
          ]
        }
      ],
      "source": [
        "# reduce последовательно применяет функцию-аргумент к элементам списка, возвращает единичное значение. \n",
        "\n",
        "from functools import reduce\n",
        "res = reduce(lambda a, b: a * b, [1, 5, 7, 9])\n",
        "print(res)"
      ]
    },
    {
      "cell_type": "code",
      "execution_count": 70,
      "metadata": {
        "id": "IhiHZlnluQxN"
      },
      "outputs": [
        {
          "name": "stdout",
          "output_type": "stream",
          "text": [
            "{'2018-01-01': {'yandex': {'cpc': 100}}}\n"
          ]
        }
      ],
      "source": [
        "# реализация через reduce\n",
        "\n",
        "\n",
        "from functools import reduce\n",
        "print(reduce(lambda key, value: {value: key}, reversed(crazy_list)))"
      ]
    },
    {
      "cell_type": "code",
      "execution_count": null,
      "metadata": {
        "colab": {
          "base_uri": "https://localhost:8080/",
          "height": 169
        },
        "id": "851YNAxg-Rag",
        "outputId": "4fd9746a-e29f-485c-a2ea-d4886b884ce7"
      },
      "outputs": [
        {
          "ename": "AttributeError",
          "evalue": "ignored",
          "output_type": "error",
          "traceback": [
            "\u001b[0;31m---------------------------------------------------------------------------\u001b[0m",
            "\u001b[0;31mAttributeError\u001b[0m                            Traceback (most recent call last)",
            "\u001b[0;32m<ipython-input-98-8a6e09424ace>\u001b[0m in \u001b[0;36m<module>\u001b[0;34m()\u001b[0m\n\u001b[0;32m----> 1\u001b[0;31m \u001b[0mstr\u001b[0m\u001b[0;34m.\u001b[0m\u001b[0mascii_letters\u001b[0m\u001b[0;34m\u001b[0m\u001b[0;34m\u001b[0m\u001b[0m\n\u001b[0m",
            "\u001b[0;31mAttributeError\u001b[0m: type object 'str' has no attribute 'ascii_letters'"
          ]
        }
      ],
      "source": []
    },
    {
      "cell_type": "markdown",
      "metadata": {
        "id": "OgFcwZp-Z-ck"
      },
      "source": [
        "### Спасибо за внимание буду рад ответить на ваши вопросы!\n",
        "Ссылка на форму ОС:\n",
        "https://forms.gle/y8xaFwJqtbFSjUeG8\n"
      ]
    }
  ],
  "metadata": {
    "colab": {
      "collapsed_sections": [],
      "name": "sf_functions_09_07_22.ipynb",
      "provenance": []
    },
    "kernelspec": {
      "display_name": "Python 3.9.7 ('base')",
      "language": "python",
      "name": "python3"
    },
    "language_info": {
      "codemirror_mode": {
        "name": "ipython",
        "version": 3
      },
      "file_extension": ".py",
      "mimetype": "text/x-python",
      "name": "python",
      "nbconvert_exporter": "python",
      "pygments_lexer": "ipython3",
      "version": "3.9.7"
    },
    "vscode": {
      "interpreter": {
        "hash": "fd2d63775d6b861368f2b68b88b1b40a35d08c6b96cd47d9eb8c9533c1d8ad02"
      }
    }
  },
  "nbformat": 4,
  "nbformat_minor": 0
}
