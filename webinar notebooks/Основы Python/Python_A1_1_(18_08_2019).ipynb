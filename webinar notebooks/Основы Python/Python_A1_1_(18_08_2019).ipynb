{
  "cells": [
    {
      "cell_type": "markdown",
      "metadata": {
        "id": "FzrzTlktQ2OK"
      },
      "source": [
        "# Python. Начало"
      ]
    },
    {
      "cell_type": "markdown",
      "metadata": {
        "id": "Gy5xLT64Q2OL"
      },
      "source": [
        "## 1. Переменные. Вывод данных"
      ]
    },
    {
      "cell_type": "markdown",
      "metadata": {
        "id": "dMgT3dZ6Q2OL"
      },
      "source": [
        "### 1.1. Простые математические действия. Вывод данных"
      ]
    },
    {
      "cell_type": "markdown",
      "metadata": {
        "id": "f6_lu8z3Q2OM"
      },
      "source": [
        "Простые арифметические действия с числами (на примере сложения):"
      ]
    },
    {
      "cell_type": "code",
      "execution_count": 4,
      "metadata": {
        "id": "2fdGAeD8Q2ON",
        "outputId": "2a2141ec-aff7-4a1c-91f8-6426a605d194"
      },
      "outputs": [
        {
          "data": {
            "text/plain": [
              "11"
            ]
          },
          "execution_count": 4,
          "metadata": {},
          "output_type": "execute_result"
        }
      ],
      "source": [
        "6 + 5"
      ]
    },
    {
      "cell_type": "markdown",
      "metadata": {
        "id": "7rGed59vQ2OO"
      },
      "source": [
        "Простые арифметические действия и вывод результатов вычислений в понятном формате:"
      ]
    },
    {
      "cell_type": "code",
      "execution_count": null,
      "metadata": {
        "id": "HlgZPoa2Q2OP",
        "outputId": "0df7bc7b-793e-4c35-c51c-deb5cee3296d"
      },
      "outputs": [
        {
          "name": "stdout",
          "output_type": "stream",
          "text": [
            "6 + 5 = 11\n"
          ]
        }
      ],
      "source": [
        "print('6 + 5 =', 6+5)"
      ]
    },
    {
      "cell_type": "code",
      "execution_count": null,
      "metadata": {
        "id": "wc04kqkUQ2OQ",
        "outputId": "19322a49-e973-4bab-d053-70e872a1bcf0"
      },
      "outputs": [
        {
          "name": "stdout",
          "output_type": "stream",
          "text": [
            "6 + 5 =11\n"
          ]
        }
      ],
      "source": [
        "print('6 + 5 =' + '11')"
      ]
    },
    {
      "cell_type": "code",
      "execution_count": null,
      "metadata": {
        "id": "BvgIsw6zQ2OQ",
        "outputId": "f0937c60-d87b-40ac-9ea5-58b718cbff3e"
      },
      "outputs": [
        {
          "name": "stdout",
          "output_type": "stream",
          "text": [
            "6 + 5 = 11\n"
          ]
        }
      ],
      "source": [
        "print('6 + 5 = {}'.format(6+5))"
      ]
    },
    {
      "cell_type": "markdown",
      "metadata": {
        "id": "sy9udBsSQ2OR"
      },
      "source": [
        "Арифметические действия с использованием переменных:"
      ]
    },
    {
      "cell_type": "code",
      "execution_count": null,
      "metadata": {
        "id": "1rJweyZwQ2OS"
      },
      "outputs": [],
      "source": [
        "# Задаем значения переменных а и b:\n",
        "a = 24\n",
        "b = 50"
      ]
    },
    {
      "cell_type": "code",
      "execution_count": null,
      "metadata": {
        "id": "BqB04cdiQ2OT",
        "outputId": "5a4b70b3-01d6-4f04-95fa-e1626a2c1b8b"
      },
      "outputs": [
        {
          "name": "stdout",
          "output_type": "stream",
          "text": [
            "24 + 50 = 74\n"
          ]
        }
      ],
      "source": [
        "# Выводим на экран результаты вычислений\n",
        "print('{} + {} = {}'.format(a, b, a+b))"
      ]
    },
    {
      "cell_type": "markdown",
      "metadata": {
        "id": "ZikuZRNgQ2OU"
      },
      "source": [
        "### 1.2. Типы переменных"
      ]
    },
    {
      "cell_type": "code",
      "execution_count": null,
      "metadata": {
        "id": "UfFRfY7KQ2OV"
      },
      "outputs": [],
      "source": [
        "number1 = 25\n",
        "number2 = 3.14\n",
        "word = 'Hello!'\n",
        "letter = 'a'"
      ]
    },
    {
      "cell_type": "code",
      "execution_count": null,
      "metadata": {
        "id": "zyS0LSoxQ2OW",
        "outputId": "d0bf777a-26c0-4d3d-bc6c-6fab5f781883"
      },
      "outputs": [
        {
          "name": "stdout",
          "output_type": "stream",
          "text": [
            "Тип переменной number1 (25): <class 'int'>\n"
          ]
        }
      ],
      "source": [
        "# Сообщаем тип переменной number1\n",
        "print('Тип переменной number1 ({}): {}'.format(number1, type(number1)))"
      ]
    },
    {
      "cell_type": "code",
      "execution_count": null,
      "metadata": {
        "id": "jzt06kQJQ2OX",
        "outputId": "a1f060fc-bdc7-43ab-d797-110945206e21"
      },
      "outputs": [
        {
          "name": "stdout",
          "output_type": "stream",
          "text": [
            "Тип переменной number2 (3.14): <class 'float'>\n"
          ]
        }
      ],
      "source": [
        "# Сообщаем тип переменной number2\n",
        "print('Тип переменной number2 ({}): {}'.format(number2, type(number2)))"
      ]
    },
    {
      "cell_type": "code",
      "execution_count": null,
      "metadata": {
        "id": "6HeHVBV6Q2OX",
        "outputId": "a2c41f80-a1cf-4538-8b90-06296bf5caf3"
      },
      "outputs": [
        {
          "name": "stdout",
          "output_type": "stream",
          "text": [
            "Тип переменной word (Hello!): <class 'str'>\n"
          ]
        }
      ],
      "source": [
        "# Сообщаем тип переменной word\n",
        "print('Тип переменной word ({}): {}'.format(word, type(word)))"
      ]
    },
    {
      "cell_type": "code",
      "execution_count": null,
      "metadata": {
        "id": "oihQrTvHQ2OY",
        "outputId": "752980d7-7fd8-4d55-8c94-ad6d5da3b64e"
      },
      "outputs": [
        {
          "name": "stdout",
          "output_type": "stream",
          "text": [
            "Тип переменной letter (a): <class 'str'>\n"
          ]
        }
      ],
      "source": [
        "# Сообщаем тип переменной letter\n",
        "print('Тип переменной letter ({}): {}'.format(letter, type(letter)))"
      ]
    },
    {
      "cell_type": "markdown",
      "metadata": {
        "id": "HEW3H3-IQ2OY"
      },
      "source": [
        "Экспериментируем с именами переменных:"
      ]
    },
    {
      "cell_type": "code",
      "execution_count": null,
      "metadata": {
        "id": "edEdQT4TQ2OZ"
      },
      "outputs": [],
      "source": [
        "word = 25\n",
        "Word = 'Python'"
      ]
    },
    {
      "cell_type": "code",
      "execution_count": null,
      "metadata": {
        "id": "xp2S32hTQ2OZ",
        "outputId": "40e34ff2-00f2-4204-cfbf-489fb4de233a"
      },
      "outputs": [
        {
          "data": {
            "text/plain": [
              "str"
            ]
          },
          "execution_count": 16,
          "metadata": {},
          "output_type": "execute_result"
        }
      ],
      "source": [
        "type(Word)"
      ]
    },
    {
      "cell_type": "code",
      "execution_count": null,
      "metadata": {
        "id": "_YGLSFEuQ2Oa"
      },
      "outputs": [],
      "source": [
        "a = '2.8'"
      ]
    },
    {
      "cell_type": "code",
      "execution_count": null,
      "metadata": {
        "id": "_VokWQlLQ2Oa"
      },
      "outputs": [],
      "source": [
        "a = float(a)"
      ]
    },
    {
      "cell_type": "code",
      "execution_count": null,
      "metadata": {
        "id": "djDBAxHXQ2Oa"
      },
      "outputs": [],
      "source": [
        "a = int(a)"
      ]
    },
    {
      "cell_type": "code",
      "execution_count": null,
      "metadata": {
        "id": "0OevLcj-Q2Oa",
        "outputId": "b027de0f-efd7-42c3-970d-2d8b6b96f98d"
      },
      "outputs": [
        {
          "data": {
            "text/plain": [
              "int"
            ]
          },
          "execution_count": 22,
          "metadata": {},
          "output_type": "execute_result"
        }
      ],
      "source": [
        "type(a)"
      ]
    },
    {
      "cell_type": "code",
      "execution_count": null,
      "metadata": {
        "id": "3REKvcmvQ2Ob",
        "outputId": "b9c27d21-aa9f-488a-a38d-f1126a8d2fc5"
      },
      "outputs": [
        {
          "data": {
            "text/plain": [
              "2"
            ]
          },
          "execution_count": 28,
          "metadata": {},
          "output_type": "execute_result"
        }
      ],
      "source": [
        "a"
      ]
    },
    {
      "cell_type": "markdown",
      "metadata": {
        "id": "6K-ISxZeQ2Oe"
      },
      "source": [
        "Переход от переменной одного типа к другому:"
      ]
    },
    {
      "cell_type": "code",
      "execution_count": null,
      "metadata": {
        "id": "GtfdtKApQ2Of",
        "outputId": "110a3ff6-0eb5-4ac9-d9a9-6dc02d619bb7"
      },
      "outputs": [
        {
          "name": "stdout",
          "output_type": "stream",
          "text": [
            "a = 17\n",
            "b = 58\n",
            "17 + 58 = 1758\n"
          ]
        }
      ],
      "source": [
        "# Неожиданный результат сложения:\n",
        "a = input('a = ')\n",
        "b = input('b = ')\n",
        "print('{} + {} = {}'.format(a, b, a+b))"
      ]
    },
    {
      "cell_type": "code",
      "execution_count": null,
      "metadata": {
        "id": "qsn1w77iQ2Of",
        "outputId": "ed044cbf-8b6f-4a38-b887-2bd32aa0dad8"
      },
      "outputs": [
        {
          "data": {
            "text/plain": [
              "str"
            ]
          },
          "execution_count": 30,
          "metadata": {},
          "output_type": "execute_result"
        }
      ],
      "source": [
        "type(a)"
      ]
    },
    {
      "cell_type": "code",
      "execution_count": null,
      "metadata": {
        "id": "_73SaT6vQ2Of",
        "outputId": "7279273d-a008-49ae-c869-d01277a3949d"
      },
      "outputs": [
        {
          "name": "stdout",
          "output_type": "stream",
          "text": [
            "a = 17\n",
            "b = 58\n",
            "17 + 58 = 75\n"
          ]
        }
      ],
      "source": [
        "a = int(input('a = '))\n",
        "b = int(input('b = '))\n",
        "print('{} + {} = {}'.format(a, b, a+b))"
      ]
    },
    {
      "cell_type": "markdown",
      "metadata": {
        "id": "-IqdAultQ2Of"
      },
      "source": [
        "## 2. Условия"
      ]
    },
    {
      "cell_type": "markdown",
      "metadata": {
        "id": "qT2mP_tLQ2Og"
      },
      "source": [
        "### 2.1. Простые условия"
      ]
    },
    {
      "cell_type": "markdown",
      "metadata": {
        "id": "EB8DhNvhQ2Og"
      },
      "source": [
        "Поэкспериментируем с числами. Задача - определить, какое из двух чисел больше."
      ]
    },
    {
      "cell_type": "code",
      "execution_count": null,
      "metadata": {
        "id": "OItDK6ilQ2Og",
        "outputId": "f1d719aa-556b-4417-f82d-0266b39be3e4"
      },
      "outputs": [
        {
          "name": "stdout",
          "output_type": "stream",
          "text": [
            "a = 5\n",
            "b = 5\n",
            "5 = 5\n",
            "Проверка закончена! Ура!\n"
          ]
        }
      ],
      "source": [
        "a = int(input('a = '))\n",
        "b = int(input('b = '))\n",
        "if a > b:\n",
        "    print('{} > {}'.format(a,b))\n",
        "elif a < b:\n",
        "    print('{} < {}'.format(a,b))\n",
        "else:\n",
        "    print('{} = {}'.format(a,b))\n",
        "print('Проверка закончена! Ура!')"
      ]
    },
    {
      "cell_type": "markdown",
      "metadata": {
        "id": "okAZ-roPQ2Oh"
      },
      "source": [
        "А как сравнить строковые данные?"
      ]
    },
    {
      "cell_type": "code",
      "execution_count": null,
      "metadata": {
        "id": "M7-84_nTQ2Oh",
        "outputId": "578db9d3-3c13-4b73-8308-7ab6b4a37689"
      },
      "outputs": [
        {
          "data": {
            "text/plain": [
              "True"
            ]
          },
          "execution_count": 42,
          "metadata": {},
          "output_type": "execute_result"
        }
      ],
      "source": [
        "'кот' > 'кит'"
      ]
    },
    {
      "cell_type": "code",
      "execution_count": null,
      "metadata": {
        "id": "Ft79Z3TaQ2Oi",
        "outputId": "18b0bd85-86db-48bd-90f8-7e188d40e609"
      },
      "outputs": [
        {
          "name": "stdout",
          "output_type": "stream",
          "text": [
            "Введите первое слово: Кот\n",
            "Введите второе слово: кот\n",
            "Сначала найдите в словаре слово \"Кот\", а потом - \"кот\"\n"
          ]
        }
      ],
      "source": [
        "word1 = input('Введите первое слово: ')\n",
        "word2 = input('Введите второе слово: ')\n",
        "\n",
        "if word1 < word2:\n",
        "    print('Сначала найдите в словаре слово \"{}\", а потом - \"{}\"'.format(word1, word2))\n",
        "elif word1 > word2:\n",
        "    print('Сначала найдите в словаре слово \"{}\", а потом - \"{}\"'.format(word2, word1))\n",
        "else:\n",
        "    print('Зачем вы ввели два одинаковых слова?')"
      ]
    },
    {
      "cell_type": "markdown",
      "metadata": {
        "id": "5epBnQbiQ2Oi"
      },
      "source": [
        "### 2.2. Вложенные условия. Составные условия. Логические операции"
      ]
    },
    {
      "cell_type": "markdown",
      "metadata": {
        "id": "tuThk6WtQ2Oi"
      },
      "source": [
        "Задание: сравнить два числа и:  \n",
        "1. Если первое число больше и при этом чётное - вывести кодовое слово \"синхрофазотрон\".  \n",
        "2. Если первое число больше и при этом нечётное - \"какаду\".  \n",
        "3. Если второе число больше и при этом чётное - \"прокрастинация\".  \n",
        "4. Если второе число больше и при этом нечётное - \"папоротник\".  \n",
        "5. Если числа одинаковые - \"безмятежность\".  \n",
        ":)  \n",
        "\n",
        "ВНИМАНИЕ! Задачу нужно решить двумя способами!"
      ]
    },
    {
      "cell_type": "code",
      "execution_count": null,
      "metadata": {
        "id": "41lWQAmVQ2Oj",
        "outputId": "7e05ee36-dd6d-4d1b-ae5e-d38f58d35ad0"
      },
      "outputs": [
        {
          "name": "stdout",
          "output_type": "stream",
          "text": [
            "a = 5\n",
            "b = 5\n",
            "безмятежность\n"
          ]
        }
      ],
      "source": [
        "# Способ 1: с помощью вложенных условий\n",
        "a = int(input('a = '))\n",
        "b = int(input('b = '))\n",
        "if a > b:\n",
        "    if a%2 == 0:\n",
        "        print('синхрофазотрон')\n",
        "    else:\n",
        "        print('какаду')\n",
        "elif a < b:\n",
        "    if b%2 == 0:\n",
        "        print('прокрастинация')\n",
        "    else:\n",
        "        print('папоротник')\n",
        "else:\n",
        "    print('безмятежность')"
      ]
    },
    {
      "cell_type": "code",
      "execution_count": null,
      "metadata": {
        "id": "UOieneOAQ2Oj",
        "outputId": "0df240b0-b972-4141-8816-decd485e2799"
      },
      "outputs": [
        {
          "name": "stdout",
          "output_type": "stream",
          "text": [
            "a = 22\n",
            "b = 22\n",
            "безмятежность\n"
          ]
        }
      ],
      "source": [
        "# Способ 2: с помощью логических операторов\n",
        "a = int(input('a = '))\n",
        "b = int(input('b = '))\n",
        "\n",
        "if a>b and a%2==0:\n",
        "    print('синхрофазотрон')\n",
        "elif a>b and a%2!=0:\n",
        "    print('какаду')\n",
        "elif b>a and b%2==0:\n",
        "    print('прокрастинация')\n",
        "elif b>a and b%2!=0:\n",
        "    print('папоротник')\n",
        "else:\n",
        "    print('безмятежность')"
      ]
    },
    {
      "cell_type": "code",
      "execution_count": null,
      "metadata": {
        "id": "D1AHgS5YQ2Ok"
      },
      "outputs": [],
      "source": []
    }
  ],
  "metadata": {
    "colab": {
      "name": "Python A1-1 (18.08.2019).ipynb",
      "provenance": []
    },
    "kernelspec": {
      "display_name": "Python 3.9.7 ('base')",
      "language": "python",
      "name": "python3"
    },
    "language_info": {
      "codemirror_mode": {
        "name": "ipython",
        "version": 3
      },
      "file_extension": ".py",
      "mimetype": "text/x-python",
      "name": "python",
      "nbconvert_exporter": "python",
      "pygments_lexer": "ipython3",
      "version": "3.9.7"
    },
    "vscode": {
      "interpreter": {
        "hash": "fd2d63775d6b861368f2b68b88b1b40a35d08c6b96cd47d9eb8c9533c1d8ad02"
      }
    }
  },
  "nbformat": 4,
  "nbformat_minor": 0
}
