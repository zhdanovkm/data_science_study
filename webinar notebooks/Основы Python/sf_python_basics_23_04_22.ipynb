{
  "nbformat": 4,
  "nbformat_minor": 0,
  "metadata": {
    "colab": {
      "name": "sf_python_basics_23_04_22.ipynb",
      "provenance": [],
      "collapsed_sections": []
    },
    "kernelspec": {
      "display_name": "Python 3",
      "language": "python",
      "name": "python3"
    },
    "language_info": {
      "codemirror_mode": {
        "name": "ipython",
        "version": 3
      },
      "file_extension": ".py",
      "mimetype": "text/x-python",
      "name": "python",
      "nbconvert_exporter": "python",
      "pygments_lexer": "ipython3",
      "version": "3.8.3"
    }
  },
  "cells": [
    {
      "cell_type": "markdown",
      "metadata": {
        "id": "yVALumcwE-0Z"
      },
      "source": [
        "\n",
        "# Основы Python"
      ]
    },
    {
      "cell_type": "markdown",
      "metadata": {
        "id": "edQI-m-cCgpV"
      },
      "source": [
        "Булыгин Олег:  \n",
        "* [LinkedIn](linkedin.com/in/obulygin)  \n",
        "* [Telegram](https://t.me/obulygin91)  \n",
        "* [Vk](vk.com/obulygin91)  \n",
        "* email: obulygin91@ya.ru  \n",
        "\n",
        "[Сообщество по Python](https://yandex.ru/q/loves/pythontalk/) на Кью  \n",
        "[Сообщество по Data Science и анализу данных](https://yandex.ru/q/loves/datatalk/) на Кью "
      ]
    },
    {
      "cell_type": "markdown",
      "metadata": {
        "id": "RY8a8l1tFWSo"
      },
      "source": [
        "## План занятия"
      ]
    },
    {
      "cell_type": "markdown",
      "metadata": {
        "id": "r9zAJM26E5S6"
      },
      "source": [
        "\n",
        "План занятия\n",
        "1. PEP\n",
        "2. Вспомним про базовые типы данных и приведение типов\n",
        "3. Числовой тип\n",
        "4. Переменные\n",
        "5. Пользовательский ввод\n",
        "6. Строковый тип\n",
        "\n"
      ]
    },
    {
      "cell_type": "markdown",
      "metadata": {
        "id": "yeFs_dLk5YJW"
      },
      "source": [
        "## PEP\n",
        "\n",
        "PEP (python enhanced proposal — заявки на улучшение языка python)."
      ]
    },
    {
      "cell_type": "markdown",
      "metadata": {
        "id": "hQ_c5hAl5eNt"
      },
      "source": [
        "PEP20 – Zen of Python\n",
        "\n",
        "Python придерживается философии, которую сформулировал Тим Петерс в 19 принципах. Её текст выдаётся интерпретатором Python по команде `import this`."
      ]
    },
    {
      "cell_type": "code",
      "metadata": {
        "id": "ANmgIu_25FK9",
        "colab": {
          "base_uri": "https://localhost:8080/"
        },
        "outputId": "654d5d0d-0837-48af-ca34-bd65cc1cdcdd"
      },
      "source": [
        "import this"
      ],
      "execution_count": null,
      "outputs": [
        {
          "output_type": "stream",
          "name": "stdout",
          "text": [
            "The Zen of Python, by Tim Peters\n",
            "\n",
            "Beautiful is better than ugly.\n",
            "Explicit is better than implicit.\n",
            "Simple is better than complex.\n",
            "Complex is better than complicated.\n",
            "Flat is better than nested.\n",
            "Sparse is better than dense.\n",
            "Readability counts.\n",
            "Special cases aren't special enough to break the rules.\n",
            "Although practicality beats purity.\n",
            "Errors should never pass silently.\n",
            "Unless explicitly silenced.\n",
            "In the face of ambiguity, refuse the temptation to guess.\n",
            "There should be one-- and preferably only one --obvious way to do it.\n",
            "Although that way may not be obvious at first unless you're Dutch.\n",
            "Now is better than never.\n",
            "Although never is often better than *right* now.\n",
            "If the implementation is hard to explain, it's a bad idea.\n",
            "If the implementation is easy to explain, it may be a good idea.\n",
            "Namespaces are one honking great idea -- let's do more of those!\n"
          ]
        }
      ]
    },
    {
      "cell_type": "markdown",
      "metadata": {
        "id": "9G-RZWKR5t71"
      },
      "source": [
        "PEP8\n",
        "\n",
        "PEP8 – соглашение о том, как писать код для языка python.\n",
        "Ключевая идея такова: код читается намного больше раз, чем пишется. Собственно, рекомендации о стиле написания кода направлены на то, чтобы улучшить читаемость кода и сделать его согласованным между большим числом проектов. В идеале, весь код будет написан в едином стиле, и любой сможет легко его прочесть.\n",
        "\n",
        "https://pythonworld.ru/osnovy/pep-8-rukovodstvo-po-napisaniyu-koda-na-python.html\n",
        "\n",
        "http://pep8online.com/"
      ]
    },
    {
      "cell_type": "markdown",
      "metadata": {
        "id": "DUkku4BAIwWV"
      },
      "source": [
        "## Первая программа\n"
      ]
    },
    {
      "cell_type": "markdown",
      "metadata": {
        "id": "Yk7mOKZSTC6X"
      },
      "source": [
        "Напишем нашу первую программу - выведем строку на экран\n"
      ]
    },
    {
      "cell_type": "code",
      "metadata": {
        "colab": {
          "base_uri": "https://localhost:8080/"
        },
        "id": "GYCoObAITC6Z",
        "scrolled": false,
        "outputId": "2610449a-7aba-4946-ba43-4ad8a1f62463"
      },
      "source": [
        "print('Hello, World') \n",
        "#код состоит из двух частей - функции вывода print() и строки 'Hello world!'"
      ],
      "execution_count": null,
      "outputs": [
        {
          "output_type": "stream",
          "name": "stdout",
          "text": [
            "Hello, World\n"
          ]
        }
      ]
    },
    {
      "cell_type": "markdown",
      "metadata": {
        "id": "JK4zZdWo2Q1V"
      },
      "source": [
        "## Основные типы данных в Python"
      ]
    },
    {
      "cell_type": "markdown",
      "metadata": {
        "id": "UxFIXyQH2Q1W"
      },
      "source": [
        "Тип данных можно представить себе как некоторую родословную, у каждой из которых есть своя уникальная фамилия и свои уникальные возможности. Типы данных могут быть как встроеные в Python, так и созданные самим программистом."
      ]
    },
    {
      "cell_type": "code",
      "metadata": {
        "scrolled": true,
        "id": "kW1BMnXZ2Q1Y",
        "colab": {
          "base_uri": "https://localhost:8080/"
        },
        "outputId": "444ce0af-c95e-4278-826d-0c7ebd811b4e"
      },
      "source": [
        "print(type(5)) #целые числа\n",
        "print(type(3.612)) #числа с плавающей точкой\n",
        "print(type(True)) #булевые значения (логические числа)\n",
        "print(type(False))\n",
        "\n",
        "print(type('Какой это тип данных?'))"
      ],
      "execution_count": null,
      "outputs": [
        {
          "output_type": "stream",
          "name": "stdout",
          "text": [
            "<class 'int'>\n",
            "<class 'float'>\n",
            "<class 'bool'>\n",
            "<class 'bool'>\n",
            "<class 'str'>\n"
          ]
        }
      ]
    },
    {
      "cell_type": "markdown",
      "metadata": {
        "id": "f77yfjFQMMzl"
      },
      "source": [
        "## Приведение типов"
      ]
    },
    {
      "cell_type": "markdown",
      "metadata": {
        "id": "lFAd_H2v2Q1b"
      },
      "source": [
        "Для того чтобы явно приводить типы можно воспользоваться соответствующими операторами. Такая операция называется **явное приведение типов**"
      ]
    },
    {
      "cell_type": "code",
      "metadata": {
        "id": "31iYqk782Q1c",
        "colab": {
          "base_uri": "https://localhost:8080/"
        },
        "outputId": "c20d74f8-dd7f-4dab-9a1f-f1f31731a933"
      },
      "source": [
        "int(False)\n",
        "# для вывода в ноутбуках не обязательно использовать print"
      ],
      "execution_count": null,
      "outputs": [
        {
          "output_type": "execute_result",
          "data": {
            "text/plain": [
              "0"
            ]
          },
          "metadata": {},
          "execution_count": 8
        }
      ]
    },
    {
      "cell_type": "code",
      "metadata": {
        "id": "hpVe3FoL2Q1d",
        "colab": {
          "base_uri": "https://localhost:8080/"
        },
        "outputId": "e8616099-7511-4c8d-d5bf-9640a6b90098"
      },
      "source": [
        "float(True)"
      ],
      "execution_count": null,
      "outputs": [
        {
          "output_type": "execute_result",
          "data": {
            "text/plain": [
              "1.0"
            ]
          },
          "metadata": {},
          "execution_count": 11
        }
      ]
    },
    {
      "cell_type": "code",
      "metadata": {
        "id": "oI6y1FpQ2Q1d",
        "colab": {
          "base_uri": "https://localhost:8080/"
        },
        "outputId": "dba15e40-c77c-4c2e-968a-803632013a01"
      },
      "source": [
        "bool('')"
      ],
      "execution_count": null,
      "outputs": [
        {
          "output_type": "execute_result",
          "data": {
            "text/plain": [
              "False"
            ]
          },
          "metadata": {},
          "execution_count": 14
        }
      ]
    },
    {
      "cell_type": "code",
      "metadata": {
        "id": "NHCqNOwBMuZE",
        "colab": {
          "base_uri": "https://localhost:8080/",
          "height": 36
        },
        "outputId": "79c5ae26-61be-4978-fb07-24ec8be239ce"
      },
      "source": [
        "str(345)"
      ],
      "execution_count": null,
      "outputs": [
        {
          "output_type": "execute_result",
          "data": {
            "text/plain": [
              "'True'"
            ],
            "application/vnd.google.colaboratory.intrinsic+json": {
              "type": "string"
            }
          },
          "metadata": {},
          "execution_count": 17
        }
      ]
    },
    {
      "cell_type": "markdown",
      "metadata": {
        "id": "4qEZrknO2Q1e"
      },
      "source": [
        "Однако возможна такая ситация, когда язык сам за ваш решает, какой тип данных получится в результате выполнения операции. Такая операция называется **неявное приведение типов**. Частным случаям неявного приведения типов является деление:"
      ]
    },
    {
      "cell_type": "code",
      "metadata": {
        "colab": {
          "base_uri": "https://localhost:8080/"
        },
        "id": "voV5e2KZrvOV",
        "outputId": "f462ab58-f6c7-4c48-ea89-11023d952df6"
      },
      "source": [
        "print(80 / 2.454) "
      ],
      "execution_count": null,
      "outputs": [
        {
          "output_type": "stream",
          "name": "stdout",
          "text": [
            "32.59983700081499\n"
          ]
        }
      ]
    },
    {
      "cell_type": "markdown",
      "metadata": {
        "id": "eZIGUFtmly9r"
      },
      "source": [
        "Или арифметика с логическими значениями:"
      ]
    },
    {
      "cell_type": "code",
      "metadata": {
        "colab": {
          "base_uri": "https://localhost:8080/"
        },
        "id": "criunOj0lvkU",
        "outputId": "9e03d586-738a-4960-9b08-33ac1719b39a"
      },
      "source": [
        "print(True + 1)"
      ],
      "execution_count": null,
      "outputs": [
        {
          "output_type": "stream",
          "name": "stdout",
          "text": [
            "2\n"
          ]
        }
      ]
    },
    {
      "cell_type": "markdown",
      "metadata": {
        "id": "qRMN22wvK5zR"
      },
      "source": [
        "## Работа с числами"
      ]
    },
    {
      "cell_type": "markdown",
      "metadata": {
        "id": "BCee-aGlqPHC"
      },
      "source": [
        "<table class=\"src\" border=\"1\">\n",
        "<tbody>\n",
        "<tr style=\"background-color: #2b5b84;\"><th style=\"width: 100%;\"><span style=\"color: #ffff00;\">Оператор</span></th><th style=\"width: 100%;\"><span style=\"color: #ffff00;\">Описание</span></th></tr>\n",
        "\n",
        "<tr>\n",
        "<td style=\"background-color: #2b5b84; text-align: center;\"><strong><span style=\"color: #ffff00;\">+</span></strong></td>\n",
        "<td>Сложение — cуммирует значения слева и справа от оператора</td>\n",
        "</tr>\n",
        "\n",
        "<tr>\n",
        "<td style=\"background-color: #2b5b84; text-align: center;\"><strong><span style=\"color: #ffff00;\">-</span></strong></td>\n",
        "<td>Вычитание — вычитает правый операнд из левого</td>\n",
        "</tr>\n",
        "\n",
        "<tr>\n",
        "<td style=\"background-color: #2b5b84; text-align: center;\"><strong><span style=\"color: #ffff00;\">*</span></strong></td>\n",
        "<td>Умножение — перемножает операнды</td>\n",
        "</tr>\n",
        "\n",
        "<tr>\n",
        "<td style=\"background-color: #2b5b84; text-align: center;\"><strong><span style=\"color: #ffff00;\">/</span></strong></td>\n",
        "<td>Деление — делит левый операнд на правый</td>\n",
        "</tr>\n",
        "\n",
        "<tr>\n",
        "<td style=\"background-color: #2b5b84; text-align: center;\"><strong><span style=\"color: #ffff00;\">**</span></strong></td>\n",
        "<td>Возведение в степень — возводит левый операнд в степень правого</td>\n",
        "\n",
        "</tr>\n",
        "\n",
        "<tr>\n",
        "<td style=\"background-color: #2b5b84; text-align: center;\"><strong><span style=\"color: #ffff00;\">%</span></strong></td>\n",
        "<td> Взятие остатка от деления — делит левый операнд на правый и возвращает остаток.</td>\n",
        "\n",
        "</tr>\n",
        "<tr>\n",
        "\n",
        "<td style=\"background-color: #2b5b84; text-align: center;\"><strong><span style=\"color: #ffff00;\">//</span></strong></td>\n",
        "<td>Целочисленное деление — деление в котором возвращается только целая часть результата. Часть после запятой отбрасывается.</td>\n",
        "</tr>\n",
        "\n",
        "</tbody>\n",
        "</table>"
      ]
    },
    {
      "cell_type": "markdown",
      "metadata": {
        "id": "5Df6mheS2Q1f"
      },
      "source": [
        "Запомните, что умножение и деление всегда выполняются прежде, чем сложение и вычитание, если не менять порядок вычислений с помощью скобок."
      ]
    },
    {
      "cell_type": "markdown",
      "metadata": {
        "id": "KQae8PMT2Q1Z"
      },
      "source": [
        "Воспользуемся языком как калькулятором"
      ]
    },
    {
      "cell_type": "code",
      "metadata": {
        "id": "OATB_lbR2Q1j",
        "colab": {
          "base_uri": "https://localhost:8080/"
        },
        "outputId": "3d9a25a0-7600-465b-9163-c3ca1618a81d"
      },
      "source": [
        "print(4 + 4) # суммирует значения слева и справа от оператора\n",
        "print(4 - 1) # вычитание - Вычитает правый операнд из левого\n",
        "print(4 * 2) # умножение - Перемножает операнды\n",
        "print(4 / 2) # деление - Делит левый операнд на правый\n",
        "print(5 % 2) # взятие остатка от деления - Делит левый операнд на правый и возвращает остаток.\n",
        "print(15 // 2) # Целочисленное деление - Деление в котором возвращается только целая часть результата. Часть после запятой отбрасывается.\n",
        "print(21 ** 2) # возведение в степень"
      ],
      "execution_count": null,
      "outputs": [
        {
          "output_type": "stream",
          "name": "stdout",
          "text": [
            "8\n",
            "3\n",
            "8\n",
            "2.0\n",
            "1\n",
            "7\n",
            "441\n"
          ]
        }
      ]
    },
    {
      "cell_type": "code",
      "metadata": {
        "colab": {
          "base_uri": "https://localhost:8080/"
        },
        "id": "ve8uQxkipQ0_",
        "outputId": "ba296b45-e019-4c0c-8664-e8aa95b3e566"
      },
      "source": [
        "print(5 + 30 * 20)\n",
        "print((5 + 30) * 20 ) # нужно помнить про скобки, чтобы контроллировать порядок действий"
      ],
      "execution_count": null,
      "outputs": [
        {
          "output_type": "stream",
          "name": "stdout",
          "text": [
            "605\n",
            "700\n"
          ]
        }
      ]
    },
    {
      "cell_type": "markdown",
      "metadata": {
        "id": "nZrfxsi-Q_-b"
      },
      "source": [
        "Операции сравнения"
      ]
    },
    {
      "cell_type": "code",
      "metadata": {
        "id": "Ev5oTo5fQ_h5",
        "colab": {
          "base_uri": "https://localhost:8080/"
        },
        "outputId": "e4a3aad5-cd41-44df-d64b-de52191c88fa"
      },
      "source": [
        "print(4 == 5) # не путать с =. проверяет равны ли оба операнда. Если да, то проверка возвращает True\n",
        "print(4 != 5) # проверяет не равны ли оба операнда. Если не равны, то проверка возвращает True.\n",
        "print(4 > 5) # проверяет больше ли значение левого операнда, чем значение правого. Если да, то проверка возвращает True.\n",
        "print(4 < 5) # проверяет меньше ли значение левого операнда, чем значение правого. Если да, то проверка возвращает True.\n",
        "print(4 >= 5) # проверяет больше или равно значение левого операнда, чем значение правого. Если да, то проверка возвращает True.\n",
        "print(4 <= 6) # проверяет меньше или равно значение левого операнда, чем значение правого. Если да, то проверка возвращает True."
      ],
      "execution_count": null,
      "outputs": [
        {
          "output_type": "stream",
          "name": "stdout",
          "text": [
            "False\n",
            "True\n",
            "False\n",
            "True\n",
            "False\n",
            "True\n"
          ]
        }
      ]
    },
    {
      "cell_type": "code",
      "source": [
        "10 < 20 < 30"
      ],
      "metadata": {
        "colab": {
          "base_uri": "https://localhost:8080/"
        },
        "id": "H6uACNVypS_3",
        "outputId": "c3a85a19-057d-4336-a485-3c7cebf4c822"
      },
      "execution_count": null,
      "outputs": [
        {
          "output_type": "execute_result",
          "data": {
            "text/plain": [
              "True"
            ]
          },
          "metadata": {},
          "execution_count": 24
        }
      ]
    },
    {
      "cell_type": "markdown",
      "metadata": {
        "id": "dDLA0Ln3cHbv"
      },
      "source": [
        "Можем взять модуль у числа"
      ]
    },
    {
      "cell_type": "code",
      "metadata": {
        "colab": {
          "base_uri": "https://localhost:8080/"
        },
        "id": "EuU0ahm0cKze",
        "outputId": "fce0c56d-8526-4b3d-a217-765e808b6572"
      },
      "source": [
        "print(abs(-32))"
      ],
      "execution_count": null,
      "outputs": [
        {
          "output_type": "stream",
          "name": "stdout",
          "text": [
            "32\n"
          ]
        }
      ]
    },
    {
      "cell_type": "markdown",
      "source": [
        "Проблема точности округления в Python"
      ],
      "metadata": {
        "id": "kw_ODx9eycPy"
      }
    },
    {
      "cell_type": "code",
      "source": [
        "print(0.15 + 0.15 == 0.3)"
      ],
      "metadata": {
        "colab": {
          "base_uri": "https://localhost:8080/"
        },
        "id": "G4JpMV5DzJGa",
        "outputId": "5e61decb-5a49-40fb-c3e2-733c2f2c41a6"
      },
      "execution_count": null,
      "outputs": [
        {
          "output_type": "stream",
          "name": "stdout",
          "text": [
            "True\n"
          ]
        }
      ]
    },
    {
      "cell_type": "code",
      "source": [
        "print(0.1 + 0.15 + 0.05 == 0.1 + 0.1 + 0.1)"
      ],
      "metadata": {
        "colab": {
          "base_uri": "https://localhost:8080/"
        },
        "id": "sfkv1T6QzRar",
        "outputId": "7be268c3-c6f5-4bf7-e53b-627a45b5b03c"
      },
      "execution_count": null,
      "outputs": [
        {
          "output_type": "stream",
          "name": "stdout",
          "text": [
            "False\n"
          ]
        }
      ]
    },
    {
      "cell_type": "code",
      "source": [
        "print(0.1 + 0.15 + 0.05)"
      ],
      "metadata": {
        "colab": {
          "base_uri": "https://localhost:8080/"
        },
        "id": "O2SwVCkfzUOP",
        "outputId": "6f4660e1-1ee0-460e-a883-440f7dddc33f"
      },
      "execution_count": null,
      "outputs": [
        {
          "output_type": "stream",
          "name": "stdout",
          "text": [
            "0.3\n"
          ]
        }
      ]
    },
    {
      "cell_type": "code",
      "source": [
        "print(0.1 + 0.1 + 0.1)"
      ],
      "metadata": {
        "colab": {
          "base_uri": "https://localhost:8080/"
        },
        "id": "BZb8oN-JzW8P",
        "outputId": "3db00878-efba-4c6c-e022-4db0e11fe209"
      },
      "execution_count": null,
      "outputs": [
        {
          "output_type": "stream",
          "name": "stdout",
          "text": [
            "0.30000000000000004\n"
          ]
        }
      ]
    },
    {
      "cell_type": "code",
      "source": [
        "round(34435.4366346, 2)"
      ],
      "metadata": {
        "colab": {
          "base_uri": "https://localhost:8080/"
        },
        "id": "gVriDgqyp3k_",
        "outputId": "959d0dcc-bf6f-413e-889d-f5c61d876456"
      },
      "execution_count": null,
      "outputs": [
        {
          "output_type": "execute_result",
          "data": {
            "text/plain": [
              "34435.44"
            ]
          },
          "metadata": {},
          "execution_count": 31
        }
      ]
    },
    {
      "cell_type": "markdown",
      "source": [
        "Стои избегать прямого сравнения float, если вам важна точность операций. \n",
        "\n",
        "Для исправления этой проблемы есть отдельные типы данных, [изучите самостоятельно](https://docs-python.ru/tutorial/operatsii-chislami-python/problemy-chisel-plavajuschej-zapjatoj/)"
      ],
      "metadata": {
        "id": "LwLAzkHrzYMn"
      }
    },
    {
      "cell_type": "markdown",
      "metadata": {
        "id": "mIblPFvCon-p"
      },
      "source": [
        "## Переменные\n",
        "\n",
        "\n"
      ]
    },
    {
      "cell_type": "markdown",
      "metadata": {
        "id": "zK7EiLe22Q1k"
      },
      "source": [
        "В программировании слово переменная обозначает именованное место для хранения данных, например чисел, текста, списков с числами или символами и так далее. Также переменную можно рассматривать как ярлык, которым помечены некие данные или контейнер, в котором хранится информация"
      ]
    },
    {
      "cell_type": "markdown",
      "metadata": {
        "id": "K-2IHl1yvTye"
      },
      "source": [
        "\n",
        "\n",
        "Для создания корректных имен перемен­ных надо следовать всего нескольким правилам; о некорректном имени Python вам сообщит, выведя ошибку\n",
        "\n",
        "Есть несколько правил при определении переменных:\n",
        "\n",
        "- имена переменных не должны повторять уже встроенные в Python имена, например, `print`, `str`, `in` и т.д.;\n",
        "- имена переменных могут содержать только буквы, цифры и нижнее подчёркивание; \n",
        "- имена переменных не должны начинаться с цифры;\n",
        "- очень желательно, чтобы имена переменных выражали суть переменной и не были слишком длинными.\n",
        "\n",
        "Если компьютер принял переменную это не значит, что это имя хорошее! \n",
        "Переменная с именем **aklkjkll112312** будет понятна компьютеру, но не будет понятна человеку. Поэтом при создании переменных вы должны ориентироваться на своего читателя. Порой вы будете единственным читателем вашего кода, но поверьте(!), вернувшись через месяц для того, чтобы немного изменить свою программу, вы ужаснетесь, насколько там все непонятно! Поэтому, если вы с любовью относитесь к себе и своим коллегам, не пренебрегайте правилами и договоренностями. Они значительно упрощают вашу жизнь. "
      ]
    },
    {
      "cell_type": "code",
      "metadata": {
        "colab": {
          "base_uri": "https://localhost:8080/"
        },
        "id": "Oclns_uDTC6y",
        "outputId": "4b9ae9c3-6020-45cd-aa1f-d3efce5ce73e"
      },
      "source": [
        "a = 458\n",
        "print(a)"
      ],
      "execution_count": null,
      "outputs": [
        {
          "output_type": "stream",
          "name": "stdout",
          "text": [
            "458\n"
          ]
        }
      ]
    },
    {
      "cell_type": "code",
      "metadata": {
        "id": "hzzDP-UZNFr9",
        "colab": {
          "base_uri": "https://localhost:8080/"
        },
        "outputId": "1a50d4b2-074e-445d-a858-035201972b40"
      },
      "source": [
        "a = 10 + 20\n",
        "b = a * 30\n",
        "c = a / b\n",
        "print('Ответ: ', c)"
      ],
      "execution_count": null,
      "outputs": [
        {
          "output_type": "stream",
          "name": "stdout",
          "text": [
            "Ответ:  0.03333333333333333\n"
          ]
        }
      ]
    },
    {
      "cell_type": "code",
      "metadata": {
        "id": "5ag-FBA_NITt",
        "colab": {
          "base_uri": "https://localhost:8080/",
          "height": 221
        },
        "outputId": "bc575da7-50fc-42da-8394-a74d12865039"
      },
      "source": [
        "# что увидим на экране?\n",
        "print(x)\n",
        "\n",
        "x = 10"
      ],
      "execution_count": null,
      "outputs": [
        {
          "output_type": "error",
          "ename": "NameError",
          "evalue": "ignored",
          "traceback": [
            "\u001b[0;31m---------------------------------------------------------------------------\u001b[0m",
            "\u001b[0;31mNameError\u001b[0m                                 Traceback (most recent call last)",
            "\u001b[0;32m<ipython-input-34-eeb8fdf5f66a>\u001b[0m in \u001b[0;36m<module>\u001b[0;34m()\u001b[0m\n\u001b[1;32m      1\u001b[0m \u001b[0;31m# что увидим на экране?\u001b[0m\u001b[0;34m\u001b[0m\u001b[0;34m\u001b[0m\u001b[0;34m\u001b[0m\u001b[0m\n\u001b[0;32m----> 2\u001b[0;31m \u001b[0mprint\u001b[0m\u001b[0;34m(\u001b[0m\u001b[0mx\u001b[0m\u001b[0;34m)\u001b[0m\u001b[0;34m\u001b[0m\u001b[0;34m\u001b[0m\u001b[0m\n\u001b[0m\u001b[1;32m      3\u001b[0m \u001b[0;34m\u001b[0m\u001b[0m\n\u001b[1;32m      4\u001b[0m \u001b[0mx\u001b[0m \u001b[0;34m=\u001b[0m \u001b[0;36m10\u001b[0m\u001b[0;34m\u001b[0m\u001b[0;34m\u001b[0m\u001b[0m\n",
            "\u001b[0;31mNameError\u001b[0m: name 'x' is not defined"
          ]
        }
      ]
    },
    {
      "cell_type": "markdown",
      "metadata": {
        "id": "40_f2eTINlZg"
      },
      "source": [
        "**Практика**. Переведем байты в мегабайты\n",
        "\n"
      ]
    },
    {
      "cell_type": "code",
      "metadata": {
        "id": "khcyHT9GNmMr"
      },
      "source": [
        "bytes_ = 10000"
      ],
      "execution_count": null,
      "outputs": []
    },
    {
      "cell_type": "code",
      "metadata": {
        "id": "kdEwXnn8NoAo",
        "colab": {
          "base_uri": "https://localhost:8080/"
        },
        "outputId": "fff02b4a-e7c7-492d-e6fc-c57555003939"
      },
      "source": [
        "mb = bytes_/1048576 \n",
        "print(mb) "
      ],
      "execution_count": null,
      "outputs": [
        {
          "output_type": "stream",
          "name": "stdout",
          "text": [
            "0.0095367431640625\n"
          ]
        }
      ]
    },
    {
      "cell_type": "code",
      "source": [
        "bytes_ = 57568 \n",
        "print(bytes_ / (1024 ** 2), 'Mb') "
      ],
      "metadata": {
        "colab": {
          "base_uri": "https://localhost:8080/"
        },
        "id": "z9iU2I-5sPW6",
        "outputId": "aff40fa8-9a1a-47e7-905f-6db52ac8f26c"
      },
      "execution_count": null,
      "outputs": [
        {
          "output_type": "stream",
          "name": "stdout",
          "text": [
            "0.054901123046875 Mb\n"
          ]
        }
      ]
    },
    {
      "cell_type": "markdown",
      "metadata": {
        "id": "I3onei2ZO_gV"
      },
      "source": [
        "Сокращенная запись операций присваивания"
      ]
    },
    {
      "cell_type": "code",
      "metadata": {
        "id": "XiiHam50PCD3"
      },
      "source": [
        "x = 2"
      ],
      "execution_count": null,
      "outputs": []
    },
    {
      "cell_type": "code",
      "metadata": {
        "id": "Y2zxrvl1O-kx",
        "colab": {
          "base_uri": "https://localhost:8080/"
        },
        "outputId": "1904f8a8-52c6-4968-a30b-0f571bb83318"
      },
      "source": [
        "# x = x + 1\n",
        "x += 1\n",
        "print(x)\n",
        "\n",
        "# x = x - 1\n",
        "x -= 1\n",
        "print(x)\n",
        "\n",
        "# x = x * 2\n",
        "x *= 2\n",
        "print(x)\n",
        "\n",
        "# x = x / 2\n",
        "x /= 2\n",
        "print(x)"
      ],
      "execution_count": null,
      "outputs": [
        {
          "output_type": "stream",
          "name": "stdout",
          "text": [
            "3\n",
            "2\n",
            "4\n",
            "2.0\n"
          ]
        }
      ]
    },
    {
      "cell_type": "markdown",
      "metadata": {
        "id": "lU7i_wOgRSHm"
      },
      "source": [
        "Множественное присваивание:"
      ]
    },
    {
      "cell_type": "code",
      "metadata": {
        "id": "P6bCFVfmRWGy",
        "colab": {
          "base_uri": "https://localhost:8080/"
        },
        "outputId": "6f618436-9497-4c51-d1ab-a5ba96f0a8c3"
      },
      "source": [
        "name, pro, salary = 'John', 'Data Scientist', 100000\n",
        "print(name)\n",
        "print(pro)\n",
        "print(salary)"
      ],
      "execution_count": null,
      "outputs": [
        {
          "output_type": "stream",
          "name": "stdout",
          "text": [
            "John\n",
            "Data Scientist\n",
            "100000\n"
          ]
        }
      ]
    },
    {
      "cell_type": "markdown",
      "metadata": {
        "id": "erwQla1f2Q1s"
      },
      "source": [
        "Благодаря множественному присваиванию в Python легко решается задача замены переменных местами.\n",
        "\n",
        "В других языках эта задача решается через третью переменную."
      ]
    },
    {
      "cell_type": "code",
      "metadata": {
        "id": "nNGT-dkt2Q1s",
        "colab": {
          "base_uri": "https://localhost:8080/"
        },
        "outputId": "55abc6a7-5712-49ff-aeca-a93b4f88c04e"
      },
      "source": [
        "a = 14\n",
        "b = 'string'\n",
        "\n",
        "c = a\n",
        "a = b\n",
        "b = c\n",
        "\n",
        "print(a, b)"
      ],
      "execution_count": null,
      "outputs": [
        {
          "output_type": "stream",
          "name": "stdout",
          "text": [
            "string 14\n"
          ]
        }
      ]
    },
    {
      "cell_type": "markdown",
      "metadata": {
        "id": "Nva22H5j2Q1t"
      },
      "source": [
        "А в Python можно так:"
      ]
    },
    {
      "cell_type": "code",
      "metadata": {
        "id": "qMqqa8I82Q1t",
        "colab": {
          "base_uri": "https://localhost:8080/"
        },
        "outputId": "973503f6-2a02-4af9-e568-525980742f3a"
      },
      "source": [
        "a, b = b, a\n",
        "print(a, b)"
      ],
      "execution_count": null,
      "outputs": [
        {
          "output_type": "stream",
          "name": "stdout",
          "text": [
            "14 string\n"
          ]
        }
      ]
    },
    {
      "cell_type": "markdown",
      "metadata": {
        "id": "2iY1yLYcbLAp"
      },
      "source": [
        "**Практика**. Рост девушки 170 см, а высота каблуков — 19 см. Определите рост девушки на каблуках в _метрах_ и выведите информацию в виде: `Рост в метрах: *** `"
      ]
    },
    {
      "cell_type": "code",
      "metadata": {
        "id": "6YyjAgt6bAKm"
      },
      "source": [
        "heels_height_cm = 19\n",
        "height_cm = 170"
      ],
      "execution_count": null,
      "outputs": []
    },
    {
      "cell_type": "code",
      "metadata": {
        "colab": {
          "base_uri": "https://localhost:8080/"
        },
        "id": "Mipl0yQkbJMg",
        "outputId": "cff6639e-4760-4ab2-80d6-144268e43395"
      },
      "source": [
        "total_height_meters = (heels_height_cm + height_cm) / 100\n",
        "print(\"Рост в метрах:\", total_height_meters)"
      ],
      "execution_count": null,
      "outputs": [
        {
          "output_type": "stream",
          "name": "stdout",
          "text": [
            "Рост в метрах: 1.89\n"
          ]
        }
      ]
    },
    {
      "cell_type": "markdown",
      "metadata": {
        "id": "hGrFASpBcs_b"
      },
      "source": [
        "**Практика**.\n",
        "Олег, Екатерина и Петр после Хэллоуина решили поделить собранные каждым конфеты поровну. Чтобы не ссорится они решили выкинуть все конфеты, которые останутся после этого. К примеру, если у них 62 конфеты они поделят 60 и выкинут 2.  \n",
        "Напишите код, который будет вычислять, сколько конфет им нужно выкинуть после дележки."
      ]
    },
    {
      "cell_type": "code",
      "metadata": {
        "id": "kM4NOerocwEI"
      },
      "source": [
        "oleg_candies = 117\n",
        "kate_candies = 131\n",
        "peter_candies = 107\n",
        "\n",
        "throw_away = (oleg_candies + kate_candies + peter_candies) % 3"
      ],
      "execution_count": null,
      "outputs": []
    },
    {
      "cell_type": "code",
      "metadata": {
        "colab": {
          "base_uri": "https://localhost:8080/"
        },
        "id": "B7oXfmvlnvm0",
        "outputId": "d5304e84-fe2d-45a2-f3e4-d78b8720a812"
      },
      "source": [
        "print(throw_away)"
      ],
      "execution_count": null,
      "outputs": [
        {
          "output_type": "stream",
          "name": "stdout",
          "text": [
            "1\n"
          ]
        }
      ]
    },
    {
      "cell_type": "markdown",
      "metadata": {
        "id": "BAPe2SpNTwCP"
      },
      "source": [
        "## Пользовательский ввод"
      ]
    },
    {
      "cell_type": "markdown",
      "source": [
        "Функция запроса пользовательского ввода всегда принимает на вход строковой тип (даже если пользователь введет только числа)."
      ],
      "metadata": {
        "id": "dyj57U0n1INY"
      }
    },
    {
      "cell_type": "code",
      "source": [
        "some_int = input('Введите число') #input — функция для ввода\n",
        "print(type(some_int))"
      ],
      "metadata": {
        "colab": {
          "base_uri": "https://localhost:8080/"
        },
        "id": "ETbcj21L1IzV",
        "outputId": "20bc5e0a-6622-4374-c49f-ccf7377ff2d9"
      },
      "execution_count": null,
      "outputs": [
        {
          "output_type": "stream",
          "name": "stdout",
          "text": [
            "Введите число674645\n",
            "<class 'str'>\n"
          ]
        }
      ]
    },
    {
      "cell_type": "markdown",
      "metadata": {
        "id": "uV7JNF5yx4a6"
      },
      "source": [
        "Чтобы превратить строку в число, мы можем использовать функции int() или float, в которые мы передадим строку, а на выходе получим число."
      ]
    },
    {
      "cell_type": "code",
      "metadata": {
        "colab": {
          "base_uri": "https://localhost:8080/"
        },
        "id": "BhiwUbxZykgj",
        "scrolled": true,
        "outputId": "701af72c-06c3-41f2-ea67-2ae1f2ccf359"
      },
      "source": [
        "b = int(input('Введите число: ')) \n",
        "print(b * 5)"
      ],
      "execution_count": null,
      "outputs": [
        {
          "output_type": "stream",
          "name": "stdout",
          "text": [
            "Введите число: 876876\n",
            "4384380\n"
          ]
        }
      ]
    },
    {
      "cell_type": "markdown",
      "metadata": {
        "id": "p_wzWJRwW2gK"
      },
      "source": [
        "Напишем приложение, которое учитывает, какой процент от заработной платы уходит на ипотеку и ежемесячные расходы.\n",
        "\n",
        "Для этого пользователю предлагается ввести следующие данные:\n",
        "\n",
        "- заработную плату в месяц;  \n",
        "- какой процент (%) от заработной платы уходит на ипотеку;  \n",
        "- какой процент (%) от заработной платы уходит \"на жизнь\".\n",
        "\n",
        "Программа подсчитывает и выводит, сколько денег тратит пользователь на ипотеку и сколько он накопит за год (остаток от заработанной платы).\n",
        "\n",
        "Пример:\n",
        "```\n",
        "Введите заработную плату в месяц: 100000\n",
        "Введите, какой процент(%) уходит на ипотеку: 30\n",
        "Введите, какой процент(%) уходит на жизнь: 50\n",
        "\n",
        "Вывод:\n",
        "На ипотеку было потрачено: 360000 рублей\n",
        "Было накоплено: 240000 рублей\n",
        "```"
      ]
    },
    {
      "cell_type": "code",
      "metadata": {
        "id": "3rPHdgJxW40B",
        "colab": {
          "base_uri": "https://localhost:8080/"
        },
        "outputId": "6adef67a-3ad1-498b-c96e-4474e2d3ef01"
      },
      "source": [
        "salary = int(input(\"Введите заработную плату в месяц: \"))\n",
        "mortgage = int(input(\"Введите, какой процент(%) уходит на ипотеку: \"))\n",
        "expenses = int(input(\"Введите, какой процент(%) уходит на жизнь: \"))\n",
        "print(\"На ипотеку было потрачено:\", salary * mortgage / 100 * 12, \"рублей\")\n",
        "print(\"Было накоплено:\", salary * 12 - ((salary * mortgage / 100 * 12) + (salary * expenses / 100 * 12)), \"рублей\")"
      ],
      "execution_count": null,
      "outputs": [
        {
          "output_type": "stream",
          "name": "stdout",
          "text": [
            "Введите заработную плату в месяц: 100000\n",
            "Введите, какой процент(%) уходит на ипотеку: 30\n",
            "Введите, какой процент(%) уходит на жизнь: 50\n",
            "На ипотеку было потрачено: 360000.0 рублей\n",
            "Было накоплено: 240000.0 рублей\n"
          ]
        }
      ]
    },
    {
      "cell_type": "markdown",
      "metadata": {
        "id": "cykTRuaVUxez"
      },
      "source": [
        "**Практика**. Программа запрашивает у пользователя длину стороны квадрата и выводит его периметр и площадь. Сразу после этого пользователю предлагается ввести длину и ширину прямоугольника, для которого рассчитывается периметр и площадь. Обратите внимание, что программа должна работать корректно при любых введённых значениях длины и ширины фигуры.\n",
        "\n",
        "Пример:\n",
        "```\n",
        "Введите длину стороны квадрата: 3\n",
        "\n",
        "Вывод:\n",
        "Периметр: 12\n",
        "Площадь: 9\n",
        "\n",
        "Введите длину прямоугольника: 3\n",
        "Введите ширину прямоугольника: 4\n",
        "\n",
        "Вывод:\n",
        "Периметр: 14\n",
        "Площадь: 12\n",
        "```\n"
      ]
    },
    {
      "cell_type": "code",
      "metadata": {
        "colab": {
          "base_uri": "https://localhost:8080/"
        },
        "id": "0hiQFfBUU2ky",
        "outputId": "11c5d82c-aea4-4564-c1e4-48448e247f3b"
      },
      "source": [
        "a = int(input(\"Введите длину стороны квадрата: \")) \n",
        "print(\"Периметр:\", 4 * a) \n",
        "b = int(input(\"Введите длину прямоугольника: \")) \n",
        "c = int(input(\"Введите ширину прямоугольника: \")) \n",
        "print(\"Периметр:\", 2 * (b + c)) \n",
        "print(\"Площадь:\", b * c) \n"
      ],
      "execution_count": null,
      "outputs": [
        {
          "output_type": "stream",
          "name": "stdout",
          "text": [
            "Введите длину стороны квадрата: 3\n",
            "Периметр: 12\n",
            "Введите длину прямоугольника: 3\n",
            "Введите ширину прямоугольника: 4\n",
            "Периметр: 14\n",
            "Площадь: 12\n"
          ]
        }
      ]
    },
    {
      "cell_type": "code",
      "source": [
        "a = int(input('введите сторону квадрата: ')) \n",
        "print('Периметр:', a * 4)\n",
        "b = int(input('введите длину прямоугольника:')) \n",
        "c = int(input('введите ширину прямоугольника:')) \n",
        "print('Периметр: ', (b + c) * 2) "
      ],
      "metadata": {
        "colab": {
          "base_uri": "https://localhost:8080/"
        },
        "id": "NA_T_dIWv9p7",
        "outputId": "3ef8bf47-7834-42fd-ab6d-305a936b93ec"
      },
      "execution_count": null,
      "outputs": [
        {
          "output_type": "stream",
          "name": "stdout",
          "text": [
            "введите сторону квадрата: 3\n",
            "Периметр: 12\n",
            "введите длину прямоугольника:4\n",
            "введите ширину прямоугольника:3\n",
            "Периметр:  14\n"
          ]
        }
      ]
    },
    {
      "cell_type": "markdown",
      "metadata": {
        "id": "6rL6p6gdCSIa"
      },
      "source": [
        "## Работа со строками\n",
        "\n",
        "Строки всегда создаются одним из трех способов. Вы можете использовать одинарные, двойные и тройные кавычки."
      ]
    },
    {
      "cell_type": "code",
      "metadata": {
        "id": "O0XDqDaKwPDh",
        "colab": {
          "base_uri": "https://localhost:8080/"
        },
        "outputId": "46f00af8-7173-47ab-c230-93844ac0bad3"
      },
      "source": [
        "my_string = 'Hello World!'\n",
        "my_string_2 = \"Hello World\"\n",
        "print(type(my_string))"
      ],
      "execution_count": null,
      "outputs": [
        {
          "output_type": "stream",
          "name": "stdout",
          "text": [
            "<class 'str'>\n"
          ]
        }
      ]
    },
    {
      "cell_type": "markdown",
      "source": [
        "Это нужно для того, чтобы внутри строк использовать кавычки, как элементы текста"
      ],
      "metadata": {
        "id": "YCYPCtfXvrWT"
      }
    },
    {
      "cell_type": "code",
      "source": [
        "my_string = 'He said: \"Hello, World!\"'\n",
        "print(my_string)"
      ],
      "metadata": {
        "id": "ulPXlclUvvkI",
        "colab": {
          "base_uri": "https://localhost:8080/"
        },
        "outputId": "bb77b319-519b-4c41-cb1a-f6c463c68efc"
      },
      "execution_count": null,
      "outputs": [
        {
          "output_type": "stream",
          "name": "stdout",
          "text": [
            "He said: \"Hello, World!\"\n"
          ]
        }
      ]
    },
    {
      "cell_type": "code",
      "source": [
        "# вот так, конечно, не получится\n",
        "my_string = \"He said: \"Hello World!\"\"\n",
        "print(my_string)"
      ],
      "metadata": {
        "id": "Q0UfOrfgv2U7",
        "colab": {
          "base_uri": "https://localhost:8080/",
          "height": 134
        },
        "outputId": "00194409-49a2-485c-d9b9-f7ce71398198"
      },
      "execution_count": null,
      "outputs": [
        {
          "output_type": "error",
          "ename": "SyntaxError",
          "evalue": "ignored",
          "traceback": [
            "\u001b[0;36m  File \u001b[0;32m\"<ipython-input-60-7656c2428b87>\"\u001b[0;36m, line \u001b[0;32m2\u001b[0m\n\u001b[0;31m    my_string = \"He said: \"Hello World!\"\"\u001b[0m\n\u001b[0m                               ^\u001b[0m\n\u001b[0;31mSyntaxError\u001b[0m\u001b[0;31m:\u001b[0m invalid syntax\n"
          ]
        }
      ]
    },
    {
      "cell_type": "markdown",
      "metadata": {
        "id": "3EZEhtV_wPDi"
      },
      "source": [
        "Если вы попытаетесь ввести многострочный текст, то так тоже не получится"
      ]
    },
    {
      "cell_type": "code",
      "metadata": {
        "id": "Fd9wjFcDwPDi",
        "colab": {
          "base_uri": "https://localhost:8080/",
          "height": 134
        },
        "outputId": "19de1689-c136-4afd-febb-2ecf1f2a75be"
      },
      "source": [
        "my_string = 'Hello \n",
        "World!'"
      ],
      "execution_count": null,
      "outputs": [
        {
          "output_type": "error",
          "ename": "SyntaxError",
          "evalue": "ignored",
          "traceback": [
            "\u001b[0;36m  File \u001b[0;32m\"<ipython-input-61-892285d9f4d7>\"\u001b[0;36m, line \u001b[0;32m1\u001b[0m\n\u001b[0;31m    my_string = 'Hello\u001b[0m\n\u001b[0m                       ^\u001b[0m\n\u001b[0;31mSyntaxError\u001b[0m\u001b[0;31m:\u001b[0m EOL while scanning string literal\n"
          ]
        }
      ]
    },
    {
      "cell_type": "markdown",
      "metadata": {
        "id": "WKjvYC9kwPDj"
      },
      "source": [
        "Можем использовать [экранированные последовательности](https://pythonworld.ru/tipy-dannyx-v-python/stroki-literaly-strok.html)"
      ]
    },
    {
      "cell_type": "code",
      "metadata": {
        "id": "o4CbnRq6wPDj",
        "colab": {
          "base_uri": "https://localhost:8080/"
        },
        "outputId": "de8e6274-08b3-47b4-b5d5-7c5537dae24d"
      },
      "source": [
        "my_string = 'Hello\\nWorld!'\n",
        "print(my_string)"
      ],
      "execution_count": null,
      "outputs": [
        {
          "output_type": "stream",
          "name": "stdout",
          "text": [
            "Hello\n",
            "World!\n"
          ]
        }
      ]
    },
    {
      "cell_type": "markdown",
      "metadata": {
        "id": "I0-AKpEAwPDk"
      },
      "source": [
        "Можно использовать многострочные строки при помощи тройных кавычек. Кроме того, они позволяю внутри себя без проблем использовать кавычки обоих типов"
      ]
    },
    {
      "cell_type": "code",
      "metadata": {
        "id": "OIzUuuIIwPDk",
        "colab": {
          "base_uri": "https://localhost:8080/"
        },
        "outputId": "446625d5-4f5f-4bf2-c786-5889db0c28ad"
      },
      "source": [
        "multiline_string = \"\"\"В такой \"строке\" мы можем\n",
        "'использовать' все.\"\"\"\n",
        "print(multiline_string)"
      ],
      "execution_count": null,
      "outputs": [
        {
          "output_type": "stream",
          "name": "stdout",
          "text": [
            "В такой \"строке\" мы можем\n",
            "'использовать' все.\n"
          ]
        }
      ]
    },
    {
      "cell_type": "markdown",
      "metadata": {
        "id": "nu8mo4fNwPDl"
      },
      "source": [
        "Действия над строками"
      ]
    },
    {
      "cell_type": "code",
      "metadata": {
        "colab": {
          "base_uri": "https://localhost:8080/"
        },
        "id": "S1EYB8K3JkQK",
        "outputId": "7bc56836-8889-4408-e47f-67ecb5be4ed6"
      },
      "source": [
        "# сравнение строк\n",
        "\n",
        "print('a' > 'b')\n",
        "print('a' > 'B')\n",
        "print('abc' > 'aba')\n",
        "\n",
        "print('abc' > 'aba45')"
      ],
      "execution_count": null,
      "outputs": [
        {
          "output_type": "stream",
          "name": "stdout",
          "text": [
            "False\n",
            "True\n",
            "True\n",
            "True\n"
          ]
        }
      ]
    },
    {
      "cell_type": "code",
      "source": [
        "print(len('abc') > len('aba'))"
      ],
      "metadata": {
        "colab": {
          "base_uri": "https://localhost:8080/"
        },
        "id": "NKeeRH65xsIG",
        "outputId": "cbe2283b-00fa-440a-e91a-b496660cb766"
      },
      "execution_count": null,
      "outputs": [
        {
          "output_type": "stream",
          "name": "stdout",
          "text": [
            "False\n"
          ]
        }
      ]
    },
    {
      "cell_type": "code",
      "metadata": {
        "id": "W8zW0nuRwPDl",
        "colab": {
          "base_uri": "https://localhost:8080/"
        },
        "outputId": "d12620f8-03e2-456c-ff9c-e256687588f7"
      },
      "source": [
        "# конкатенация (сложение строк)\n",
        "s1 = 'spam '\n",
        "s2 = 'eggs'\n",
        "print(s1 + s2)"
      ],
      "execution_count": null,
      "outputs": [
        {
          "output_type": "stream",
          "name": "stdout",
          "text": [
            "spam eggs\n"
          ]
        }
      ]
    },
    {
      "cell_type": "code",
      "metadata": {
        "id": "eqFMYWzDwPDm",
        "colab": {
          "base_uri": "https://localhost:8080/"
        },
        "outputId": "2d06d7e9-31dd-4cc5-f8e4-70fdf165ea98"
      },
      "source": [
        "# умножение строки на число\n",
        "print('**' * 5)"
      ],
      "execution_count": null,
      "outputs": [
        {
          "output_type": "stream",
          "name": "stdout",
          "text": [
            "**********\n"
          ]
        }
      ]
    },
    {
      "cell_type": "markdown",
      "metadata": {
        "id": "KdE-KQrXwPDm"
      },
      "source": [
        "Полный перечень строковых методом можно посмотреть [здесь](https://pythonist.ru/metody-strok-v-python/).\n",
        "\n",
        "Строки в Python неизменяемым типом данных, поэтому все методы строк всегда будут возвращать новую строку, а не менять исходную."
      ]
    },
    {
      "cell_type": "code",
      "metadata": {
        "id": "N1hLsiViwPDl",
        "colab": {
          "base_uri": "https://localhost:8080/"
        },
        "outputId": "18c9b23e-3267-4458-b7ba-8b73b6d153a9"
      },
      "source": [
        "help(str)"
      ],
      "execution_count": null,
      "outputs": [
        {
          "output_type": "stream",
          "name": "stdout",
          "text": [
            "Help on class str in module builtins:\n",
            "\n",
            "class str(object)\n",
            " |  str(object='') -> str\n",
            " |  str(bytes_or_buffer[, encoding[, errors]]) -> str\n",
            " |  \n",
            " |  Create a new string object from the given object. If encoding or\n",
            " |  errors is specified, then the object must expose a data buffer\n",
            " |  that will be decoded using the given encoding and error handler.\n",
            " |  Otherwise, returns the result of object.__str__() (if defined)\n",
            " |  or repr(object).\n",
            " |  encoding defaults to sys.getdefaultencoding().\n",
            " |  errors defaults to 'strict'.\n",
            " |  \n",
            " |  Methods defined here:\n",
            " |  \n",
            " |  __add__(self, value, /)\n",
            " |      Return self+value.\n",
            " |  \n",
            " |  __contains__(self, key, /)\n",
            " |      Return key in self.\n",
            " |  \n",
            " |  __eq__(self, value, /)\n",
            " |      Return self==value.\n",
            " |  \n",
            " |  __format__(self, format_spec, /)\n",
            " |      Return a formatted version of the string as described by format_spec.\n",
            " |  \n",
            " |  __ge__(self, value, /)\n",
            " |      Return self>=value.\n",
            " |  \n",
            " |  __getattribute__(self, name, /)\n",
            " |      Return getattr(self, name).\n",
            " |  \n",
            " |  __getitem__(self, key, /)\n",
            " |      Return self[key].\n",
            " |  \n",
            " |  __getnewargs__(...)\n",
            " |  \n",
            " |  __gt__(self, value, /)\n",
            " |      Return self>value.\n",
            " |  \n",
            " |  __hash__(self, /)\n",
            " |      Return hash(self).\n",
            " |  \n",
            " |  __iter__(self, /)\n",
            " |      Implement iter(self).\n",
            " |  \n",
            " |  __le__(self, value, /)\n",
            " |      Return self<=value.\n",
            " |  \n",
            " |  __len__(self, /)\n",
            " |      Return len(self).\n",
            " |  \n",
            " |  __lt__(self, value, /)\n",
            " |      Return self<value.\n",
            " |  \n",
            " |  __mod__(self, value, /)\n",
            " |      Return self%value.\n",
            " |  \n",
            " |  __mul__(self, value, /)\n",
            " |      Return self*value.\n",
            " |  \n",
            " |  __ne__(self, value, /)\n",
            " |      Return self!=value.\n",
            " |  \n",
            " |  __repr__(self, /)\n",
            " |      Return repr(self).\n",
            " |  \n",
            " |  __rmod__(self, value, /)\n",
            " |      Return value%self.\n",
            " |  \n",
            " |  __rmul__(self, value, /)\n",
            " |      Return value*self.\n",
            " |  \n",
            " |  __sizeof__(self, /)\n",
            " |      Return the size of the string in memory, in bytes.\n",
            " |  \n",
            " |  __str__(self, /)\n",
            " |      Return str(self).\n",
            " |  \n",
            " |  capitalize(self, /)\n",
            " |      Return a capitalized version of the string.\n",
            " |      \n",
            " |      More specifically, make the first character have upper case and the rest lower\n",
            " |      case.\n",
            " |  \n",
            " |  casefold(self, /)\n",
            " |      Return a version of the string suitable for caseless comparisons.\n",
            " |  \n",
            " |  center(self, width, fillchar=' ', /)\n",
            " |      Return a centered string of length width.\n",
            " |      \n",
            " |      Padding is done using the specified fill character (default is a space).\n",
            " |  \n",
            " |  count(...)\n",
            " |      S.count(sub[, start[, end]]) -> int\n",
            " |      \n",
            " |      Return the number of non-overlapping occurrences of substring sub in\n",
            " |      string S[start:end].  Optional arguments start and end are\n",
            " |      interpreted as in slice notation.\n",
            " |  \n",
            " |  encode(self, /, encoding='utf-8', errors='strict')\n",
            " |      Encode the string using the codec registered for encoding.\n",
            " |      \n",
            " |      encoding\n",
            " |        The encoding in which to encode the string.\n",
            " |      errors\n",
            " |        The error handling scheme to use for encoding errors.\n",
            " |        The default is 'strict' meaning that encoding errors raise a\n",
            " |        UnicodeEncodeError.  Other possible values are 'ignore', 'replace' and\n",
            " |        'xmlcharrefreplace' as well as any other name registered with\n",
            " |        codecs.register_error that can handle UnicodeEncodeErrors.\n",
            " |  \n",
            " |  endswith(...)\n",
            " |      S.endswith(suffix[, start[, end]]) -> bool\n",
            " |      \n",
            " |      Return True if S ends with the specified suffix, False otherwise.\n",
            " |      With optional start, test S beginning at that position.\n",
            " |      With optional end, stop comparing S at that position.\n",
            " |      suffix can also be a tuple of strings to try.\n",
            " |  \n",
            " |  expandtabs(self, /, tabsize=8)\n",
            " |      Return a copy where all tab characters are expanded using spaces.\n",
            " |      \n",
            " |      If tabsize is not given, a tab size of 8 characters is assumed.\n",
            " |  \n",
            " |  find(...)\n",
            " |      S.find(sub[, start[, end]]) -> int\n",
            " |      \n",
            " |      Return the lowest index in S where substring sub is found,\n",
            " |      such that sub is contained within S[start:end].  Optional\n",
            " |      arguments start and end are interpreted as in slice notation.\n",
            " |      \n",
            " |      Return -1 on failure.\n",
            " |  \n",
            " |  format(...)\n",
            " |      S.format(*args, **kwargs) -> str\n",
            " |      \n",
            " |      Return a formatted version of S, using substitutions from args and kwargs.\n",
            " |      The substitutions are identified by braces ('{' and '}').\n",
            " |  \n",
            " |  format_map(...)\n",
            " |      S.format_map(mapping) -> str\n",
            " |      \n",
            " |      Return a formatted version of S, using substitutions from mapping.\n",
            " |      The substitutions are identified by braces ('{' and '}').\n",
            " |  \n",
            " |  index(...)\n",
            " |      S.index(sub[, start[, end]]) -> int\n",
            " |      \n",
            " |      Return the lowest index in S where substring sub is found, \n",
            " |      such that sub is contained within S[start:end].  Optional\n",
            " |      arguments start and end are interpreted as in slice notation.\n",
            " |      \n",
            " |      Raises ValueError when the substring is not found.\n",
            " |  \n",
            " |  isalnum(self, /)\n",
            " |      Return True if the string is an alpha-numeric string, False otherwise.\n",
            " |      \n",
            " |      A string is alpha-numeric if all characters in the string are alpha-numeric and\n",
            " |      there is at least one character in the string.\n",
            " |  \n",
            " |  isalpha(self, /)\n",
            " |      Return True if the string is an alphabetic string, False otherwise.\n",
            " |      \n",
            " |      A string is alphabetic if all characters in the string are alphabetic and there\n",
            " |      is at least one character in the string.\n",
            " |  \n",
            " |  isascii(self, /)\n",
            " |      Return True if all characters in the string are ASCII, False otherwise.\n",
            " |      \n",
            " |      ASCII characters have code points in the range U+0000-U+007F.\n",
            " |      Empty string is ASCII too.\n",
            " |  \n",
            " |  isdecimal(self, /)\n",
            " |      Return True if the string is a decimal string, False otherwise.\n",
            " |      \n",
            " |      A string is a decimal string if all characters in the string are decimal and\n",
            " |      there is at least one character in the string.\n",
            " |  \n",
            " |  isdigit(self, /)\n",
            " |      Return True if the string is a digit string, False otherwise.\n",
            " |      \n",
            " |      A string is a digit string if all characters in the string are digits and there\n",
            " |      is at least one character in the string.\n",
            " |  \n",
            " |  isidentifier(self, /)\n",
            " |      Return True if the string is a valid Python identifier, False otherwise.\n",
            " |      \n",
            " |      Use keyword.iskeyword() to test for reserved identifiers such as \"def\" and\n",
            " |      \"class\".\n",
            " |  \n",
            " |  islower(self, /)\n",
            " |      Return True if the string is a lowercase string, False otherwise.\n",
            " |      \n",
            " |      A string is lowercase if all cased characters in the string are lowercase and\n",
            " |      there is at least one cased character in the string.\n",
            " |  \n",
            " |  isnumeric(self, /)\n",
            " |      Return True if the string is a numeric string, False otherwise.\n",
            " |      \n",
            " |      A string is numeric if all characters in the string are numeric and there is at\n",
            " |      least one character in the string.\n",
            " |  \n",
            " |  isprintable(self, /)\n",
            " |      Return True if the string is printable, False otherwise.\n",
            " |      \n",
            " |      A string is printable if all of its characters are considered printable in\n",
            " |      repr() or if it is empty.\n",
            " |  \n",
            " |  isspace(self, /)\n",
            " |      Return True if the string is a whitespace string, False otherwise.\n",
            " |      \n",
            " |      A string is whitespace if all characters in the string are whitespace and there\n",
            " |      is at least one character in the string.\n",
            " |  \n",
            " |  istitle(self, /)\n",
            " |      Return True if the string is a title-cased string, False otherwise.\n",
            " |      \n",
            " |      In a title-cased string, upper- and title-case characters may only\n",
            " |      follow uncased characters and lowercase characters only cased ones.\n",
            " |  \n",
            " |  isupper(self, /)\n",
            " |      Return True if the string is an uppercase string, False otherwise.\n",
            " |      \n",
            " |      A string is uppercase if all cased characters in the string are uppercase and\n",
            " |      there is at least one cased character in the string.\n",
            " |  \n",
            " |  join(self, iterable, /)\n",
            " |      Concatenate any number of strings.\n",
            " |      \n",
            " |      The string whose method is called is inserted in between each given string.\n",
            " |      The result is returned as a new string.\n",
            " |      \n",
            " |      Example: '.'.join(['ab', 'pq', 'rs']) -> 'ab.pq.rs'\n",
            " |  \n",
            " |  ljust(self, width, fillchar=' ', /)\n",
            " |      Return a left-justified string of length width.\n",
            " |      \n",
            " |      Padding is done using the specified fill character (default is a space).\n",
            " |  \n",
            " |  lower(self, /)\n",
            " |      Return a copy of the string converted to lowercase.\n",
            " |  \n",
            " |  lstrip(self, chars=None, /)\n",
            " |      Return a copy of the string with leading whitespace removed.\n",
            " |      \n",
            " |      If chars is given and not None, remove characters in chars instead.\n",
            " |  \n",
            " |  partition(self, sep, /)\n",
            " |      Partition the string into three parts using the given separator.\n",
            " |      \n",
            " |      This will search for the separator in the string.  If the separator is found,\n",
            " |      returns a 3-tuple containing the part before the separator, the separator\n",
            " |      itself, and the part after it.\n",
            " |      \n",
            " |      If the separator is not found, returns a 3-tuple containing the original string\n",
            " |      and two empty strings.\n",
            " |  \n",
            " |  replace(self, old, new, count=-1, /)\n",
            " |      Return a copy with all occurrences of substring old replaced by new.\n",
            " |      \n",
            " |        count\n",
            " |          Maximum number of occurrences to replace.\n",
            " |          -1 (the default value) means replace all occurrences.\n",
            " |      \n",
            " |      If the optional argument count is given, only the first count occurrences are\n",
            " |      replaced.\n",
            " |  \n",
            " |  rfind(...)\n",
            " |      S.rfind(sub[, start[, end]]) -> int\n",
            " |      \n",
            " |      Return the highest index in S where substring sub is found,\n",
            " |      such that sub is contained within S[start:end].  Optional\n",
            " |      arguments start and end are interpreted as in slice notation.\n",
            " |      \n",
            " |      Return -1 on failure.\n",
            " |  \n",
            " |  rindex(...)\n",
            " |      S.rindex(sub[, start[, end]]) -> int\n",
            " |      \n",
            " |      Return the highest index in S where substring sub is found,\n",
            " |      such that sub is contained within S[start:end].  Optional\n",
            " |      arguments start and end are interpreted as in slice notation.\n",
            " |      \n",
            " |      Raises ValueError when the substring is not found.\n",
            " |  \n",
            " |  rjust(self, width, fillchar=' ', /)\n",
            " |      Return a right-justified string of length width.\n",
            " |      \n",
            " |      Padding is done using the specified fill character (default is a space).\n",
            " |  \n",
            " |  rpartition(self, sep, /)\n",
            " |      Partition the string into three parts using the given separator.\n",
            " |      \n",
            " |      This will search for the separator in the string, starting at the end. If\n",
            " |      the separator is found, returns a 3-tuple containing the part before the\n",
            " |      separator, the separator itself, and the part after it.\n",
            " |      \n",
            " |      If the separator is not found, returns a 3-tuple containing two empty strings\n",
            " |      and the original string.\n",
            " |  \n",
            " |  rsplit(self, /, sep=None, maxsplit=-1)\n",
            " |      Return a list of the words in the string, using sep as the delimiter string.\n",
            " |      \n",
            " |        sep\n",
            " |          The delimiter according which to split the string.\n",
            " |          None (the default value) means split according to any whitespace,\n",
            " |          and discard empty strings from the result.\n",
            " |        maxsplit\n",
            " |          Maximum number of splits to do.\n",
            " |          -1 (the default value) means no limit.\n",
            " |      \n",
            " |      Splits are done starting at the end of the string and working to the front.\n",
            " |  \n",
            " |  rstrip(self, chars=None, /)\n",
            " |      Return a copy of the string with trailing whitespace removed.\n",
            " |      \n",
            " |      If chars is given and not None, remove characters in chars instead.\n",
            " |  \n",
            " |  split(self, /, sep=None, maxsplit=-1)\n",
            " |      Return a list of the words in the string, using sep as the delimiter string.\n",
            " |      \n",
            " |      sep\n",
            " |        The delimiter according which to split the string.\n",
            " |        None (the default value) means split according to any whitespace,\n",
            " |        and discard empty strings from the result.\n",
            " |      maxsplit\n",
            " |        Maximum number of splits to do.\n",
            " |        -1 (the default value) means no limit.\n",
            " |  \n",
            " |  splitlines(self, /, keepends=False)\n",
            " |      Return a list of the lines in the string, breaking at line boundaries.\n",
            " |      \n",
            " |      Line breaks are not included in the resulting list unless keepends is given and\n",
            " |      true.\n",
            " |  \n",
            " |  startswith(...)\n",
            " |      S.startswith(prefix[, start[, end]]) -> bool\n",
            " |      \n",
            " |      Return True if S starts with the specified prefix, False otherwise.\n",
            " |      With optional start, test S beginning at that position.\n",
            " |      With optional end, stop comparing S at that position.\n",
            " |      prefix can also be a tuple of strings to try.\n",
            " |  \n",
            " |  strip(self, chars=None, /)\n",
            " |      Return a copy of the string with leading and trailing whitespace removed.\n",
            " |      \n",
            " |      If chars is given and not None, remove characters in chars instead.\n",
            " |  \n",
            " |  swapcase(self, /)\n",
            " |      Convert uppercase characters to lowercase and lowercase characters to uppercase.\n",
            " |  \n",
            " |  title(self, /)\n",
            " |      Return a version of the string where each word is titlecased.\n",
            " |      \n",
            " |      More specifically, words start with uppercased characters and all remaining\n",
            " |      cased characters have lower case.\n",
            " |  \n",
            " |  translate(self, table, /)\n",
            " |      Replace each character in the string using the given translation table.\n",
            " |      \n",
            " |        table\n",
            " |          Translation table, which must be a mapping of Unicode ordinals to\n",
            " |          Unicode ordinals, strings, or None.\n",
            " |      \n",
            " |      The table must implement lookup/indexing via __getitem__, for instance a\n",
            " |      dictionary or list.  If this operation raises LookupError, the character is\n",
            " |      left untouched.  Characters mapped to None are deleted.\n",
            " |  \n",
            " |  upper(self, /)\n",
            " |      Return a copy of the string converted to uppercase.\n",
            " |  \n",
            " |  zfill(self, width, /)\n",
            " |      Pad a numeric string with zeros on the left, to fill a field of the given width.\n",
            " |      \n",
            " |      The string is never truncated.\n",
            " |  \n",
            " |  ----------------------------------------------------------------------\n",
            " |  Static methods defined here:\n",
            " |  \n",
            " |  __new__(*args, **kwargs) from builtins.type\n",
            " |      Create and return a new object.  See help(type) for accurate signature.\n",
            " |  \n",
            " |  maketrans(x, y=None, z=None, /)\n",
            " |      Return a translation table usable for str.translate().\n",
            " |      \n",
            " |      If there is only one argument, it must be a dictionary mapping Unicode\n",
            " |      ordinals (integers) or characters to Unicode ordinals, strings or None.\n",
            " |      Character keys will be then converted to ordinals.\n",
            " |      If there are two arguments, they must be strings of equal length, and\n",
            " |      in the resulting dictionary, each character in x will be mapped to the\n",
            " |      character at the same position in y. If there is a third argument, it\n",
            " |      must be a string, whose characters will be mapped to None in the result.\n",
            "\n"
          ]
        }
      ]
    },
    {
      "cell_type": "code",
      "metadata": {
        "id": "e48oemonwPDm"
      },
      "source": [
        "my_string = 'HELLO world!'"
      ],
      "execution_count": null,
      "outputs": []
    },
    {
      "cell_type": "code",
      "metadata": {
        "id": "JK7eyl6-wPDn",
        "colab": {
          "base_uri": "https://localhost:8080/"
        },
        "outputId": "b5443563-d48a-43bb-a618-57b6b8ad4660"
      },
      "source": [
        "# приведение к верхнему регистру\n",
        "print(my_string.upper())\n",
        "new_string = my_string.upper()\n",
        "print(new_string)\n",
        "\n",
        "print(my_string) "
      ],
      "execution_count": null,
      "outputs": [
        {
          "output_type": "stream",
          "name": "stdout",
          "text": [
            "HELLO WORLD!\n",
            "HELLO WORLD!\n",
            "HELLO world!\n"
          ]
        }
      ]
    },
    {
      "cell_type": "code",
      "metadata": {
        "id": "aPk5DS8ywPDn",
        "colab": {
          "base_uri": "https://localhost:8080/"
        },
        "outputId": "cf1c004a-a2a2-4231-a24e-750089c25998"
      },
      "source": [
        "# приведение к нижнему регистру\n",
        "print(my_string.lower())"
      ],
      "execution_count": null,
      "outputs": [
        {
          "output_type": "stream",
          "name": "stdout",
          "text": [
            "hello world!\n"
          ]
        }
      ]
    },
    {
      "cell_type": "code",
      "metadata": {
        "id": "HWPO5VNowPDn",
        "colab": {
          "base_uri": "https://localhost:8080/"
        },
        "outputId": "953c978a-dfc1-4e7a-e35f-6104f52aa663"
      },
      "source": [
        "# первая буква строки в верхнем регистре\n",
        "print(my_string.capitalize())"
      ],
      "execution_count": null,
      "outputs": [
        {
          "output_type": "stream",
          "name": "stdout",
          "text": [
            "Hello world!\n"
          ]
        }
      ]
    },
    {
      "cell_type": "code",
      "metadata": {
        "id": "W9ni9Go_wPDn",
        "colab": {
          "base_uri": "https://localhost:8080/"
        },
        "outputId": "b6f7271f-0ba8-4523-f773-e87b82c72819"
      },
      "source": [
        "# первая буква каждого слова в верхнем регистре\n",
        "print(my_string.title())"
      ],
      "execution_count": null,
      "outputs": [
        {
          "output_type": "stream",
          "name": "stdout",
          "text": [
            "Hello World!\n"
          ]
        }
      ]
    },
    {
      "cell_type": "code",
      "metadata": {
        "id": "aN2kLv_lwPDo",
        "colab": {
          "base_uri": "https://localhost:8080/"
        },
        "outputId": "a1693a21-1264-46bc-87e1-a9d8bea73a25"
      },
      "source": [
        "# заменяем подстроку в строке\n",
        "print(my_string.replace('HELLO', 'Goodbye'))"
      ],
      "execution_count": null,
      "outputs": [
        {
          "output_type": "stream",
          "name": "stdout",
          "text": [
            "Goodbye world!\n"
          ]
        }
      ]
    },
    {
      "cell_type": "code",
      "metadata": {
        "id": "LtBj4EhJwPDo",
        "colab": {
          "base_uri": "https://localhost:8080/"
        },
        "outputId": "cd724cf6-bdbf-4434-aaac-a547e0764f90"
      },
      "source": [
        "# метод find() ищет подстроку в строке и возвращает индекс первого элемента найденной подстроки. \n",
        "# если подстрока не найдена, то возвращает -1.\n",
        "s = 'red blue orange white blue'\n",
        "# print(s.find('b'))\n",
        "print(s.find('blue'))"
      ],
      "execution_count": null,
      "outputs": [
        {
          "output_type": "stream",
          "name": "stdout",
          "text": [
            "4\n"
          ]
        }
      ]
    },
    {
      "cell_type": "code",
      "metadata": {
        "id": "1JDfygL_wPDq",
        "colab": {
          "base_uri": "https://localhost:8080/"
        },
        "outputId": "e88e4bae-d3f6-423d-9fe4-62e98bc4040f"
      },
      "source": [
        "# определяем длину строки\n",
        "print(len(my_string))"
      ],
      "execution_count": null,
      "outputs": [
        {
          "output_type": "stream",
          "name": "stdout",
          "text": [
            "12\n"
          ]
        }
      ]
    },
    {
      "cell_type": "code",
      "metadata": {
        "id": "Dqble_JqwPDq",
        "colab": {
          "base_uri": "https://localhost:8080/"
        },
        "outputId": "3e15c8d7-c419-45f2-9e55-cc035091b147"
      },
      "source": [
        "# проверка вхождение подстроки в строку\n",
        "my_string = 'HELLO world!'\n",
        "target_string = 'world'\n",
        "print(target_string in my_string)\n",
        "print(target_string not in my_string)"
      ],
      "execution_count": null,
      "outputs": [
        {
          "output_type": "stream",
          "name": "stdout",
          "text": [
            "True\n",
            "False\n"
          ]
        }
      ]
    },
    {
      "cell_type": "markdown",
      "metadata": {
        "id": "HDq-QZ_UwPDr"
      },
      "source": [
        "**[f-строки](https://python-scripts.com/f-strings)**\n",
        "\n",
        "Добавляя префикс f к строке можно встраивать в нее произвольные выражения при помощи фигурных скобок – { }."
      ]
    },
    {
      "cell_type": "code",
      "metadata": {
        "id": "vWAjI25SwPDr",
        "colab": {
          "base_uri": "https://localhost:8080/"
        },
        "outputId": "f22f9735-7336-458e-b696-a7bd491422f8"
      },
      "source": [
        "name = 'oleg'\n",
        "lang = 'python'\n",
        "my_str = f'Hello, my name is {name.capitalize()}, i know {lang} a bit'\n",
        "print(my_str)\n",
        "# print(type(my_str))"
      ],
      "execution_count": null,
      "outputs": [
        {
          "output_type": "stream",
          "name": "stdout",
          "text": [
            "Hello, my name is Oleg, i know python a bit\n"
          ]
        }
      ]
    },
    {
      "cell_type": "markdown",
      "metadata": {
        "id": "kohJ7Byxirex"
      },
      "source": [
        "Можно разделять периоды чисел любым разделителем"
      ]
    },
    {
      "cell_type": "code",
      "metadata": {
        "colab": {
          "base_uri": "https://localhost:8080/"
        },
        "id": "nb0QYsTZiiGe",
        "outputId": "eb32af7f-7211-487b-a848-57adbeb20abe"
      },
      "source": [
        "year_salary = 10000000\n",
        "\n",
        "print(f'Годовая зарплата: ${year_salary :,}')"
      ],
      "execution_count": null,
      "outputs": [
        {
          "output_type": "stream",
          "name": "stdout",
          "text": [
            "Годовая зарплата: $10,000,000\n"
          ]
        }
      ]
    },
    {
      "cell_type": "markdown",
      "metadata": {
        "id": "vNJl0kXqh8G9"
      },
      "source": [
        "Можно представлять числа с округлением до нужного количества знаков"
      ]
    },
    {
      "cell_type": "code",
      "metadata": {
        "id": "B0d8X-PmwPDs",
        "colab": {
          "base_uri": "https://localhost:8080/"
        },
        "outputId": "467995b5-4ed8-486b-eaf8-740534111473"
      },
      "source": [
        "pi_value = 3.141592653589793\n",
        "\n",
        "print(f'Число Пи: {pi_value :.2f}')"
      ],
      "execution_count": null,
      "outputs": [
        {
          "output_type": "stream",
          "name": "stdout",
          "text": [
            "Число Пи: 3.14\n"
          ]
        }
      ]
    },
    {
      "cell_type": "markdown",
      "metadata": {
        "id": "f4v3QryyiWCA"
      },
      "source": [
        "И много чего [еще](https://saralgyaan.com/posts/f-string-in-python-usage-guide/)"
      ]
    },
    {
      "cell_type": "markdown",
      "metadata": {
        "id": "gAgqIV6fdb-i"
      },
      "source": [
        "**Практика**\n",
        "\n",
        "Выведите результат в виде:\n",
        "```\n",
        "Pluto weighs about 1.3e+22 kilograms (0.218% of Earth's mass). It is home to 52,910,390 Plutonians.\n",
        "```"
      ]
    },
    {
      "cell_type": "code",
      "metadata": {
        "id": "aVeAnbGqdbaH"
      },
      "source": [
        "planet = 'pluto'\n",
        "pluto_mass = 1.303 * 10**22\n",
        "earth_mass = 5.9722 * 10**24\n",
        "population = 52910390"
      ],
      "execution_count": null,
      "outputs": []
    },
    {
      "cell_type": "code",
      "metadata": {
        "id": "niMc9wUIyMFa",
        "colab": {
          "base_uri": "https://localhost:8080/"
        },
        "outputId": "f3497e6f-1cad-48a0-8005-909a9c982355"
      },
      "source": [
        "# print(f\"Pluto weighs about {pluto_mass} kilograms ({pluto_mass/earth_mass}% of Earth's mass). It is home to {population :,} Plutonians.\")"
      ],
      "execution_count": null,
      "outputs": [
        {
          "output_type": "stream",
          "name": "stdout",
          "text": [
            "Pluto weighs about 1.3029999999999998e+22 kilograms (0.002181775560095107% of Earth's mass). It is home to 52,910,390 Plutonians.\n"
          ]
        }
      ]
    },
    {
      "cell_type": "code",
      "source": [
        "print(f\"{planet.title()} weighs about {pluto_mass :.1e} kilograms ({pluto_mass / earth_mass :.3%} of Earth's mass). It is home to {population:,}) Plutonians.\") "
      ],
      "metadata": {
        "colab": {
          "base_uri": "https://localhost:8080/"
        },
        "id": "tFYptcXz1zDf",
        "outputId": "272a542a-76b3-4f09-e73f-93fabc9290d4"
      },
      "execution_count": null,
      "outputs": [
        {
          "output_type": "stream",
          "name": "stdout",
          "text": [
            "Pluto weighs about 1.3e+22 kilograms (0.218% of Earth's mass). It is home to 52,910,390) Plutonians.\n"
          ]
        }
      ]
    },
    {
      "cell_type": "code",
      "source": [
        "# print(f\"{planet.capitalize():.2} weighs about {pluto_mass} kilograms ({pluto_mass / earth_mass * 100} of Earth's mass). It is home to {population:,} Plutonians.\") "
      ],
      "metadata": {
        "colab": {
          "base_uri": "https://localhost:8080/"
        },
        "id": "_PrPYraN17hJ",
        "outputId": "2282abb3-1f17-420f-89fa-f6c05c749854"
      },
      "execution_count": null,
      "outputs": [
        {
          "output_type": "stream",
          "name": "stdout",
          "text": [
            "Pl weighs about 1.3029999999999998e+22 kilograms (0.2181775560095107 of Earth's mass). It is home to 52,910,390 Plutonians.\n"
          ]
        }
      ]
    },
    {
      "cell_type": "markdown",
      "metadata": {
        "id": "tNbqcywHj0_W"
      },
      "source": [
        "**Индексация и срезы**\n",
        "\n",
        "Индексация – доступ к элементам объекта по их порядковому номеру в нем. Индексация элементов начинается с нуля при прямой индексаций и с -1 (последний элемент) при обратной.\n",
        "\n",
        "Получить значение элемента по индексу можно при помощи `[ ]`,\n",
        "например: `my_string[0]` и `my_string[-6]` (при обратной индексации).\n",
        "\n",
        "Можно “доставать” из строки несколько элементов при помощи “срезов” (slicing). Для указания интервала среза используется `:`\n",
        "\n",
        "`some_string[START:STOP:STEP]` - берёт срез от номера `START`, до `STOP` не включая его, с шагом `STEP`. По умолчанию `START` = 0, `STOP` = длина объекта, `STEP` = 1. Какие-либо (а возможно, и все) параметры могут быть опущены."
      ]
    },
    {
      "cell_type": "code",
      "metadata": {
        "id": "Nt-KH_YxwPDs"
      },
      "source": [
        "my_string = 'Hello World'"
      ],
      "execution_count": null,
      "outputs": []
    },
    {
      "cell_type": "code",
      "metadata": {
        "id": "8rrcmScewPDt",
        "colab": {
          "base_uri": "https://localhost:8080/"
        },
        "outputId": "290fbf82-1e15-4beb-cbe4-38c3d4755011"
      },
      "source": [
        "print(my_string[0])"
      ],
      "execution_count": null,
      "outputs": [
        {
          "output_type": "stream",
          "name": "stdout",
          "text": [
            "H\n"
          ]
        }
      ]
    },
    {
      "cell_type": "code",
      "metadata": {
        "id": "wxIOU3U1wPDt",
        "colab": {
          "base_uri": "https://localhost:8080/",
          "height": 169
        },
        "outputId": "6b57c653-70b1-43cb-ddd8-cc7ec9f00e65"
      },
      "source": [
        "print(my_string[100])"
      ],
      "execution_count": null,
      "outputs": [
        {
          "output_type": "error",
          "ename": "IndexError",
          "evalue": "ignored",
          "traceback": [
            "\u001b[0;31m---------------------------------------------------------------------------\u001b[0m",
            "\u001b[0;31mIndexError\u001b[0m                                Traceback (most recent call last)",
            "\u001b[0;32m<ipython-input-92-857e65174683>\u001b[0m in \u001b[0;36m<module>\u001b[0;34m()\u001b[0m\n\u001b[0;32m----> 1\u001b[0;31m \u001b[0mprint\u001b[0m\u001b[0;34m(\u001b[0m\u001b[0mmy_string\u001b[0m\u001b[0;34m[\u001b[0m\u001b[0;36m100\u001b[0m\u001b[0;34m]\u001b[0m\u001b[0;34m)\u001b[0m\u001b[0;34m\u001b[0m\u001b[0;34m\u001b[0m\u001b[0m\n\u001b[0m",
            "\u001b[0;31mIndexError\u001b[0m: string index out of range"
          ]
        }
      ]
    },
    {
      "cell_type": "code",
      "metadata": {
        "id": "S-06jhQmwPDt",
        "colab": {
          "base_uri": "https://localhost:8080/"
        },
        "outputId": "ec614033-5136-4f63-f20e-6ca571c8603d"
      },
      "source": [
        "print(my_string[-5])"
      ],
      "execution_count": null,
      "outputs": [
        {
          "output_type": "stream",
          "name": "stdout",
          "text": [
            "W\n"
          ]
        }
      ]
    },
    {
      "cell_type": "code",
      "metadata": {
        "id": "pKByS2_VwPDt",
        "colab": {
          "base_uri": "https://localhost:8080/"
        },
        "outputId": "a07cf83f-92b7-4fc4-a287-dc37e3ad1da3"
      },
      "source": [
        "print(my_string[3:8])"
      ],
      "execution_count": null,
      "outputs": [
        {
          "output_type": "stream",
          "name": "stdout",
          "text": [
            "lo Wo\n"
          ]
        }
      ]
    },
    {
      "cell_type": "code",
      "metadata": {
        "id": "jcYD5ZlmwpyS",
        "colab": {
          "base_uri": "https://localhost:8080/"
        },
        "outputId": "acf9dfb0-bf5d-47a2-de32-a1a718b65632"
      },
      "source": [
        "print(my_string[1:8:2])"
      ],
      "execution_count": null,
      "outputs": [
        {
          "output_type": "stream",
          "name": "stdout",
          "text": [
            "el o\n"
          ]
        }
      ]
    },
    {
      "cell_type": "code",
      "source": [
        "print(my_string[1::2])"
      ],
      "metadata": {
        "colab": {
          "base_uri": "https://localhost:8080/"
        },
        "id": "Zbx5z3By3Fqf",
        "outputId": "9e0600ab-a9b9-4696-83ae-a11bf132c10c"
      },
      "execution_count": null,
      "outputs": [
        {
          "output_type": "stream",
          "name": "stdout",
          "text": [
            "el ol\n"
          ]
        }
      ]
    },
    {
      "cell_type": "code",
      "source": [
        "print(my_string[:6])"
      ],
      "metadata": {
        "colab": {
          "base_uri": "https://localhost:8080/"
        },
        "id": "mUIUchY83KYG",
        "outputId": "03a7964e-705d-4c02-e3ea-01100584f7dc"
      },
      "execution_count": null,
      "outputs": [
        {
          "output_type": "stream",
          "name": "stdout",
          "text": [
            "Hello \n"
          ]
        }
      ]
    },
    {
      "cell_type": "code",
      "metadata": {
        "id": "xKkIm9aiwwT8",
        "colab": {
          "base_uri": "https://localhost:8080/"
        },
        "outputId": "41e1a07f-0b8a-47dd-d047-b57932735710"
      },
      "source": [
        "print(my_string[::-1])"
      ],
      "execution_count": null,
      "outputs": [
        {
          "output_type": "stream",
          "name": "stdout",
          "text": [
            "dlroW olleH\n"
          ]
        }
      ]
    },
    {
      "cell_type": "markdown",
      "metadata": {
        "id": "l39r5h_rCSJe"
      },
      "source": [
        "Т.к. строки являются неимзеняемым типом, то нельзя перезаписать какой-то отдельный символ или срез в строке."
      ]
    },
    {
      "cell_type": "code",
      "metadata": {
        "id": "1e1ncJObCSJf",
        "scrolled": true,
        "colab": {
          "base_uri": "https://localhost:8080/",
          "height": 169
        },
        "outputId": "9169aa75-fb18-42a5-d1f1-b26f39279027"
      },
      "source": [
        "my_string[-1] = '!'"
      ],
      "execution_count": null,
      "outputs": [
        {
          "output_type": "error",
          "ename": "TypeError",
          "evalue": "ignored",
          "traceback": [
            "\u001b[0;31m---------------------------------------------------------------------------\u001b[0m",
            "\u001b[0;31mTypeError\u001b[0m                                 Traceback (most recent call last)",
            "\u001b[0;32m<ipython-input-99-7470e2dc20b8>\u001b[0m in \u001b[0;36m<module>\u001b[0;34m()\u001b[0m\n\u001b[0;32m----> 1\u001b[0;31m \u001b[0mmy_string\u001b[0m\u001b[0;34m[\u001b[0m\u001b[0;34m-\u001b[0m\u001b[0;36m1\u001b[0m\u001b[0;34m]\u001b[0m \u001b[0;34m=\u001b[0m \u001b[0;34m'!'\u001b[0m\u001b[0;34m\u001b[0m\u001b[0;34m\u001b[0m\u001b[0m\n\u001b[0m",
            "\u001b[0;31mTypeError\u001b[0m: 'str' object does not support item assignment"
          ]
        }
      ]
    },
    {
      "cell_type": "markdown",
      "metadata": {
        "id": "SFgwtcgtwPDu"
      },
      "source": [
        "**Практика**.\n",
        "Дана переменная, в которой хранится текст из четного числа символов. Напишите код, который выводит на экран две средних буквы этой строки\n",
        "\n",
        "Примеры работы программы:\n",
        "\n",
        "`word = 'test'`  \n",
        "Результат:  \n",
        "`es`"
      ]
    },
    {
      "cell_type": "code",
      "metadata": {
        "id": "3P6QEr_wZY28"
      },
      "source": [
        "word = 'testerer'"
      ],
      "execution_count": null,
      "outputs": []
    },
    {
      "cell_type": "code",
      "metadata": {
        "id": "qMui6ECXwPDu",
        "colab": {
          "base_uri": "https://localhost:8080/"
        },
        "outputId": "d11adf6d-41fe-42ec-9924-f3308822d40b"
      },
      "source": [
        "a = int(len(word) / 2) \n",
        "print(word[a - 1 : a + 1]) "
      ],
      "execution_count": null,
      "outputs": [
        {
          "output_type": "stream",
          "name": "stdout",
          "text": [
            "te\n"
          ]
        }
      ]
    },
    {
      "cell_type": "code",
      "source": [
        "# a = int(len(word)) \n",
        "# print(word[a // 2 - 1: 2]) "
      ],
      "metadata": {
        "colab": {
          "base_uri": "https://localhost:8080/"
        },
        "id": "85oyw5tY4lNZ",
        "outputId": "ba84fa23-f33d-4f7a-8290-09a2997cd416"
      },
      "execution_count": null,
      "outputs": [
        {
          "output_type": "stream",
          "name": "stdout",
          "text": [
            "\n"
          ]
        }
      ]
    },
    {
      "cell_type": "code",
      "source": [
        "print(word[(int(len(word) / 2)-1) : (int(len(word) / 2)+1)]) "
      ],
      "metadata": {
        "id": "mLe6T4_F428a",
        "outputId": "233945a6-efcd-43b6-c746-a7773a83e875",
        "colab": {
          "base_uri": "https://localhost:8080/"
        }
      },
      "execution_count": null,
      "outputs": [
        {
          "output_type": "stream",
          "name": "stdout",
          "text": [
            "te\n"
          ]
        }
      ]
    },
    {
      "cell_type": "markdown",
      "metadata": {
        "id": "nLrBxG2UuXqQ"
      },
      "source": [
        "## Рекомендуемые материалы\n",
        "\n",
        "1. Тренажеры:\n",
        "  - hackerrank.com\n",
        "  - checkio.org\n",
        "  - leetcode.com\n",
        "  - codewars.com\n",
        "  - luxcity.geecko.com\n",
        "\n",
        "2. Литература:\n",
        " - А Byte of Python [англ. версия](https://python.swaroopch.com/), [рус. перевод](https://wombat.org.ua/AByteOfPython/AByteofPythonRussian-2.02.pdf). Легально, бесплатно, без СМС и регистрации.\n",
        " - Адитья Бхаргава, Грокаем алгоритмы. [На бумаге](https://bit.ly/3c4Drq3), [Электронная](https://bit.ly/3IWxklj). Бесплатно сами.\n",
        "\n"
      ]
    },
    {
      "cell_type": "markdown",
      "metadata": {
        "id": "n0u7ea-9TC6U"
      },
      "source": [
        "**Установка  и настройка Anaconda**\n",
        "\n",
        "\n",
        "https://www.anaconda.com/distribution/\n",
        "\n",
        "1. Запустите скачанный инсталлятор. В первом появившемся окне необходимо нажать “Next”.\n",
        "2. Далее следует принять лицензионное соглашение.\n",
        "3. Выберете одну из опций установки:\n",
        "\n",
        "    * Just Me – только для пользователя, запустившего установку;\n",
        "    * All Users – для всех пользователей. (для тех, кто планирует выйти за пределы анализа данных)\n",
        "    \n",
        "4. Укажите путь, по которому будет установлена Anaconda.\n",
        "5. Укажите дополнительные опции:\n",
        "\n",
        "    * Add Anaconda to the system PATH environment variable – добавить Anaconda в системную переменную PATH\n",
        "    * Register Anaconda as the system Python  – использовать Anaconda, как интерпретатор Python по умолчанию.\n",
        "\n",
        "6. Для начала установки нажмите на кнопку “Install”\n",
        "7. После установки программы запустите Jupyter Notebook  (наберите его в поиске)\n",
        "8. В результате запустится веб-сервер и среда разработки в браузере.\n",
        "9. Создайте ноутбук для разработки, для этого нажмите на кнопку New (в правом углу окна) и в появившемся списке выберете Python.\n"
      ]
    },
    {
      "cell_type": "markdown",
      "metadata": {
        "id": "7EGuFGDPuVom"
      },
      "source": [
        "# Спасибо за внимание! Буду рад ответить на ваши вопросы\n",
        "Форма ОС: https://forms.gle/y8xaFwJqtbFSjUeG8"
      ]
    }
  ]
}