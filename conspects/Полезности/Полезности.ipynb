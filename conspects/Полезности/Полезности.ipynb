{
 "cells": [
  {
   "cell_type": "markdown",
   "metadata": {},
   "source": [
    "Метод Format"
   ]
  },
  {
   "cell_type": "code",
   "execution_count": 2,
   "metadata": {},
   "outputs": [
    {
     "name": "stdout",
     "output_type": "stream",
     "text": [
      "the type of a is: <class 'str'>\n"
     ]
    }
   ],
   "source": [
    "a = 'string'\n",
    "print('the type of {} is: {}'.format('a', type(a)))"
   ]
  },
  {
   "cell_type": "code",
   "execution_count": 3,
   "metadata": {},
   "outputs": [
    {
     "name": "stdout",
     "output_type": "stream",
     "text": [
      "5 + 6 = 11\n"
     ]
    }
   ],
   "source": [
    "b = 5\n",
    "c = 6\n",
    "print('{} + {} = {}'.format(b,c,b+c))"
   ]
  },
  {
   "cell_type": "code",
   "execution_count": 6,
   "metadata": {},
   "outputs": [
    {
     "name": "stdout",
     "output_type": "stream",
     "text": [
      "10 + 7 = 17\n"
     ]
    }
   ],
   "source": [
    "a = int(input('a ='))\n",
    "b = int(input('b ='))\n",
    "\n",
    "print('{} + {} = {}'.format(a,b,a+b))"
   ]
  },
  {
   "cell_type": "markdown",
   "metadata": {},
   "source": [
    "f-строки"
   ]
  },
  {
   "cell_type": "code",
   "execution_count": 5,
   "metadata": {},
   "outputs": [
    {
     "name": "stdout",
     "output_type": "stream",
     "text": [
      "My name is Kirill Zhdanov. I earn 170,000 rub\n"
     ]
    }
   ],
   "source": [
    "name = 'Kirill'\n",
    "surname = 'Zhdanov'\n",
    "salary = 170000\n",
    "my_str = f'My name is {name.capitalize()} {surname.capitalize()}. I earn {salary :,} rub'\n",
    "print(my_str)"
   ]
  },
  {
   "cell_type": "code",
   "execution_count": 8,
   "metadata": {},
   "outputs": [
    {
     "name": "stdout",
     "output_type": "stream",
     "text": [
      "the wieight of Pluto is (0.250%)\n"
     ]
    }
   ],
   "source": [
    "Pluto_weight = 13 * 10**22\n",
    "Earth_weight = 52 * 10**24\n",
    "print(f'the wieight of Pluto is ({Pluto_weight/Earth_weight :.3%})')"
   ]
  },
  {
   "cell_type": "markdown",
   "metadata": {},
   "source": [
    "Модуль числа - abs(-13)"
   ]
  },
  {
   "cell_type": "code",
   "execution_count": 1,
   "metadata": {},
   "outputs": [
    {
     "data": {
      "text/plain": [
       "13"
      ]
     },
     "execution_count": 1,
     "metadata": {},
     "output_type": "execute_result"
    }
   ],
   "source": [
    "abs(-13)"
   ]
  },
  {
   "cell_type": "markdown",
   "metadata": {},
   "source": [
    "Неизменяемые типы данных - строка, числа (int, float), кортежи (tuple, по сути неизменяемые списки), None\n",
    "\n",
    "Также если две неизменяемые переменные имеют одно значения, то они ссылаются на одну и ту же ячеку памяти и при отождествлении оператором \"is\", будет \"True\""
   ]
  },
  {
   "cell_type": "code",
   "execution_count": 1,
   "metadata": {},
   "outputs": [
    {
     "data": {
      "text/plain": [
       "'Abc'"
      ]
     },
     "execution_count": 1,
     "metadata": {},
     "output_type": "execute_result"
    }
   ],
   "source": [
    "string_1 = 'abc'\n",
    "string_1.capitalize()"
   ]
  },
  {
   "cell_type": "code",
   "execution_count": 2,
   "metadata": {},
   "outputs": [
    {
     "data": {
      "text/plain": [
       "'abc'"
      ]
     },
     "execution_count": 2,
     "metadata": {},
     "output_type": "execute_result"
    }
   ],
   "source": [
    "string_1"
   ]
  },
  {
   "cell_type": "code",
   "execution_count": 15,
   "metadata": {},
   "outputs": [
    {
     "name": "stdout",
     "output_type": "stream",
     "text": [
      "ef\n"
     ]
    }
   ],
   "source": [
    "word = 'abcdefghjk'\n",
    "mid = int(len(word)/2)\n",
    "print(word[(mid-1):(mid+1)])\n"
   ]
  },
  {
   "cell_type": "markdown",
   "metadata": {},
   "source": [
    "Изменяемые типы данных - Список, множества, словари (ключами словаря могут быть только кортежи)\n",
    "\n",
    "Если мы к списку применяем метод (list.sort()), тогда изменяется исходный объект, но не создается новый. \n",
    "Если мы к списку применяем функцию (sorted(list)), тогда создается новый объект и его надо сохранить в новую переменную, так как исходный объект не изменится."
   ]
  },
  {
   "cell_type": "markdown",
   "metadata": {},
   "source": [
    "Если мы в изменяемых типах данных создадим новый объект через присваивание уже существующего, то это останется тот же объект в памяти с ссылками через 2 переменные."
   ]
  },
  {
   "cell_type": "code",
   "execution_count": 12,
   "metadata": {},
   "outputs": [
    {
     "name": "stdout",
     "output_type": "stream",
     "text": [
      "140322536458432\n",
      "140322536458432\n"
     ]
    }
   ],
   "source": [
    "#example\n",
    "a = ['a', 'b', 'c']\n",
    "b = a\n",
    "a.append('d')\n",
    "print(id(a))\n",
    "print(id(b))"
   ]
  },
  {
   "cell_type": "markdown",
   "metadata": {},
   "source": [
    "в неизменяемых типах данных через присваивание создается новый объект, занимающий новую ячейку памяти"
   ]
  },
  {
   "cell_type": "code",
   "execution_count": 13,
   "metadata": {},
   "outputs": [
    {
     "name": "stdout",
     "output_type": "stream",
     "text": [
      "140322580271472\n",
      "140322229583472\n"
     ]
    }
   ],
   "source": [
    "a = ('abc')\n",
    "b = a\n",
    "b = b+a\n",
    "print(id(a))\n",
    "print(id(b))"
   ]
  },
  {
   "cell_type": "code",
   "execution_count": 14,
   "metadata": {},
   "outputs": [
    {
     "name": "stdout",
     "output_type": "stream",
     "text": [
      "['a', 'b', 'c', 'd']\n",
      "['a', 'b', 'c']\n"
     ]
    }
   ],
   "source": [
    "# для создания нового изменяемого объекта необходимо:\n",
    "#option 1\n",
    "\n",
    "a = ['a', 'b', 'c']\n",
    "b = list(a)\n",
    "a.append('d')\n",
    "print(a)\n",
    "print(b)"
   ]
  },
  {
   "cell_type": "code",
   "execution_count": 16,
   "metadata": {},
   "outputs": [
    {
     "name": "stdout",
     "output_type": "stream",
     "text": [
      "['a', 'b', 'c', 'd']\n",
      "['a', 'b', 'c']\n"
     ]
    }
   ],
   "source": [
    "#option 2\n",
    "\n",
    "a = ['a', 'b', 'c']\n",
    "b = a.copy()\n",
    "a.append('d')\n",
    "print(a)\n",
    "print(b)"
   ]
  },
  {
   "cell_type": "markdown",
   "metadata": {},
   "source": [
    "Объединение множеств можно осущствлять либо с помощью метода union, либо с помощью логического \"или\" - '|'\n",
    "\n",
    "Пересечение множеств с помощью метода intersaction or \"&\"\n",
    "\n",
    "Того что нет на пересечении у множеств, (что выходит за область перечения) можно найти методом symmetric_difference or \"^\"\n",
    "\n"
   ]
  },
  {
   "cell_type": "code",
   "execution_count": 50,
   "metadata": {},
   "outputs": [
    {
     "name": "stdout",
     "output_type": "stream",
     "text": [
      "139696316086064\n",
      "139696699023856\n",
      "True\n",
      "False\n"
     ]
    }
   ],
   "source": [
    "a = 'privet!'\n",
    "b = 'privet!'\n",
    "print(id(a))\n",
    "print(id(b))\n",
    "print(a==b)\n",
    "print(a is b)"
   ]
  },
  {
   "cell_type": "markdown",
   "metadata": {},
   "source": [
    "Аргументы функций - *args - неименованные аргументы (упаковвывются в кортеж); **kwargs - именованные аргументы (упаковываются в словарь)"
   ]
  }
 ],
 "metadata": {
  "kernelspec": {
   "display_name": "Python 3.9.7 ('base')",
   "language": "python",
   "name": "python3"
  },
  "language_info": {
   "codemirror_mode": {
    "name": "ipython",
    "version": 3
   },
   "file_extension": ".py",
   "mimetype": "text/x-python",
   "name": "python",
   "nbconvert_exporter": "python",
   "pygments_lexer": "ipython3",
   "version": "3.9.7"
  },
  "orig_nbformat": 4,
  "vscode": {
   "interpreter": {
    "hash": "fd2d63775d6b861368f2b68b88b1b40a35d08c6b96cd47d9eb8c9533c1d8ad02"
   }
  }
 },
 "nbformat": 4,
 "nbformat_minor": 2
}
